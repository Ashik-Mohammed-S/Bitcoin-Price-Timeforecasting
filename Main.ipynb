{
 "cells": [
  {
   "cell_type": "markdown",
   "metadata": {},
   "source": [
    "## Bitcoin-Price-forecasting-Model"
   ]
  },
  {
   "cell_type": "code",
   "execution_count": 23,
   "metadata": {},
   "outputs": [],
   "source": [
    "import pandas as pd\n",
    "import numpy as np \n",
    "import warnings\n",
    "warnings.filterwarnings(\"ignore\")"
   ]
  },
  {
   "cell_type": "code",
   "execution_count": 24,
   "metadata": {},
   "outputs": [
    {
     "data": {
      "text/html": [
       "<div>\n",
       "<style scoped>\n",
       "    .dataframe tbody tr th:only-of-type {\n",
       "        vertical-align: middle;\n",
       "    }\n",
       "\n",
       "    .dataframe tbody tr th {\n",
       "        vertical-align: top;\n",
       "    }\n",
       "\n",
       "    .dataframe thead th {\n",
       "        text-align: right;\n",
       "    }\n",
       "</style>\n",
       "<table border=\"1\" class=\"dataframe\">\n",
       "  <thead>\n",
       "    <tr style=\"text-align: right;\">\n",
       "      <th></th>\n",
       "      <th>Currency</th>\n",
       "      <th>Closing Price (USD)</th>\n",
       "      <th>24h Open (USD)</th>\n",
       "      <th>24h High (USD)</th>\n",
       "      <th>24h Low (USD)</th>\n",
       "    </tr>\n",
       "    <tr>\n",
       "      <th>Date</th>\n",
       "      <th></th>\n",
       "      <th></th>\n",
       "      <th></th>\n",
       "      <th></th>\n",
       "      <th></th>\n",
       "    </tr>\n",
       "  </thead>\n",
       "  <tbody>\n",
       "    <tr>\n",
       "      <th>2013-10-01</th>\n",
       "      <td>BTC</td>\n",
       "      <td>123.65499</td>\n",
       "      <td>124.30466</td>\n",
       "      <td>124.75166</td>\n",
       "      <td>122.56349</td>\n",
       "    </tr>\n",
       "    <tr>\n",
       "      <th>2013-10-02</th>\n",
       "      <td>BTC</td>\n",
       "      <td>125.45500</td>\n",
       "      <td>123.65499</td>\n",
       "      <td>125.75850</td>\n",
       "      <td>123.63383</td>\n",
       "    </tr>\n",
       "    <tr>\n",
       "      <th>2013-10-03</th>\n",
       "      <td>BTC</td>\n",
       "      <td>108.58483</td>\n",
       "      <td>125.45500</td>\n",
       "      <td>125.66566</td>\n",
       "      <td>83.32833</td>\n",
       "    </tr>\n",
       "    <tr>\n",
       "      <th>2013-10-04</th>\n",
       "      <td>BTC</td>\n",
       "      <td>118.67466</td>\n",
       "      <td>108.58483</td>\n",
       "      <td>118.67500</td>\n",
       "      <td>107.05816</td>\n",
       "    </tr>\n",
       "    <tr>\n",
       "      <th>2013-10-05</th>\n",
       "      <td>BTC</td>\n",
       "      <td>121.33866</td>\n",
       "      <td>118.67466</td>\n",
       "      <td>121.93633</td>\n",
       "      <td>118.00566</td>\n",
       "    </tr>\n",
       "  </tbody>\n",
       "</table>\n",
       "</div>"
      ],
      "text/plain": [
       "           Currency  Closing Price (USD)  24h Open (USD)  24h High (USD)  \\\n",
       "Date                                                                       \n",
       "2013-10-01      BTC            123.65499       124.30466       124.75166   \n",
       "2013-10-02      BTC            125.45500       123.65499       125.75850   \n",
       "2013-10-03      BTC            108.58483       125.45500       125.66566   \n",
       "2013-10-04      BTC            118.67466       108.58483       118.67500   \n",
       "2013-10-05      BTC            121.33866       118.67466       121.93633   \n",
       "\n",
       "            24h Low (USD)  \n",
       "Date                       \n",
       "2013-10-01      122.56349  \n",
       "2013-10-02      123.63383  \n",
       "2013-10-03       83.32833  \n",
       "2013-10-04      107.05816  \n",
       "2013-10-05      118.00566  "
      ]
     },
     "execution_count": 24,
     "metadata": {},
     "output_type": "execute_result"
    }
   ],
   "source": [
    "#let's read in our bitcoin data and parse the dates\n",
    "df = pd.read_csv(\"C:\\\\Users\\\\moham\\\\Downloads\\\\projects\\\\Bitcoin-Price-Timeforecasting\\\\BTC_USD_2013-10-01_2021-05-18-CoinDesk.csv\",\n",
    "                 parse_dates = [\"Date\"],\n",
    "                 index_col = [\"Date\"]) #parse the date column and tell pandas column 1 is datetime\n",
    "\n",
    "df.head()"
   ]
  },
  {
   "cell_type": "code",
   "execution_count": 25,
   "metadata": {},
   "outputs": [
    {
     "name": "stdout",
     "output_type": "stream",
     "text": [
      "<class 'pandas.core.frame.DataFrame'>\n",
      "DatetimeIndex: 2787 entries, 2013-10-01 to 2021-05-18\n",
      "Data columns (total 5 columns):\n",
      " #   Column               Non-Null Count  Dtype  \n",
      "---  ------               --------------  -----  \n",
      " 0   Currency             2787 non-null   object \n",
      " 1   Closing Price (USD)  2787 non-null   float64\n",
      " 2   24h Open (USD)       2787 non-null   float64\n",
      " 3   24h High (USD)       2787 non-null   float64\n",
      " 4   24h Low (USD)        2787 non-null   float64\n",
      "dtypes: float64(4), object(1)\n",
      "memory usage: 130.6+ KB\n"
     ]
    }
   ],
   "source": [
    "df.info()"
   ]
  },
  {
   "cell_type": "markdown",
   "metadata": {},
   "source": [
    "We've collected the historical price of Bitcoin for the past 8 years but there are only 2787 samples.\n",
    "\n",
    "Typically deep learning models usually have large sample size ranging from 100 thousands to millions.\n",
    "\n",
    "The Seasonality of a time series dataset is referred as the number of samples per year. So for our Bitcoin data, it has a seasonality of daily or value of 365 because we collect one sample per day meaning we'll get 365 samples per year"
   ]
  },
  {
   "cell_type": "code",
   "execution_count": 26,
   "metadata": {},
   "outputs": [
    {
     "data": {
      "text/html": [
       "<div>\n",
       "<style scoped>\n",
       "    .dataframe tbody tr th:only-of-type {\n",
       "        vertical-align: middle;\n",
       "    }\n",
       "\n",
       "    .dataframe tbody tr th {\n",
       "        vertical-align: top;\n",
       "    }\n",
       "\n",
       "    .dataframe thead th {\n",
       "        text-align: right;\n",
       "    }\n",
       "</style>\n",
       "<table border=\"1\" class=\"dataframe\">\n",
       "  <thead>\n",
       "    <tr style=\"text-align: right;\">\n",
       "      <th></th>\n",
       "      <th>Price</th>\n",
       "    </tr>\n",
       "    <tr>\n",
       "      <th>Date</th>\n",
       "      <th></th>\n",
       "    </tr>\n",
       "  </thead>\n",
       "  <tbody>\n",
       "    <tr>\n",
       "      <th>2013-10-01</th>\n",
       "      <td>123.65499</td>\n",
       "    </tr>\n",
       "    <tr>\n",
       "      <th>2013-10-02</th>\n",
       "      <td>125.45500</td>\n",
       "    </tr>\n",
       "    <tr>\n",
       "      <th>2013-10-03</th>\n",
       "      <td>108.58483</td>\n",
       "    </tr>\n",
       "    <tr>\n",
       "      <th>2013-10-04</th>\n",
       "      <td>118.67466</td>\n",
       "    </tr>\n",
       "    <tr>\n",
       "      <th>2013-10-05</th>\n",
       "      <td>121.33866</td>\n",
       "    </tr>\n",
       "    <tr>\n",
       "      <th>...</th>\n",
       "      <td>...</td>\n",
       "    </tr>\n",
       "    <tr>\n",
       "      <th>2021-05-14</th>\n",
       "      <td>49764.13208</td>\n",
       "    </tr>\n",
       "    <tr>\n",
       "      <th>2021-05-15</th>\n",
       "      <td>50032.69314</td>\n",
       "    </tr>\n",
       "    <tr>\n",
       "      <th>2021-05-16</th>\n",
       "      <td>47885.62525</td>\n",
       "    </tr>\n",
       "    <tr>\n",
       "      <th>2021-05-17</th>\n",
       "      <td>45604.61575</td>\n",
       "    </tr>\n",
       "    <tr>\n",
       "      <th>2021-05-18</th>\n",
       "      <td>43144.47129</td>\n",
       "    </tr>\n",
       "  </tbody>\n",
       "</table>\n",
       "<p>2787 rows × 1 columns</p>\n",
       "</div>"
      ],
      "text/plain": [
       "                  Price\n",
       "Date                   \n",
       "2013-10-01    123.65499\n",
       "2013-10-02    125.45500\n",
       "2013-10-03    108.58483\n",
       "2013-10-04    118.67466\n",
       "2013-10-05    121.33866\n",
       "...                 ...\n",
       "2021-05-14  49764.13208\n",
       "2021-05-15  50032.69314\n",
       "2021-05-16  47885.62525\n",
       "2021-05-17  45604.61575\n",
       "2021-05-18  43144.47129\n",
       "\n",
       "[2787 rows x 1 columns]"
      ]
     },
     "execution_count": 26,
     "metadata": {},
     "output_type": "execute_result"
    }
   ],
   "source": [
    "# only want closing price for each day\n",
    "bitcoin_prices = pd.DataFrame(df[\"Closing Price (USD)\"]).rename(columns = {\"Closing Price (USD)\":\"Price\"})\n",
    "bitcoin_prices"
   ]
  },
  {
   "cell_type": "code",
   "execution_count": 27,
   "metadata": {},
   "outputs": [],
   "source": [
    "import matplotlib.pyplot as plt"
   ]
  },
  {
   "cell_type": "code",
   "execution_count": 28,
   "metadata": {},
   "outputs": [
    {
     "data": {
      "text/plain": [
       "Text(0.5, 1.0, 'Price of Bitcoin from 1 oct 2013 to 18 May 2021')"
      ]
     },
     "execution_count": 28,
     "metadata": {},
     "output_type": "execute_result"
    },
    {
     "data": {
      "image/png": "[encoded data removed]",
      "text/plain": [
       "<Figure size 1000x700 with 1 Axes>"
      ]
     },
     "metadata": {},
     "output_type": "display_data"
    }
   ],
   "source": [
    "bitcoin_prices.plot(figsize = (10, 7))\n",
    "plt.ylabel(\"BTC Price\")\n",
    "plt.title(\"Price of Bitcoin from 1 oct 2013 to 18 May 2021\", fontsize = 16)"
   ]
  },
  {
   "cell_type": "code",
   "execution_count": 29,
   "metadata": {},
   "outputs": [
    {
     "data": {
      "text/html": [
       "<div>\n",
       "<style scoped>\n",
       "    .dataframe tbody tr th:only-of-type {\n",
       "        vertical-align: middle;\n",
       "    }\n",
       "\n",
       "    .dataframe tbody tr th {\n",
       "        vertical-align: top;\n",
       "    }\n",
       "\n",
       "    .dataframe thead th {\n",
       "        text-align: right;\n",
       "    }\n",
       "</style>\n",
       "<table border=\"1\" class=\"dataframe\">\n",
       "  <thead>\n",
       "    <tr style=\"text-align: right;\">\n",
       "      <th></th>\n",
       "      <th>Price</th>\n",
       "    </tr>\n",
       "  </thead>\n",
       "  <tbody>\n",
       "    <tr>\n",
       "      <th>count</th>\n",
       "      <td>2787.000000</td>\n",
       "    </tr>\n",
       "    <tr>\n",
       "      <th>mean</th>\n",
       "      <td>6529.845141</td>\n",
       "    </tr>\n",
       "    <tr>\n",
       "      <th>std</th>\n",
       "      <td>10887.847444</td>\n",
       "    </tr>\n",
       "    <tr>\n",
       "      <th>min</th>\n",
       "      <td>108.584830</td>\n",
       "    </tr>\n",
       "    <tr>\n",
       "      <th>25%</th>\n",
       "      <td>460.087500</td>\n",
       "    </tr>\n",
       "    <tr>\n",
       "      <th>50%</th>\n",
       "      <td>2780.182500</td>\n",
       "    </tr>\n",
       "    <tr>\n",
       "      <th>75%</th>\n",
       "      <td>8506.923720</td>\n",
       "    </tr>\n",
       "    <tr>\n",
       "      <th>max</th>\n",
       "      <td>63346.789040</td>\n",
       "    </tr>\n",
       "  </tbody>\n",
       "</table>\n",
       "</div>"
      ],
      "text/plain": [
       "              Price\n",
       "count   2787.000000\n",
       "mean    6529.845141\n",
       "std    10887.847444\n",
       "min      108.584830\n",
       "25%      460.087500\n",
       "50%     2780.182500\n",
       "75%     8506.923720\n",
       "max    63346.789040"
      ]
     },
     "execution_count": 29,
     "metadata": {},
     "output_type": "execute_result"
    }
   ],
   "source": [
    "bitcoin_prices.describe()"
   ]
  },
  {
   "cell_type": "markdown",
   "metadata": {},
   "source": [
    "Dataset doesn't have any missing values or other issues we can go ahead with model building."
   ]
  },
  {
   "cell_type": "markdown",
   "metadata": {},
   "source": [
    "#### Train-Test Split"
   ]
  },
  {
   "cell_type": "code",
   "execution_count": 30,
   "metadata": {},
   "outputs": [],
   "source": [
    "from sklearn.model_selection import train_test_split"
   ]
  },
  {
   "cell_type": "code",
   "execution_count": 31,
   "metadata": {},
   "outputs": [
    {
     "data": {
      "text/plain": [
       "(array(['2013-10-01T00:00:00.000000000', '2013-10-02T00:00:00.000000000',\n",
       "        '2013-10-03T00:00:00.000000000', '2013-10-04T00:00:00.000000000',\n",
       "        '2013-10-05T00:00:00.000000000', '2013-10-06T00:00:00.000000000',\n",
       "        '2013-10-07T00:00:00.000000000', '2013-10-08T00:00:00.000000000',\n",
       "        '2013-10-09T00:00:00.000000000', '2013-10-10T00:00:00.000000000'],\n",
       "       dtype='datetime64[ns]'),\n",
       " array([123.65499, 125.455  , 108.58483, 118.67466, 121.33866, 120.65533,\n",
       "        121.795  , 123.033  , 124.049  , 125.96116]))"
      ]
     },
     "execution_count": 31,
     "metadata": {},
     "output_type": "execute_result"
    }
   ],
   "source": [
    "#get bitcoin date array\n",
    "timesteps = bitcoin_prices.index.to_numpy()\n",
    "prices = bitcoin_prices[\"Price\"].to_numpy()\n",
    "\n",
    "timesteps[:10],  prices[:10]"
   ]
  },
  {
   "cell_type": "code",
   "execution_count": 32,
   "metadata": {},
   "outputs": [
    {
     "data": {
      "text/plain": [
       "(2229, 2229, 558, 558)"
      ]
     },
     "execution_count": 32,
     "metadata": {},
     "output_type": "execute_result"
    }
   ],
   "source": [
    "# create train and test splits the right way for the time series data\n",
    "split_size = int(0.8*len(prices)) #80%train 20% test\n",
    "\n",
    "#create train data splits (everything before the split)\n",
    "x_train, y_train = timesteps[:split_size], prices[:split_size]\n",
    "\n",
    "#create test data splits (everything  beyond the split)\n",
    "x_test, y_test = timesteps[split_size:], prices[split_size:]\n",
    "\n",
    "len(x_train), len(y_train), len(x_test), len(y_test)"
   ]
  },
  {
   "cell_type": "code",
   "execution_count": 33,
   "metadata": {},
   "outputs": [
    {
     "data": {
      "image/png": "[encoded data removed]",
      "text/plain": [
       "<Figure size 1400x700 with 1 Axes>"
      ]
     },
     "metadata": {},
     "output_type": "display_data"
    }
   ],
   "source": [
    "#plotting train test split\n",
    "plt.figure(figsize = (14, 7))\n",
    "plt.scatter(x_train, y_train, s = 5, label = \"Train data\")\n",
    "plt.scatter(x_test, y_test, s = 5, label = \"test data\")\n",
    "plt.xlabel(\"Date\")\n",
    "plt.xticks(rotation=45, ha=\"right\")\n",
    "plt.legend(fontsize = 14)\n",
    "plt.show()"
   ]
  },
  {
   "cell_type": "code",
   "execution_count": 34,
   "metadata": {},
   "outputs": [],
   "source": [
    "#create a function to plot time series data\n",
    "def plot_time_series(timesteps, values, fomrat = \".\", start = 0, end = None, label = None):\n",
    "  \"\"\"\n",
    "  plots timesteps (a seires of points in time) against values (a series of valuesacross timesteps)\n",
    "\n",
    "  Parameters\n",
    "  -----------\n",
    "  timesteps : array of timestep values\n",
    "  value : array of values across time\n",
    "  format : style of plot, default \".\"\n",
    "  start : where to start the plot (setting a value will index from start of timestep)\n",
    "  end : where to end the plot (similar to start but for the end)\n",
    "  label : label to show on plot about values\n",
    "  \"\"\"\n",
    "\n",
    "  #Plot the series\n",
    "  plt.plot(timesteps[start:end], values[start:end])\n",
    "  plt.xlabel(\"Time\")\n",
    "  plt.ylabel(\"BTC Price\")\n",
    "  plt.legend(fontsize = 14)\n",
    "  plt.grid(True)\n"
   ]
  },
  {
   "cell_type": "code",
   "execution_count": 35,
   "metadata": {},
   "outputs": [
    {
     "name": "stderr",
     "output_type": "stream",
     "text": [
      "No artists with labels found to put in legend.  Note that artists whose label start with an underscore are ignored when legend() is called with no argument.\n",
      "No artists with labels found to put in legend.  Note that artists whose label start with an underscore are ignored when legend() is called with no argument.\n"
     ]
    },
    {
     "data": {
      "image/png": "[encoded data removed]",
      "text/plain": [
       "<Figure size 1000x700 with 1 Axes>"
      ]
     },
     "metadata": {},
     "output_type": "display_data"
    }
   ],
   "source": [
    "#Test our plotting function\n",
    "plt.figure(figsize = (10, 7))\n",
    "plot_time_series(timesteps = x_train,\n",
    "                 values = y_train,\n",
    "                 label = \"train data\")\n",
    "\n",
    "plot_time_series(timesteps = x_test,\n",
    "                 values = y_test,\n",
    "                 label = \"test data\")"
   ]
  },
  {
   "cell_type": "markdown",
   "metadata": {},
   "source": [
    "### Model Building"
   ]
  },
  {
   "cell_type": "markdown",
   "metadata": {},
   "source": [
    "#### Naive forecast"
   ]
  },
  {
   "cell_type": "code",
   "execution_count": 36,
   "metadata": {},
   "outputs": [
    {
     "data": {
      "text/plain": [
       "(array([9226.485821, 8794.358645, 8798.042055, 9081.186878, 8711.534339,\n",
       "        8760.892718, 8749.520591, 8656.970922, 8500.643558, 8469.260899]),\n",
       " array([57107.12067, 58788.20968, 58102.19143, 55715.54665, 56573.55547,\n",
       "        52147.82119, 49764.13208, 50032.69314, 47885.62525, 45604.61575]))"
      ]
     },
     "execution_count": 36,
     "metadata": {},
     "output_type": "execute_result"
    }
   ],
   "source": [
    "#create a naive forecast\n",
    "naive_forecast = y_test[:-1]\n",
    "\n",
    "naive_forecast[:10], naive_forecast[-10:]"
   ]
  },
  {
   "cell_type": "code",
   "execution_count": 37,
   "metadata": {},
   "outputs": [
    {
     "data": {
      "text/plain": [
       "array([58788.20968, 58102.19143, 55715.54665, 56573.55547, 52147.82119,\n",
       "       49764.13208, 50032.69314, 47885.62525, 45604.61575, 43144.47129])"
      ]
     },
     "execution_count": 37,
     "metadata": {},
     "output_type": "execute_result"
    }
   ],
   "source": [
    "y_test[-10:]"
   ]
  },
  {
   "cell_type": "code",
   "execution_count": 38,
   "metadata": {},
   "outputs": [
    {
     "data": {
      "text/plain": [
       "557"
      ]
     },
     "execution_count": 38,
     "metadata": {},
     "output_type": "execute_result"
    }
   ],
   "source": [
    "len(naive_forecast)"
   ]
  },
  {
   "cell_type": "code",
   "execution_count": 39,
   "metadata": {},
   "outputs": [
    {
     "data": {
      "text/plain": [
       "558"
      ]
     },
     "execution_count": 39,
     "metadata": {},
     "output_type": "execute_result"
    }
   ],
   "source": [
    "len(y_test)"
   ]
  },
  {
   "cell_type": "code",
   "execution_count": 40,
   "metadata": {},
   "outputs": [
    {
     "name": "stderr",
     "output_type": "stream",
     "text": [
      "No artists with labels found to put in legend.  Note that artists whose label start with an underscore are ignored when legend() is called with no argument.\n",
      "No artists with labels found to put in legend.  Note that artists whose label start with an underscore are ignored when legend() is called with no argument.\n",
      "No artists with labels found to put in legend.  Note that artists whose label start with an underscore are ignored when legend() is called with no argument.\n",
      "No artists with labels found to put in legend.  Note that artists whose label start with an underscore are ignored when legend() is called with no argument.\n"
     ]
    },
    {
     "data": {
      "image/png": "[encoded data removed]",
      "text/plain": [
       "<Figure size 1000x700 with 1 Axes>"
      ]
     },
     "metadata": {},
     "output_type": "display_data"
    }
   ],
   "source": [
    "#plot naive forecast\n",
    "plt.figure(figsize = (10, 7))\n",
    "plt.legend()\n",
    "plot_time_series(timesteps = x_train, values = y_train, label = \"Train_data\")\n",
    "plot_time_series(timesteps = x_test, values = y_test, label = \"Test_data\")\n",
    "plot_time_series(timesteps = x_test[1:], values = naive_forecast, fomrat=\".\", label = \"Naive_Forecast\")\n"
   ]
  },
  {
   "cell_type": "markdown",
   "metadata": {},
   "source": [
    "#### Model Evaluation"
   ]
  },
  {
   "cell_type": "code",
   "execution_count": 42,
   "metadata": {},
   "outputs": [
    {
     "name": "stdout",
     "output_type": "stream",
     "text": [
      "WARNING:tensorflow:From c:\\Users\\moham\\anaconda3\\Lib\\site-packages\\keras\\src\\losses.py:2976: The name tf.losses.sparse_softmax_cross_entropy is deprecated. Please use tf.compat.v1.losses.sparse_softmax_cross_entropy instead.\n",
      "\n"
     ]
    }
   ],
   "source": [
    "import tensorflow as tf"
   ]
  },
  {
   "cell_type": "code",
   "execution_count": 43,
   "metadata": {},
   "outputs": [],
   "source": [
    "# MASE Implementation\n",
    "def mean_absolute_scaled_error(y_true, y_pred):\n",
    "  #Implement MASE (assuming no seasonality of data)\n",
    "  mae = tf.reduce_mean(tf.abs(y_true - y_pred))\n",
    "  #Find MAE of naive forecast (no seasonality)\n",
    "  mae_naive_no_season = tf.reduce_mean(tf.abs(y_true[1:] - y_true[:-1]))\n",
    "\n",
    "  return mae / mae_naive_no_season"
   ]
  },
  {
   "cell_type": "code",
   "execution_count": 44,
   "metadata": {},
   "outputs": [
    {
     "data": {
      "text/plain": [
       "0.9995699939172403"
      ]
     },
     "execution_count": 44,
     "metadata": {},
     "output_type": "execute_result"
    }
   ],
   "source": [
    "mean_absolute_scaled_error(y_true = y_test[1:],\n",
    "                           y_pred = naive_forecast).numpy()"
   ]
  },
  {
   "cell_type": "code",
   "execution_count": 45,
   "metadata": {},
   "outputs": [],
   "source": [
    "# create a function to take in model predictions and truth values and return evaluated results in a dictionary\n",
    "def evaluate_preds(y_true, y_pred):\n",
    "  #make sure float32 datatype (for metric calculation)\\\n",
    "  y_true = tf.cast(y_true, dtype = tf.float32)\n",
    "  y_pred = tf.cast(y_pred, dtype = tf.float32)\n",
    "\n",
    "\n",
    "  #Calculate various evaluation metrics\n",
    "  mae = tf.keras.metrics.mean_absolute_error(y_true, y_pred)\n",
    "  mse = tf.keras.metrics.mean_squared_error(y_true, y_pred)\n",
    "  rmse = tf.sqrt(mse)\n",
    "  mape = tf.keras.metrics.mean_absolute_percentage_error(y_true, y_pred)\n",
    "  mase = mean_absolute_scaled_error(y_true, y_pred)\n",
    "\n",
    "  return {\"mae\": mae.numpy(),\n",
    "          \"mse\": mse.numpy(),\n",
    "          \"rmse\": rmse.numpy(),\n",
    "          \"mape\": mape.numpy(),\n",
    "          \"mase\": mase.numpy()}"
   ]
  },
  {
   "cell_type": "code",
   "execution_count": 46,
   "metadata": {},
   "outputs": [
    {
     "data": {
      "text/plain": [
       "{'mae': 567.9802,\n",
       " 'mse': 1147547.0,\n",
       " 'rmse': 1071.2362,\n",
       " 'mape': 2.516525,\n",
       " 'mase': 0.99957}"
      ]
     },
     "execution_count": 46,
     "metadata": {},
     "output_type": "execute_result"
    }
   ],
   "source": [
    "naive_results = evaluate_preds(y_true = y_test[1:],\n",
    "                               y_pred = y_test[:-1])\n",
    "\n",
    "naive_results"
   ]
  },
  {
   "cell_type": "markdown",
   "metadata": {},
   "source": [
    "#### Windowing our dataset"
   ]
  },
  {
   "cell_type": "markdown",
   "metadata": {},
   "source": [
    "windowing our time series dataset to turn our data into supervised learning problem\n",
    "\n",
    "windowing for one week\n",
    "[0, 1, 2, 3, 4, 5, 6] -> [7]\n",
    "[1, 2, 3, 4, 5, 6, 7] -> [8]\n",
    "[2, 3, 4, 5, 6, 7, 8] -> [9]"
   ]
  },
  {
   "cell_type": "code",
   "execution_count": 47,
   "metadata": {},
   "outputs": [
    {
     "data": {
      "text/plain": [
       "2229"
      ]
     },
     "execution_count": 47,
     "metadata": {},
     "output_type": "execute_result"
    }
   ],
   "source": [
    "#given\n",
    "len(y_train)"
   ]
  },
  {
   "cell_type": "code",
   "execution_count": 50,
   "metadata": {},
   "outputs": [
    {
     "name": "stdout",
     "output_type": "stream",
     "text": [
      "We want to use [123.65499 125.455   108.58483 118.67466 121.33866 120.65533 121.795  ]\n",
      "to predict 123.033\n"
     ]
    }
   ],
   "source": [
    "print(f\"We want to use {prices[:7]}\\nto predict {prices[7]}\")"
   ]
  },
  {
   "cell_type": "code",
   "execution_count": 51,
   "metadata": {},
   "outputs": [],
   "source": [
    "# Let's setup global variables for window and horizon size\n",
    "HORIZON = 1 #predict the next one day\n",
    "WINDOW_SIZE = 7 #use  the past week data for this"
   ]
  },
  {
   "cell_type": "code",
   "execution_count": 52,
   "metadata": {},
   "outputs": [],
   "source": [
    "# create function to label windowed data\n",
    "def get_labelled_window(x, horizon = HORIZON):\n",
    "  \"\"\"\n",
    "  Creates labels for windowed dataset.\n",
    "  E.g. if horizon = 1\n",
    "  Input: [0, 1, 2, 3, 4, 5, 6, 7] -> Output:[0, 1, 2, 3, 4, 5, 6]  [7]\n",
    "  \"\"\"\n",
    "  return x[:, :-horizon], x[:, -horizon]"
   ]
  },
  {
   "cell_type": "code",
   "execution_count": 53,
   "metadata": {},
   "outputs": [],
   "source": [
    "z = tf.range(8)+1"
   ]
  },
  {
   "cell_type": "code",
   "execution_count": 54,
   "metadata": {},
   "outputs": [
    {
     "data": {
      "text/plain": [
       "(<tf.Tensor: shape=(7,), dtype=int32, numpy=array([1, 2, 3, 4, 5, 6, 7])>,\n",
       " <tf.Tensor: shape=(), dtype=int32, numpy=8>)"
      ]
     },
     "execution_count": 54,
     "metadata": {},
     "output_type": "execute_result"
    }
   ],
   "source": [
    "z[:-1], z[-1]"
   ]
  },
  {
   "cell_type": "code",
   "execution_count": 55,
   "metadata": {},
   "outputs": [
    {
     "data": {
      "text/plain": [
       "<tf.Tensor: shape=(1, 8), dtype=int32, numpy=array([[1, 2, 3, 4, 5, 6, 7, 8]])>"
      ]
     },
     "execution_count": 55,
     "metadata": {},
     "output_type": "execute_result"
    }
   ],
   "source": [
    "tf.expand_dims(tf.range(8)+1, axis = 0)"
   ]
  },
  {
   "cell_type": "code",
   "execution_count": 56,
   "metadata": {},
   "outputs": [
    {
     "data": {
      "text/plain": [
       "(<tf.Tensor: shape=(1, 7), dtype=int32, numpy=array([[1, 2, 3, 4, 5, 6, 7]])>,\n",
       " <tf.Tensor: shape=(1,), dtype=int32, numpy=array([8])>)"
      ]
     },
     "execution_count": 56,
     "metadata": {},
     "output_type": "execute_result"
    }
   ],
   "source": [
    "# test out the window lebelling function\n",
    "test_window, test_label = get_labelled_window(tf.expand_dims(tf.range(8)+1, axis = 0))\n",
    "test_window, test_label\n"
   ]
  },
  {
   "cell_type": "markdown",
   "metadata": {},
   "source": [
    "We've got a way to label our windowed data.\n",
    "However , this only works in a small scale.\n",
    "We need to find a way to do this across the entire time series.\n",
    "We could do this with python for loops, however fo rlarge timee series data that would be quite slow.\n",
    "To speed things up, we'll leverage NUmpy's array indexing."
   ]
  },
  {
   "cell_type": "code",
   "execution_count": 57,
   "metadata": {},
   "outputs": [],
   "source": [
    "'''Creating a function which will:\n",
    "1. Createa windowstep of specific window size(e.g. [0, 1, 2, 3, 4, 5, 6])\n",
    "2. Use Numpy indexing to create a 2D array of multpile window steps.\n",
    "```\n",
    "[[0, 1, 2, 3, 4, 5, 6],\n",
    "[1, 2, 3, 4, 5, 6, 7],\n",
    "]2, 3, 4, 5, 6, 7, 8]]\n",
    "```\n",
    "3. Uses the 2D array of multiple window steps (from 2) to index on a target series(e.g. the historical price of bitocin).\n",
    "4. Uses our `get_labelled_window()` function we created to turn the window steps into a windows with a specific horizon'''\n",
    "import numpy as np\n",
    "\n",
    "# create function to view NumPy arrays as windows\n",
    "def make_windows(x, window_size = WINDOW_SIZE, horizon = HORIZON):\n",
    "  \"\"\"\n",
    "  Turns a 1D array into a 2D array of sequential labelled windows of window_szie with horizon size labels.\n",
    "  \"\"\"\n",
    "  #1. create a window of specific wondow size\n",
    "  window_step = np.expand_dims(np.arange(window_size + horizon), axis = 0)\n",
    "\n",
    "  #2. create a 2D array of multiple window steps (minus 1 to account for 0 indexing)\n",
    "  window_indexes = window_step + np.expand_dims(np.arange(len(x) - (window_size + horizon - 1)), axis = 0).T\n",
    "\n",
    "  print(f\"window indexes:\\n {window_indexes, window_indexes.shape}\")\n",
    "\n",
    "\n",
    "  #3. index on the target array (a time series) with 2D array of multiple window steps\n",
    "  windowed_array = x[window_indexes]\n",
    "  #4. get labelled windows\n",
    "  windows, labels = get_labelled_window(windowed_array, horizon = horizon)\n",
    "  return windows, labels\n"
   ]
  },
  {
   "cell_type": "code",
   "execution_count": 58,
   "metadata": {},
   "outputs": [
    {
     "data": {
      "text/plain": [
       "array([[   0],\n",
       "       [   1],\n",
       "       [   2],\n",
       "       ...,\n",
       "       [2777],\n",
       "       [2778],\n",
       "       [2779]])"
      ]
     },
     "execution_count": 58,
     "metadata": {},
     "output_type": "execute_result"
    }
   ],
   "source": [
    "np.expand_dims(np.arange(len(prices) - 7), axis = 0).T"
   ]
  },
  {
   "cell_type": "code",
   "execution_count": 59,
   "metadata": {},
   "outputs": [
    {
     "name": "stdout",
     "output_type": "stream",
     "text": [
      "window indexes:\n",
      " (array([[   0,    1,    2, ...,    5,    6,    7],\n",
      "       [   1,    2,    3, ...,    6,    7,    8],\n",
      "       [   2,    3,    4, ...,    7,    8,    9],\n",
      "       ...,\n",
      "       [2777, 2778, 2779, ..., 2782, 2783, 2784],\n",
      "       [2778, 2779, 2780, ..., 2783, 2784, 2785],\n",
      "       [2779, 2780, 2781, ..., 2784, 2785, 2786]]), (2780, 8))\n"
     ]
    },
    {
     "data": {
      "text/plain": [
       "(2780, 2780)"
      ]
     },
     "execution_count": 59,
     "metadata": {},
     "output_type": "execute_result"
    }
   ],
   "source": [
    "#get the windowed output\n",
    "\n",
    "full_windows, full_labels = make_windows(prices, window_size = WINDOW_SIZE, horizon = HORIZON)\n",
    "len(full_windows), len(full_labels)"
   ]
  },
  {
   "cell_type": "code",
   "execution_count": 60,
   "metadata": {},
   "outputs": [
    {
     "data": {
      "text/plain": [
       "array([125.455  , 108.58483, 118.67466, 121.33866, 120.65533, 121.795  ,\n",
       "       123.033  ])"
      ]
     },
     "execution_count": 60,
     "metadata": {},
     "output_type": "execute_result"
    }
   ],
   "source": [
    "full_windows[1]"
   ]
  },
  {
   "cell_type": "code",
   "execution_count": 61,
   "metadata": {},
   "outputs": [
    {
     "data": {
      "text/plain": [
       "124.049"
      ]
     },
     "execution_count": 61,
     "metadata": {},
     "output_type": "execute_result"
    }
   ],
   "source": [
    "full_labels[1]"
   ]
  },
  {
   "cell_type": "markdown",
   "metadata": {},
   "source": [
    "#### Turning windows into training and test sets"
   ]
  },
  {
   "cell_type": "code",
   "execution_count": 62,
   "metadata": {},
   "outputs": [],
   "source": [
    "# make the train test splits\n",
    "def make_train_test_splits(windows, labels, test_splits = 0.2):\n",
    "  \"\"\"\n",
    "  Splits mmatching pairs into training and testing splits\n",
    "  \"\"\"\n",
    "  split_size = int(len(windows) * (1 - test_splits)) # this will default to 80% train/20% test splits\n",
    "  train_windows = windows[:split_size]\n",
    "  train_labels = labels[:split_size]\n",
    "  test_windows = windows[split_size:]\n",
    "  test_labels = labels[split_size:]\n",
    "\n",
    "  return train_windows, test_windows, train_labels, test_labels"
   ]
  },
  {
   "cell_type": "code",
   "execution_count": 63,
   "metadata": {},
   "outputs": [
    {
     "data": {
      "text/plain": [
       "(2224, 556, 2224, 556)"
      ]
     },
     "execution_count": 63,
     "metadata": {},
     "output_type": "execute_result"
    }
   ],
   "source": [
    "# create train and test windows\n",
    "train_windows, test_windows, train_labels, test_labels = make_train_test_splits(full_windows, full_labels)\n",
    "len(train_windows), len(test_windows), len(train_labels), len(test_labels)"
   ]
  },
  {
   "cell_type": "code",
   "execution_count": 64,
   "metadata": {},
   "outputs": [
    {
     "data": {
      "text/plain": [
       "(array([[123.65499, 125.455  , 108.58483, 118.67466, 121.33866, 120.65533,\n",
       "         121.795  ],\n",
       "        [125.455  , 108.58483, 118.67466, 121.33866, 120.65533, 121.795  ,\n",
       "         123.033  ],\n",
       "        [108.58483, 118.67466, 121.33866, 120.65533, 121.795  , 123.033  ,\n",
       "         124.049  ],\n",
       "        [118.67466, 121.33866, 120.65533, 121.795  , 123.033  , 124.049  ,\n",
       "         125.96116],\n",
       "        [121.33866, 120.65533, 121.795  , 123.033  , 124.049  , 125.96116,\n",
       "         125.27966],\n",
       "        [120.65533, 121.795  , 123.033  , 124.049  , 125.96116, 125.27966,\n",
       "         125.9275 ],\n",
       "        [121.795  , 123.033  , 124.049  , 125.96116, 125.27966, 125.9275 ,\n",
       "         126.38333],\n",
       "        [123.033  , 124.049  , 125.96116, 125.27966, 125.9275 , 126.38333,\n",
       "         135.24199],\n",
       "        [124.049  , 125.96116, 125.27966, 125.9275 , 126.38333, 135.24199,\n",
       "         133.20333],\n",
       "        [125.96116, 125.27966, 125.9275 , 126.38333, 135.24199, 133.20333,\n",
       "         142.76333]]),\n",
       " array([123.033  , 124.049  , 125.96116, 125.27966, 125.9275 , 126.38333,\n",
       "        135.24199, 133.20333, 142.76333, 137.92333]))"
      ]
     },
     "execution_count": 64,
     "metadata": {},
     "output_type": "execute_result"
    }
   ],
   "source": [
    "train_windows[:10], train_labels[:10]"
   ]
  },
  {
   "cell_type": "code",
   "execution_count": 65,
   "metadata": {},
   "outputs": [
    {
     "data": {
      "text/plain": [
       "True"
      ]
     },
     "execution_count": 65,
     "metadata": {},
     "output_type": "execute_result"
    }
   ],
   "source": [
    "# check to see if train labels are the same (before and after window split)\n",
    "np.array_equal (np.squeeze(train_labels[:-HORIZON -1]),y_train[WINDOW_SIZE:])"
   ]
  },
  {
   "cell_type": "code",
   "execution_count": 66,
   "metadata": {},
   "outputs": [
    {
     "data": {
      "text/plain": [
       "array([ 123.65499 ,  125.455   ,  108.58483 , ..., 9369.628081,\n",
       "       9326.599624, 9335.752402])"
      ]
     },
     "execution_count": 66,
     "metadata": {},
     "output_type": "execute_result"
    }
   ],
   "source": [
    "y_train"
   ]
  },
  {
   "cell_type": "code",
   "execution_count": 67,
   "metadata": {},
   "outputs": [
    {
     "data": {
      "text/plain": [
       "array([ 123.033   ,  124.049   ,  125.96116 , ..., 9326.599624,\n",
       "       9335.752402, 9226.485821])"
      ]
     },
     "execution_count": 67,
     "metadata": {},
     "output_type": "execute_result"
    }
   ],
   "source": [
    "np.squeeze(train_labels[:-HORIZON ])"
   ]
  },
  {
   "cell_type": "code",
   "execution_count": 69,
   "metadata": {},
   "outputs": [],
   "source": [
    "#Creating a model check point\n",
    "import os\n",
    "\n",
    "#create a function to implement a MOdelCheckpoint callback with a specific filename.\n",
    "def create_model_checkpoint(model_name,  save_path = \"model_experiments\"):\n",
    "  return tf.keras.callbacks.ModelCheckpoint(filepath = os.path.join(save_path, model_name),\n",
    "                                            save_best_only = True)"
   ]
  },
  {
   "cell_type": "markdown",
   "metadata": {},
   "source": [
    "#### Model 1: Dense model (window = 7, horizon = 1)"
   ]
  },
  {
   "cell_type": "markdown",
   "metadata": {},
   "source": [
    "Our first deep model is going to be a simple dense model:\n",
    "\n",
    "- A single dense layer with 128 units and ReLu activation.\n",
    "- An output layer with linear activation(no activation)\n",
    "- Adam optimisation and MAE loss function\n",
    "- Batch size of 128 (previously we used 32, however our data is quite small, so we can upscale or batch size).\n",
    "- we are going to run for 100 epochs."
   ]
  },
  {
   "cell_type": "code",
   "execution_count": 70,
   "metadata": {},
   "outputs": [
    {
     "name": "stdout",
     "output_type": "stream",
     "text": [
      "WARNING:tensorflow:From c:\\Users\\moham\\anaconda3\\Lib\\site-packages\\keras\\src\\backend.py:873: The name tf.get_default_graph is deprecated. Please use tf.compat.v1.get_default_graph instead.\n",
      "\n",
      "Epoch 1/100\n",
      "WARNING:tensorflow:From c:\\Users\\moham\\anaconda3\\Lib\\site-packages\\keras\\src\\utils\\tf_utils.py:492: The name tf.ragged.RaggedTensorValue is deprecated. Please use tf.compat.v1.ragged.RaggedTensorValue instead.\n",
      "\n",
      "WARNING:tensorflow:From c:\\Users\\moham\\anaconda3\\Lib\\site-packages\\keras\\src\\engine\\base_layer_utils.py:384: The name tf.executing_eagerly_outside_functions is deprecated. Please use tf.compat.v1.executing_eagerly_outside_functions instead.\n",
      "\n",
      " 1/18 [>.............................] - ETA: 14s - loss: 2398.4292 - mae: 2398.4292 - mse: 12004078.0000INFO:tensorflow:Assets written to: model_experiments\\model_1_dense\\assets\n"
     ]
    },
    {
     "name": "stderr",
     "output_type": "stream",
     "text": [
      "INFO:tensorflow:Assets written to: model_experiments\\model_1_dense\\assets\n"
     ]
    },
    {
     "name": "stdout",
     "output_type": "stream",
     "text": [
      "18/18 [==============================] - 2s 43ms/step - loss: 870.3742 - mae: 870.3742 - mse: 2925347.7500 - val_loss: 2316.8086 - val_mae: 2316.8086 - val_mse: 14629882.0000\n",
      "Epoch 2/100\n",
      " 1/18 [>.............................] - ETA: 0s - loss: 375.4598 - mae: 375.4598 - mse: 768196.1250INFO:tensorflow:Assets written to: model_experiments\\model_1_dense\\assets\n"
     ]
    },
    {
     "name": "stderr",
     "output_type": "stream",
     "text": [
      "INFO:tensorflow:Assets written to: model_experiments\\model_1_dense\\assets\n"
     ]
    },
    {
     "name": "stdout",
     "output_type": "stream",
     "text": [
      "18/18 [==============================] - 1s 34ms/step - loss: 282.0904 - mae: 282.0904 - mse: 383536.5312 - val_loss: 1322.7935 - val_mae: 1322.7935 - val_mse: 5832888.0000\n",
      "Epoch 3/100\n",
      " 1/18 [>.............................] - ETA: 0s - loss: 176.6388 - mae: 176.6388 - mse: 117217.1016INFO:tensorflow:Assets written to: model_experiments\\model_1_dense\\assets\n"
     ]
    },
    {
     "name": "stderr",
     "output_type": "stream",
     "text": [
      "INFO:tensorflow:Assets written to: model_experiments\\model_1_dense\\assets\n"
     ]
    },
    {
     "name": "stdout",
     "output_type": "stream",
     "text": [
      "18/18 [==============================] - 0s 25ms/step - loss: 227.9577 - mae: 227.9577 - mse: 264798.1562 - val_loss: 1245.2708 - val_mae: 1245.2708 - val_mse: 4956352.5000\n",
      "Epoch 4/100\n",
      " 1/18 [>.............................] - ETA: 0s - loss: 281.4723 - mae: 281.4723 - mse: 383153.2500INFO:tensorflow:Assets written to: model_experiments\\model_1_dense\\assets\n"
     ]
    },
    {
     "name": "stderr",
     "output_type": "stream",
     "text": [
      "INFO:tensorflow:Assets written to: model_experiments\\model_1_dense\\assets\n"
     ]
    },
    {
     "name": "stdout",
     "output_type": "stream",
     "text": [
      "18/18 [==============================] - 0s 24ms/step - loss: 213.5288 - mae: 213.5288 - mse: 239866.0781 - val_loss: 1234.8910 - val_mae: 1234.8910 - val_mse: 4673809.5000\n",
      "Epoch 5/100\n",
      " 1/18 [>.............................] - ETA: 0s - loss: 208.2438 - mae: 208.2438 - mse: 163970.5938INFO:tensorflow:Assets written to: model_experiments\\model_1_dense\\assets\n"
     ]
    },
    {
     "name": "stderr",
     "output_type": "stream",
     "text": [
      "INFO:tensorflow:Assets written to: model_experiments\\model_1_dense\\assets\n"
     ]
    },
    {
     "name": "stdout",
     "output_type": "stream",
     "text": [
      "18/18 [==============================] - 0s 24ms/step - loss: 208.3350 - mae: 208.3350 - mse: 226700.8438 - val_loss: 1071.4055 - val_mae: 1071.4055 - val_mse: 3825538.5000\n",
      "Epoch 6/100\n",
      " 1/18 [>.............................] - ETA: 0s - loss: 145.1179 - mae: 145.1179 - mse: 70947.6172INFO:tensorflow:Assets written to: model_experiments\\model_1_dense\\assets\n"
     ]
    },
    {
     "name": "stderr",
     "output_type": "stream",
     "text": [
      "INFO:tensorflow:Assets written to: model_experiments\\model_1_dense\\assets\n"
     ]
    },
    {
     "name": "stdout",
     "output_type": "stream",
     "text": [
      "18/18 [==============================] - 0s 23ms/step - loss: 193.9283 - mae: 193.9283 - mse: 191918.5156 - val_loss: 1038.1565 - val_mae: 1038.1565 - val_mse: 3408175.0000\n",
      "Epoch 7/100\n",
      " 1/18 [>.............................] - ETA: 0s - loss: 223.7818 - mae: 223.7818 - mse: 364216.2188INFO:tensorflow:Assets written to: model_experiments\\model_1_dense\\assets\n"
     ]
    },
    {
     "name": "stderr",
     "output_type": "stream",
     "text": [
      "INFO:tensorflow:Assets written to: model_experiments\\model_1_dense\\assets\n"
     ]
    },
    {
     "name": "stdout",
     "output_type": "stream",
     "text": [
      "18/18 [==============================] - 0s 24ms/step - loss: 179.8982 - mae: 179.8982 - mse: 170931.5469 - val_loss: 963.9399 - val_mae: 963.9399 - val_mse: 3125073.0000\n",
      "Epoch 8/100\n",
      " 1/18 [>.............................] - ETA: 0s - loss: 146.6991 - mae: 146.6991 - mse: 83631.8125INFO:tensorflow:Assets written to: model_experiments\\model_1_dense\\assets\n"
     ]
    },
    {
     "name": "stderr",
     "output_type": "stream",
     "text": [
      "INFO:tensorflow:Assets written to: model_experiments\\model_1_dense\\assets\n"
     ]
    },
    {
     "name": "stdout",
     "output_type": "stream",
     "text": [
      "18/18 [==============================] - 0s 24ms/step - loss: 170.3227 - mae: 170.3227 - mse: 155866.9062 - val_loss: 927.0330 - val_mae: 927.0330 - val_mse: 2893854.2500\n",
      "Epoch 9/100\n",
      " 1/18 [>.............................] - ETA: 0s - loss: 141.8502 - mae: 141.8502 - mse: 95449.9062INFO:tensorflow:Assets written to: model_experiments\\model_1_dense\\assets\n"
     ]
    },
    {
     "name": "stderr",
     "output_type": "stream",
     "text": [
      "INFO:tensorflow:Assets written to: model_experiments\\model_1_dense\\assets\n"
     ]
    },
    {
     "name": "stdout",
     "output_type": "stream",
     "text": [
      "18/18 [==============================] - 0s 23ms/step - loss: 166.2726 - mae: 166.2726 - mse: 147715.4531 - val_loss: 890.3323 - val_mae: 890.3323 - val_mse: 2651962.0000\n",
      "Epoch 10/100\n",
      " 1/18 [>.............................] - ETA: 0s - loss: 167.3315 - mae: 167.3315 - mse: 206109.2969INFO:tensorflow:Assets written to: model_experiments\\model_1_dense\\assets\n"
     ]
    },
    {
     "name": "stderr",
     "output_type": "stream",
     "text": [
      "INFO:tensorflow:Assets written to: model_experiments\\model_1_dense\\assets\n"
     ]
    },
    {
     "name": "stdout",
     "output_type": "stream",
     "text": [
      "18/18 [==============================] - 0s 24ms/step - loss: 158.3215 - mae: 158.3215 - mse: 138549.7812 - val_loss: 857.4714 - val_mae: 857.4714 - val_mse: 2445864.5000\n",
      "Epoch 11/100\n",
      " 1/18 [>.............................] - ETA: 0s - loss: 156.8774 - mae: 156.8774 - mse: 112202.7344INFO:tensorflow:Assets written to: model_experiments\\model_1_dense\\assets\n"
     ]
    },
    {
     "name": "stderr",
     "output_type": "stream",
     "text": [
      "INFO:tensorflow:Assets written to: model_experiments\\model_1_dense\\assets\n"
     ]
    },
    {
     "name": "stdout",
     "output_type": "stream",
     "text": [
      "18/18 [==============================] - 0s 24ms/step - loss: 151.0687 - mae: 151.0687 - mse: 127588.5938 - val_loss: 834.2777 - val_mae: 834.2777 - val_mse: 2263950.7500\n",
      "Epoch 12/100\n",
      "18/18 [==============================] - 0s 4ms/step - loss: 145.5745 - mae: 145.5745 - mse: 119222.6172 - val_loss: 861.3926 - val_mae: 861.3926 - val_mse: 2260577.2500\n",
      "Epoch 13/100\n",
      "18/18 [==============================] - 0s 3ms/step - loss: 147.8914 - mae: 147.8914 - mse: 118160.5547 - val_loss: 850.1758 - val_mae: 850.1758 - val_mse: 2186159.2500\n",
      "Epoch 14/100\n",
      " 1/18 [>.............................] - ETA: 0s - loss: 141.0601 - mae: 141.0601 - mse: 84568.9844INFO:tensorflow:Assets written to: model_experiments\\model_1_dense\\assets\n"
     ]
    },
    {
     "name": "stderr",
     "output_type": "stream",
     "text": [
      "INFO:tensorflow:Assets written to: model_experiments\\model_1_dense\\assets\n"
     ]
    },
    {
     "name": "stdout",
     "output_type": "stream",
     "text": [
      "18/18 [==============================] - 0s 23ms/step - loss: 143.0098 - mae: 143.0098 - mse: 113654.4688 - val_loss: 783.7766 - val_mae: 783.7766 - val_mse: 1955058.0000\n",
      "Epoch 15/100\n",
      " 1/18 [>.............................] - ETA: 0s - loss: 141.4410 - mae: 141.4410 - mse: 77800.3984INFO:tensorflow:Assets written to: model_experiments\\model_1_dense\\assets\n"
     ]
    },
    {
     "name": "stderr",
     "output_type": "stream",
     "text": [
      "INFO:tensorflow:Assets written to: model_experiments\\model_1_dense\\assets\n"
     ]
    },
    {
     "name": "stdout",
     "output_type": "stream",
     "text": [
      "18/18 [==============================] - 0s 24ms/step - loss: 145.6167 - mae: 145.6167 - mse: 110967.7109 - val_loss: 755.6024 - val_mae: 755.6024 - val_mse: 1905262.3750\n",
      "Epoch 16/100\n",
      "18/18 [==============================] - 0s 4ms/step - loss: 134.4288 - mae: 134.4288 - mse: 102696.2266 - val_loss: 761.8643 - val_mae: 761.8643 - val_mse: 1840961.8750\n",
      "Epoch 17/100\n",
      "18/18 [==============================] - 0s 3ms/step - loss: 132.0012 - mae: 132.0012 - mse: 100990.3750 - val_loss: 756.6969 - val_mae: 756.6969 - val_mse: 1804836.6250\n",
      "Epoch 18/100\n",
      " 1/18 [>.............................] - ETA: 0s - loss: 151.2520 - mae: 151.2520 - mse: 133100.1094INFO:tensorflow:Assets written to: model_experiments\\model_1_dense\\assets\n"
     ]
    },
    {
     "name": "stderr",
     "output_type": "stream",
     "text": [
      "INFO:tensorflow:Assets written to: model_experiments\\model_1_dense\\assets\n"
     ]
    },
    {
     "name": "stdout",
     "output_type": "stream",
     "text": [
      "18/18 [==============================] - 0s 23ms/step - loss: 130.8709 - mae: 130.8709 - mse: 98585.5234 - val_loss: 721.1127 - val_mae: 721.1128 - val_mse: 1756330.8750\n",
      "Epoch 19/100\n",
      "18/18 [==============================] - 0s 4ms/step - loss: 130.1278 - mae: 130.1278 - mse: 97499.6953 - val_loss: 742.7892 - val_mae: 742.7892 - val_mse: 1733566.0000\n",
      "Epoch 20/100\n",
      " 1/18 [>.............................] - ETA: 0s - loss: 138.0016 - mae: 138.0016 - mse: 110387.6406INFO:tensorflow:Assets written to: model_experiments\\model_1_dense\\assets\n"
     ]
    },
    {
     "name": "stderr",
     "output_type": "stream",
     "text": [
      "INFO:tensorflow:Assets written to: model_experiments\\model_1_dense\\assets\n"
     ]
    },
    {
     "name": "stdout",
     "output_type": "stream",
     "text": [
      "18/18 [==============================] - 0s 22ms/step - loss: 126.3187 - mae: 126.3187 - mse: 92861.6406 - val_loss: 697.2490 - val_mae: 697.2490 - val_mse: 1637926.8750\n",
      "Epoch 21/100\n",
      "18/18 [==============================] - 0s 4ms/step - loss: 128.8876 - mae: 128.8876 - mse: 94147.1875 - val_loss: 697.8591 - val_mae: 697.8591 - val_mse: 1661134.0000\n",
      "Epoch 22/100\n",
      " 1/18 [>.............................] - ETA: 0s - loss: 178.7837 - mae: 178.7837 - mse: 179763.3594INFO:tensorflow:Assets written to: model_experiments\\model_1_dense\\assets\n"
     ]
    },
    {
     "name": "stderr",
     "output_type": "stream",
     "text": [
      "INFO:tensorflow:Assets written to: model_experiments\\model_1_dense\\assets\n"
     ]
    },
    {
     "name": "stdout",
     "output_type": "stream",
     "text": [
      "18/18 [==============================] - 0s 22ms/step - loss: 128.1342 - mae: 128.1342 - mse: 94403.4688 - val_loss: 694.7797 - val_mae: 694.7797 - val_mse: 1580576.0000\n",
      "Epoch 23/100\n",
      " 1/18 [>.............................] - ETA: 0s - loss: 120.6472 - mae: 120.6472 - mse: 67584.1016INFO:tensorflow:Assets written to: model_experiments\\model_1_dense\\assets\n"
     ]
    },
    {
     "name": "stderr",
     "output_type": "stream",
     "text": [
      "INFO:tensorflow:Assets written to: model_experiments\\model_1_dense\\assets\n"
     ]
    },
    {
     "name": "stdout",
     "output_type": "stream",
     "text": [
      "18/18 [==============================] - 0s 24ms/step - loss: 127.7351 - mae: 127.7351 - mse: 91064.9688 - val_loss: 673.3433 - val_mae: 673.3433 - val_mse: 1536371.2500\n",
      "Epoch 24/100\n",
      " 1/18 [>.............................] - ETA: 0s - loss: 131.2295 - mae: 131.2295 - mse: 87715.1172INFO:tensorflow:Assets written to: model_experiments\\model_1_dense\\assets\n"
     ]
    },
    {
     "name": "stderr",
     "output_type": "stream",
     "text": [
      "INFO:tensorflow:Assets written to: model_experiments\\model_1_dense\\assets\n"
     ]
    },
    {
     "name": "stdout",
     "output_type": "stream",
     "text": [
      "18/18 [==============================] - 0s 24ms/step - loss: 126.1782 - mae: 126.1782 - mse: 92683.6094 - val_loss: 668.7636 - val_mae: 668.7636 - val_mse: 1512410.7500\n",
      "Epoch 25/100\n",
      "18/18 [==============================] - 0s 4ms/step - loss: 121.6836 - mae: 121.6836 - mse: 87319.6562 - val_loss: 674.0123 - val_mae: 674.0123 - val_mse: 1558405.7500\n",
      "Epoch 26/100\n",
      "18/18 [==============================] - 0s 3ms/step - loss: 124.2998 - mae: 124.2998 - mse: 89095.4766 - val_loss: 684.8242 - val_mae: 684.8242 - val_mse: 1523537.7500\n",
      "Epoch 27/100\n",
      " 1/18 [>.............................] - ETA: 0s - loss: 164.4047 - mae: 164.4047 - mse: 123587.3672INFO:tensorflow:Assets written to: model_experiments\\model_1_dense\\assets\n"
     ]
    },
    {
     "name": "stderr",
     "output_type": "stream",
     "text": [
      "INFO:tensorflow:Assets written to: model_experiments\\model_1_dense\\assets\n"
     ]
    },
    {
     "name": "stdout",
     "output_type": "stream",
     "text": [
      "18/18 [==============================] - 0s 24ms/step - loss: 127.2117 - mae: 127.2117 - mse: 86585.8750 - val_loss: 654.3002 - val_mae: 654.3002 - val_mse: 1454636.3750\n",
      "Epoch 28/100\n",
      " 1/18 [>.............................] - ETA: 0s - loss: 109.8543 - mae: 109.8543 - mse: 72049.8047INFO:tensorflow:Assets written to: model_experiments\\model_1_dense\\assets\n"
     ]
    },
    {
     "name": "stderr",
     "output_type": "stream",
     "text": [
      "INFO:tensorflow:Assets written to: model_experiments\\model_1_dense\\assets\n"
     ]
    },
    {
     "name": "stdout",
     "output_type": "stream",
     "text": [
      "18/18 [==============================] - 0s 24ms/step - loss: 118.6826 - mae: 118.6826 - mse: 83832.8906 - val_loss: 646.8069 - val_mae: 646.8069 - val_mse: 1438355.5000\n",
      "Epoch 29/100\n",
      " 1/18 [>.............................] - ETA: 0s - loss: 110.6547 - mae: 110.6547 - mse: 77751.2500INFO:tensorflow:Assets written to: model_experiments\\model_1_dense\\assets\n"
     ]
    },
    {
     "name": "stderr",
     "output_type": "stream",
     "text": [
      "INFO:tensorflow:Assets written to: model_experiments\\model_1_dense\\assets\n"
     ]
    },
    {
     "name": "stdout",
     "output_type": "stream",
     "text": [
      "18/18 [==============================] - 0s 22ms/step - loss: 121.2791 - mae: 121.2791 - mse: 84522.4609 - val_loss: 644.0419 - val_mae: 644.0419 - val_mse: 1429070.3750\n",
      "Epoch 30/100\n",
      " 1/18 [>.............................] - ETA: 0s - loss: 140.9516 - mae: 140.9516 - mse: 116021.0312INFO:tensorflow:Assets written to: model_experiments\\model_1_dense\\assets\n"
     ]
    },
    {
     "name": "stderr",
     "output_type": "stream",
     "text": [
      "INFO:tensorflow:Assets written to: model_experiments\\model_1_dense\\assets\n"
     ]
    },
    {
     "name": "stdout",
     "output_type": "stream",
     "text": [
      "18/18 [==============================] - 0s 24ms/step - loss: 120.9675 - mae: 120.9675 - mse: 83019.4297 - val_loss: 638.4852 - val_mae: 638.4852 - val_mse: 1405828.8750\n",
      "Epoch 31/100\n",
      "18/18 [==============================] - 0s 4ms/step - loss: 124.0068 - mae: 124.0068 - mse: 83564.8750 - val_loss: 701.2334 - val_mae: 701.2334 - val_mse: 1527347.8750\n",
      "Epoch 32/100\n",
      "18/18 [==============================] - 0s 3ms/step - loss: 120.6059 - mae: 120.6059 - mse: 84036.8359 - val_loss: 638.5522 - val_mae: 638.5522 - val_mse: 1383413.5000\n",
      "Epoch 33/100\n",
      "18/18 [==============================] - 0s 3ms/step - loss: 115.4512 - mae: 115.4512 - mse: 78348.5234 - val_loss: 655.1821 - val_mae: 655.1821 - val_mse: 1413562.2500\n",
      "Epoch 34/100\n",
      " 1/18 [>.............................] - ETA: 0s - loss: 147.7553 - mae: 147.7553 - mse: 152194.9531INFO:tensorflow:Assets written to: model_experiments\\model_1_dense\\assets\n"
     ]
    },
    {
     "name": "stderr",
     "output_type": "stream",
     "text": [
      "INFO:tensorflow:Assets written to: model_experiments\\model_1_dense\\assets\n"
     ]
    },
    {
     "name": "stdout",
     "output_type": "stream",
     "text": [
      "18/18 [==============================] - 0s 22ms/step - loss: 115.1290 - mae: 115.1290 - mse: 79497.5938 - val_loss: 624.1537 - val_mae: 624.1537 - val_mse: 1357218.1250\n",
      "Epoch 35/100\n",
      "18/18 [==============================] - 0s 4ms/step - loss: 113.7718 - mae: 113.7718 - mse: 78409.5703 - val_loss: 642.0435 - val_mae: 642.0435 - val_mse: 1420858.3750\n",
      "Epoch 36/100\n",
      " 1/18 [>.............................] - ETA: 0s - loss: 160.1919 - mae: 160.1919 - mse: 167042.1406INFO:tensorflow:Assets written to: model_experiments\\model_1_dense\\assets\n"
     ]
    },
    {
     "name": "stderr",
     "output_type": "stream",
     "text": [
      "INFO:tensorflow:Assets written to: model_experiments\\model_1_dense\\assets\n"
     ]
    },
    {
     "name": "stdout",
     "output_type": "stream",
     "text": [
      "18/18 [==============================] - 0s 21ms/step - loss: 115.1818 - mae: 115.1818 - mse: 78776.6016 - val_loss: 619.5904 - val_mae: 619.5904 - val_mse: 1344408.6250\n",
      "Epoch 37/100\n",
      " 1/18 [>.............................] - ETA: 0s - loss: 135.1236 - mae: 135.1236 - mse: 120117.6562INFO:tensorflow:Assets written to: model_experiments\\model_1_dense\\assets\n"
     ]
    },
    {
     "name": "stderr",
     "output_type": "stream",
     "text": [
      "INFO:tensorflow:Assets written to: model_experiments\\model_1_dense\\assets\n"
     ]
    },
    {
     "name": "stdout",
     "output_type": "stream",
     "text": [
      "18/18 [==============================] - 0s 24ms/step - loss: 113.3991 - mae: 113.3991 - mse: 77772.8203 - val_loss: 610.5092 - val_mae: 610.5092 - val_mse: 1314722.5000\n",
      "Epoch 38/100\n",
      "18/18 [==============================] - 0s 5ms/step - loss: 113.5255 - mae: 113.5255 - mse: 77065.2266 - val_loss: 612.3876 - val_mae: 612.3876 - val_mse: 1308439.7500\n",
      "Epoch 39/100\n",
      " 1/18 [>.............................] - ETA: 0s - loss: 134.9229 - mae: 134.9229 - mse: 99492.9141INFO:tensorflow:Assets written to: model_experiments\\model_1_dense\\assets\n"
     ]
    },
    {
     "name": "stderr",
     "output_type": "stream",
     "text": [
      "INFO:tensorflow:Assets written to: model_experiments\\model_1_dense\\assets\n"
     ]
    },
    {
     "name": "stdout",
     "output_type": "stream",
     "text": [
      "18/18 [==============================] - 0s 23ms/step - loss: 114.3392 - mae: 114.3392 - mse: 78337.0547 - val_loss: 604.8469 - val_mae: 604.8469 - val_mse: 1296067.6250\n",
      "Epoch 40/100\n",
      "18/18 [==============================] - 0s 4ms/step - loss: 111.0288 - mae: 111.0288 - mse: 74642.2188 - val_loss: 607.6966 - val_mae: 607.6966 - val_mse: 1304469.5000\n",
      "Epoch 41/100\n",
      "18/18 [==============================] - 0s 4ms/step - loss: 112.1956 - mae: 112.1956 - mse: 75097.2734 - val_loss: 662.4866 - val_mae: 662.4866 - val_mse: 1458952.1250\n",
      "Epoch 42/100\n",
      "18/18 [==============================] - 0s 4ms/step - loss: 115.4284 - mae: 115.4284 - mse: 77807.3828 - val_loss: 697.0961 - val_mae: 697.0961 - val_mse: 1482285.6250\n",
      "Epoch 43/100\n",
      "18/18 [==============================] - 0s 4ms/step - loss: 117.7609 - mae: 117.7609 - mse: 75375.5078 - val_loss: 722.5194 - val_mae: 722.5194 - val_mse: 1628227.3750\n",
      "Epoch 44/100\n",
      " 1/18 [>.............................] - ETA: 0s - loss: 84.8249 - mae: 84.8249 - mse: 22816.9727INFO:tensorflow:Assets written to: model_experiments\\model_1_dense\\assets\n"
     ]
    },
    {
     "name": "stderr",
     "output_type": "stream",
     "text": [
      "INFO:tensorflow:Assets written to: model_experiments\\model_1_dense\\assets\n"
     ]
    },
    {
     "name": "stdout",
     "output_type": "stream",
     "text": [
      "18/18 [==============================] - 0s 24ms/step - loss: 116.4376 - mae: 116.4376 - mse: 75656.2734 - val_loss: 597.2930 - val_mae: 597.2930 - val_mse: 1265635.8750\n",
      "Epoch 45/100\n",
      "18/18 [==============================] - 0s 4ms/step - loss: 109.7845 - mae: 109.7845 - mse: 73161.4922 - val_loss: 606.7087 - val_mae: 606.7087 - val_mse: 1290388.5000\n",
      "Epoch 46/100\n",
      "18/18 [==============================] - 0s 4ms/step - loss: 113.7752 - mae: 113.7752 - mse: 73395.2188 - val_loss: 623.8365 - val_mae: 623.8365 - val_mse: 1309784.6250\n",
      "Epoch 47/100\n",
      "18/18 [==============================] - 0s 4ms/step - loss: 113.6334 - mae: 113.6334 - mse: 75662.1172 - val_loss: 634.8040 - val_mae: 634.8040 - val_mse: 1330638.2500\n",
      "Epoch 48/100\n",
      " 1/18 [>.............................] - ETA: 0s - loss: 107.8876 - mae: 107.8876 - mse: 63074.6016INFO:tensorflow:Assets written to: model_experiments\\model_1_dense\\assets\n"
     ]
    },
    {
     "name": "stderr",
     "output_type": "stream",
     "text": [
      "INFO:tensorflow:Assets written to: model_experiments\\model_1_dense\\assets\n"
     ]
    },
    {
     "name": "stdout",
     "output_type": "stream",
     "text": [
      "18/18 [==============================] - 0s 25ms/step - loss: 109.9548 - mae: 109.9548 - mse: 73612.2500 - val_loss: 594.5784 - val_mae: 594.5784 - val_mse: 1250835.1250\n",
      "Epoch 49/100\n",
      "18/18 [==============================] - 0s 4ms/step - loss: 110.4670 - mae: 110.4670 - mse: 73350.2812 - val_loss: 622.2322 - val_mae: 622.2322 - val_mse: 1301297.5000\n",
      "Epoch 50/100\n",
      "18/18 [==============================] - 0s 4ms/step - loss: 115.7658 - mae: 115.7658 - mse: 76543.0781 - val_loss: 681.9279 - val_mae: 681.9279 - val_mse: 1487956.0000\n",
      "Epoch 51/100\n",
      "18/18 [==============================] - 0s 4ms/step - loss: 115.8430 - mae: 115.8430 - mse: 76508.9141 - val_loss: 597.6406 - val_mae: 597.6406 - val_mse: 1250745.8750\n",
      "Epoch 52/100\n",
      " 1/18 [>.............................] - ETA: 0s - loss: 116.5008 - mae: 116.5008 - mse: 61977.3672INFO:tensorflow:Assets written to: model_experiments\\model_1_dense\\assets\n"
     ]
    },
    {
     "name": "stderr",
     "output_type": "stream",
     "text": [
      "INFO:tensorflow:Assets written to: model_experiments\\model_1_dense\\assets\n"
     ]
    },
    {
     "name": "stdout",
     "output_type": "stream",
     "text": [
      "18/18 [==============================] - 0s 25ms/step - loss: 112.3222 - mae: 112.3222 - mse: 74570.3594 - val_loss: 588.3156 - val_mae: 588.3156 - val_mse: 1237787.0000\n",
      "Epoch 53/100\n",
      "18/18 [==============================] - 0s 4ms/step - loss: 111.9151 - mae: 111.9151 - mse: 73509.9531 - val_loss: 625.6180 - val_mae: 625.6180 - val_mse: 1304423.2500\n",
      "Epoch 54/100\n",
      "18/18 [==============================] - 0s 4ms/step - loss: 110.0439 - mae: 110.0439 - mse: 72218.8906 - val_loss: 596.4641 - val_mae: 596.4641 - val_mse: 1244797.6250\n",
      "Epoch 55/100\n",
      " 1/18 [>.............................] - ETA: 0s - loss: 129.4275 - mae: 129.4275 - mse: 104838.4688INFO:tensorflow:Assets written to: model_experiments\\model_1_dense\\assets\n"
     ]
    },
    {
     "name": "stderr",
     "output_type": "stream",
     "text": [
      "INFO:tensorflow:Assets written to: model_experiments\\model_1_dense\\assets\n"
     ]
    },
    {
     "name": "stdout",
     "output_type": "stream",
     "text": [
      "18/18 [==============================] - 0s 23ms/step - loss: 110.1103 - mae: 110.1103 - mse: 73459.8906 - val_loss: 584.9955 - val_mae: 584.9955 - val_mse: 1226803.2500\n",
      "Epoch 56/100\n",
      "18/18 [==============================] - 0s 4ms/step - loss: 108.7334 - mae: 108.7334 - mse: 71204.5312 - val_loss: 803.9003 - val_mae: 803.9003 - val_mse: 1859809.1250\n",
      "Epoch 57/100\n",
      "18/18 [==============================] - 0s 4ms/step - loss: 118.7625 - mae: 118.7625 - mse: 79471.4219 - val_loss: 591.0575 - val_mae: 591.0575 - val_mse: 1232444.5000\n",
      "Epoch 58/100\n",
      "18/18 [==============================] - 0s 3ms/step - loss: 110.6488 - mae: 110.6488 - mse: 71923.7578 - val_loss: 593.9672 - val_mae: 593.9672 - val_mse: 1244243.0000\n",
      "Epoch 59/100\n",
      "18/18 [==============================] - 0s 3ms/step - loss: 109.0361 - mae: 109.0361 - mse: 71520.0000 - val_loss: 646.4604 - val_mae: 646.4604 - val_mse: 1374678.2500\n",
      "Epoch 60/100\n",
      "18/18 [==============================] - 0s 3ms/step - loss: 115.3158 - mae: 115.3158 - mse: 77489.1328 - val_loss: 643.9896 - val_mae: 643.9896 - val_mse: 1337490.1250\n",
      "Epoch 61/100\n",
      " 1/18 [>.............................] - ETA: 0s - loss: 140.0852 - mae: 140.0852 - mse: 93618.5156INFO:tensorflow:Assets written to: model_experiments\\model_1_dense\\assets\n"
     ]
    },
    {
     "name": "stderr",
     "output_type": "stream",
     "text": [
      "INFO:tensorflow:Assets written to: model_experiments\\model_1_dense\\assets\n"
     ]
    },
    {
     "name": "stdout",
     "output_type": "stream",
     "text": [
      "18/18 [==============================] - 0s 22ms/step - loss: 110.5595 - mae: 110.5595 - mse: 73395.6172 - val_loss: 582.9456 - val_mae: 582.9456 - val_mse: 1217280.3750\n",
      "Epoch 62/100\n",
      "18/18 [==============================] - 0s 4ms/step - loss: 107.2390 - mae: 107.2390 - mse: 69848.1484 - val_loss: 585.4083 - val_mae: 585.4083 - val_mse: 1218179.8750\n",
      "Epoch 63/100\n",
      " 1/18 [>.............................] - ETA: 0s - loss: 86.6748 - mae: 86.6748 - mse: 63744.4492INFO:tensorflow:Assets written to: model_experiments\\model_1_dense\\assets\n"
     ]
    },
    {
     "name": "stderr",
     "output_type": "stream",
     "text": [
      "INFO:tensorflow:Assets written to: model_experiments\\model_1_dense\\assets\n"
     ]
    },
    {
     "name": "stdout",
     "output_type": "stream",
     "text": [
      "18/18 [==============================] - 1s 37ms/step - loss: 108.1030 - mae: 108.1030 - mse: 70131.4531 - val_loss: 582.3035 - val_mae: 582.3035 - val_mse: 1214481.8750\n",
      "Epoch 64/100\n",
      "18/18 [==============================] - 0s 4ms/step - loss: 106.6371 - mae: 106.6371 - mse: 69707.6250 - val_loss: 630.6866 - val_mae: 630.6866 - val_mse: 1306484.2500\n",
      "Epoch 65/100\n",
      " 1/18 [>.............................] - ETA: 0s - loss: 131.9789 - mae: 131.9789 - mse: 153032.3594INFO:tensorflow:Assets written to: model_experiments\\model_1_dense\\assets\n"
     ]
    },
    {
     "name": "stderr",
     "output_type": "stream",
     "text": [
      "INFO:tensorflow:Assets written to: model_experiments\\model_1_dense\\assets\n"
     ]
    },
    {
     "name": "stdout",
     "output_type": "stream",
     "text": [
      "18/18 [==============================] - 0s 23ms/step - loss: 111.8455 - mae: 111.8455 - mse: 73215.6328 - val_loss: 579.4335 - val_mae: 579.4335 - val_mse: 1205021.5000\n",
      "Epoch 66/100\n",
      " 1/18 [>.............................] - ETA: 0s - loss: 116.5168 - mae: 116.5168 - mse: 78868.7969INFO:tensorflow:Assets written to: model_experiments\\model_1_dense\\assets\n"
     ]
    },
    {
     "name": "stderr",
     "output_type": "stream",
     "text": [
      "INFO:tensorflow:Assets written to: model_experiments\\model_1_dense\\assets\n"
     ]
    },
    {
     "name": "stdout",
     "output_type": "stream",
     "text": [
      "18/18 [==============================] - 0s 23ms/step - loss: 107.9104 - mae: 107.9104 - mse: 70985.2656 - val_loss: 579.3916 - val_mae: 579.3916 - val_mse: 1203759.3750\n",
      "Epoch 67/100\n",
      "18/18 [==============================] - 0s 4ms/step - loss: 107.9773 - mae: 107.9773 - mse: 69348.3281 - val_loss: 697.4529 - val_mae: 697.4529 - val_mse: 1507364.3750\n",
      "Epoch 68/100\n",
      "18/18 [==============================] - 0s 4ms/step - loss: 108.1930 - mae: 108.1930 - mse: 69722.4062 - val_loss: 615.7985 - val_mae: 615.7985 - val_mse: 1271702.1250\n",
      "Epoch 69/100\n",
      "18/18 [==============================] - 0s 3ms/step - loss: 111.6164 - mae: 111.6164 - mse: 70795.3125 - val_loss: 674.6818 - val_mae: 674.6818 - val_mse: 1403851.6250\n",
      "Epoch 70/100\n",
      "18/18 [==============================] - 0s 3ms/step - loss: 116.9596 - mae: 116.9596 - mse: 73868.4062 - val_loss: 683.6044 - val_mae: 683.6044 - val_mse: 1466303.7500\n",
      "Epoch 71/100\n",
      "18/18 [==============================] - 0s 3ms/step - loss: 111.3947 - mae: 111.3947 - mse: 71147.2578 - val_loss: 589.4999 - val_mae: 589.4999 - val_mse: 1226827.7500\n",
      "Epoch 72/100\n",
      "18/18 [==============================] - 0s 4ms/step - loss: 114.5300 - mae: 114.5300 - mse: 73293.3984 - val_loss: 597.0192 - val_mae: 597.0192 - val_mse: 1232341.6250\n",
      "Epoch 73/100\n",
      "18/18 [==============================] - 0s 4ms/step - loss: 109.1858 - mae: 109.1858 - mse: 69865.3984 - val_loss: 586.2891 - val_mae: 586.2891 - val_mse: 1211952.6250\n",
      "Epoch 74/100\n",
      "18/18 [==============================] - 0s 3ms/step - loss: 112.0238 - mae: 112.0238 - mse: 73138.9688 - val_loss: 583.6032 - val_mae: 583.6032 - val_mse: 1211133.7500\n",
      "Epoch 75/100\n",
      " 1/18 [>.............................] - ETA: 0s - loss: 126.0730 - mae: 126.0730 - mse: 69267.7812INFO:tensorflow:Assets written to: model_experiments\\model_1_dense\\assets\n"
     ]
    },
    {
     "name": "stderr",
     "output_type": "stream",
     "text": [
      "INFO:tensorflow:Assets written to: model_experiments\\model_1_dense\\assets\n"
     ]
    },
    {
     "name": "stdout",
     "output_type": "stream",
     "text": [
      "18/18 [==============================] - 0s 23ms/step - loss: 108.6790 - mae: 108.6790 - mse: 69956.5938 - val_loss: 576.5991 - val_mae: 576.5991 - val_mse: 1190745.7500\n",
      "Epoch 76/100\n",
      " 1/18 [>.............................] - ETA: 0s - loss: 73.2336 - mae: 73.2336 - mse: 22144.6191INFO:tensorflow:Assets written to: model_experiments\\model_1_dense\\assets\n"
     ]
    },
    {
     "name": "stderr",
     "output_type": "stream",
     "text": [
      "INFO:tensorflow:Assets written to: model_experiments\\model_1_dense\\assets\n"
     ]
    },
    {
     "name": "stdout",
     "output_type": "stream",
     "text": [
      "18/18 [==============================] - 0s 24ms/step - loss: 109.5846 - mae: 109.5846 - mse: 71203.4375 - val_loss: 574.0072 - val_mae: 574.0072 - val_mse: 1186003.7500\n",
      "Epoch 77/100\n",
      "18/18 [==============================] - 0s 4ms/step - loss: 108.7224 - mae: 108.7224 - mse: 70702.6797 - val_loss: 578.3291 - val_mae: 578.3291 - val_mse: 1198559.2500\n",
      "Epoch 78/100\n",
      "18/18 [==============================] - 0s 4ms/step - loss: 110.1926 - mae: 110.1926 - mse: 69508.9453 - val_loss: 612.2968 - val_mae: 612.2968 - val_mse: 1274078.0000\n",
      "Epoch 79/100\n",
      "18/18 [==============================] - 0s 4ms/step - loss: 108.8695 - mae: 108.8695 - mse: 70263.5156 - val_loss: 590.9551 - val_mae: 590.9551 - val_mse: 1224663.7500\n",
      "Epoch 80/100\n",
      "18/18 [==============================] - 0s 4ms/step - loss: 111.5179 - mae: 111.5179 - mse: 72848.9219 - val_loss: 582.6269 - val_mae: 582.6269 - val_mse: 1198325.0000\n",
      "Epoch 81/100\n",
      "18/18 [==============================] - 0s 4ms/step - loss: 106.3606 - mae: 106.3606 - mse: 69584.9766 - val_loss: 578.4487 - val_mae: 578.4487 - val_mse: 1194688.1250\n",
      "Epoch 82/100\n",
      "18/18 [==============================] - 0s 3ms/step - loss: 119.2593 - mae: 119.2593 - mse: 78014.2266 - val_loss: 594.0397 - val_mae: 594.0397 - val_mse: 1225467.5000\n",
      "Epoch 83/100\n",
      "18/18 [==============================] - 0s 3ms/step - loss: 117.5557 - mae: 117.5557 - mse: 76180.5625 - val_loss: 668.4316 - val_mae: 668.4316 - val_mse: 1414645.7500\n",
      "Epoch 84/100\n",
      "18/18 [==============================] - 0s 3ms/step - loss: 114.8487 - mae: 114.8487 - mse: 73797.3672 - val_loss: 583.3987 - val_mae: 583.3987 - val_mse: 1208679.5000\n",
      "Epoch 85/100\n",
      "18/18 [==============================] - 0s 4ms/step - loss: 108.5060 - mae: 108.5060 - mse: 70375.8672 - val_loss: 574.8643 - val_mae: 574.8643 - val_mse: 1185905.8750\n",
      "Epoch 86/100\n",
      "18/18 [==============================] - 0s 3ms/step - loss: 106.7209 - mae: 106.7209 - mse: 68793.8672 - val_loss: 604.4890 - val_mae: 604.4890 - val_mse: 1241890.6250\n",
      "Epoch 87/100\n",
      "18/18 [==============================] - 0s 4ms/step - loss: 106.1126 - mae: 106.1126 - mse: 67048.2969 - val_loss: 601.8240 - val_mae: 601.8240 - val_mse: 1247989.0000\n",
      "Epoch 88/100\n",
      "18/18 [==============================] - 0s 4ms/step - loss: 110.1725 - mae: 110.1725 - mse: 70847.3203 - val_loss: 575.7186 - val_mae: 575.7186 - val_mse: 1184926.8750\n",
      "Epoch 89/100\n",
      "18/18 [==============================] - 0s 3ms/step - loss: 108.9616 - mae: 108.9616 - mse: 68868.8594 - val_loss: 625.6542 - val_mae: 625.6542 - val_mse: 1285019.7500\n",
      "Epoch 90/100\n",
      "18/18 [==============================] - 0s 4ms/step - loss: 117.2396 - mae: 117.2396 - mse: 71985.8672 - val_loss: 726.3660 - val_mae: 726.3660 - val_mse: 1537366.5000\n",
      "Epoch 91/100\n",
      "18/18 [==============================] - 0s 3ms/step - loss: 117.2096 - mae: 117.2096 - mse: 74656.4922 - val_loss: 658.0115 - val_mae: 658.0115 - val_mse: 1391721.6250\n",
      "Epoch 92/100\n",
      "18/18 [==============================] - 0s 3ms/step - loss: 108.6394 - mae: 108.6394 - mse: 70096.1562 - val_loss: 579.2434 - val_mae: 579.2434 - val_mse: 1199667.6250\n",
      "Epoch 93/100\n",
      "18/18 [==============================] - 0s 4ms/step - loss: 110.1799 - mae: 110.1799 - mse: 69768.6328 - val_loss: 580.4973 - val_mae: 580.4973 - val_mse: 1194059.0000\n",
      "Epoch 94/100\n",
      "18/18 [==============================] - 0s 4ms/step - loss: 111.7403 - mae: 111.7403 - mse: 72256.6406 - val_loss: 576.5923 - val_mae: 576.5923 - val_mse: 1188084.2500\n",
      "Epoch 95/100\n",
      "18/18 [==============================] - 0s 4ms/step - loss: 106.5127 - mae: 106.5127 - mse: 68463.2266 - val_loss: 574.5886 - val_mae: 574.5886 - val_mse: 1181735.3750\n",
      "Epoch 96/100\n",
      "18/18 [==============================] - 0s 3ms/step - loss: 105.7601 - mae: 105.7601 - mse: 68472.4922 - val_loss: 593.6249 - val_mae: 593.6249 - val_mse: 1230603.7500\n",
      "Epoch 97/100\n",
      " 1/18 [>.............................] - ETA: 0s - loss: 100.4454 - mae: 100.4454 - mse: 96186.8594INFO:tensorflow:Assets written to: model_experiments\\model_1_dense\\assets\n"
     ]
    },
    {
     "name": "stderr",
     "output_type": "stream",
     "text": [
      "INFO:tensorflow:Assets written to: model_experiments\\model_1_dense\\assets\n"
     ]
    },
    {
     "name": "stdout",
     "output_type": "stream",
     "text": [
      "18/18 [==============================] - 0s 24ms/step - loss: 106.7413 - mae: 106.7413 - mse: 69370.2500 - val_loss: 573.6680 - val_mae: 573.6680 - val_mse: 1181594.5000\n",
      "Epoch 98/100\n",
      "18/18 [==============================] - 0s 4ms/step - loss: 106.3953 - mae: 106.3953 - mse: 69540.2031 - val_loss: 597.2822 - val_mae: 597.2822 - val_mse: 1222547.1250\n",
      "Epoch 99/100\n",
      " 1/18 [>.............................] - ETA: 0s - loss: 152.9803 - mae: 152.9803 - mse: 119447.9609INFO:tensorflow:Assets written to: model_experiments\\model_1_dense\\assets\n"
     ]
    },
    {
     "name": "stderr",
     "output_type": "stream",
     "text": [
      "INFO:tensorflow:Assets written to: model_experiments\\model_1_dense\\assets\n"
     ]
    },
    {
     "name": "stdout",
     "output_type": "stream",
     "text": [
      "18/18 [==============================] - 0s 25ms/step - loss: 111.6798 - mae: 111.6798 - mse: 71464.6797 - val_loss: 569.9487 - val_mae: 569.9487 - val_mse: 1174594.0000\n",
      "Epoch 100/100\n",
      "18/18 [==============================] - 0s 5ms/step - loss: 109.9434 - mae: 109.9434 - mse: 68552.1094 - val_loss: 600.2028 - val_mae: 600.2028 - val_mse: 1227679.7500\n"
     ]
    },
    {
     "data": {
      "text/plain": [
       "<keras.src.callbacks.History at 0x1dd3fb3a8d0>"
      ]
     },
     "execution_count": 70,
     "metadata": {},
     "output_type": "execute_result"
    }
   ],
   "source": [
    "import tensorflow as tf\n",
    "from tensorflow.keras import layers\n",
    "\n",
    "#set random seed\n",
    "tf.random.set_seed(42)\n",
    "\n",
    "#1. Construct model\n",
    "model_1 = tf.keras.Sequential([\n",
    "    layers.Dense(128, activation = 'relu'),\n",
    "    layers.Dense(HORIZON)\n",
    "], name = \"model_1_dense\")\n",
    "\n",
    "#compile the model\n",
    "model_1.compile(loss = tf.keras.losses.MeanAbsoluteError(),\n",
    "                optimizer =tf.keras.optimizers.Adam(),\n",
    "                metrics = [\"mae\", \"mse\"])\n",
    "\n",
    "#fit the model\n",
    "model_1.fit(x = train_windows,\n",
    "            y = train_labels,\n",
    "            epochs = 100,\n",
    "            verbose = 1,\n",
    "            batch_size = 128,\n",
    "            validation_data = (test_windows, test_labels),\n",
    "            callbacks = [create_model_checkpoint(model_name = 'model_1_dense')])"
   ]
  },
  {
   "cell_type": "code",
   "execution_count": 71,
   "metadata": {},
   "outputs": [
    {
     "name": "stdout",
     "output_type": "stream",
     "text": [
      "18/18 [==============================] - 0s 1ms/step - loss: 600.2028 - mae: 600.2028 - mse: 1227679.6250\n"
     ]
    },
    {
     "data": {
      "text/plain": [
       "[600.2028198242188, 600.2028198242188, 1227679.625]"
      ]
     },
     "execution_count": 71,
     "metadata": {},
     "output_type": "execute_result"
    }
   ],
   "source": [
    "model_1.evaluate(test_windows, test_labels)"
   ]
  },
  {
   "cell_type": "code",
   "execution_count": 73,
   "metadata": {},
   "outputs": [
    {
     "name": "stdout",
     "output_type": "stream",
     "text": [
      "WARNING:tensorflow:From c:\\Users\\moham\\anaconda3\\Lib\\site-packages\\keras\\src\\saving\\legacy\\saved_model\\load.py:107: The name tf.gfile.Exists is deprecated. Please use tf.io.gfile.exists instead.\n",
      "\n"
     ]
    },
    {
     "name": "stderr",
     "output_type": "stream",
     "text": [
      "WARNING:tensorflow:From c:\\Users\\moham\\anaconda3\\Lib\\site-packages\\keras\\src\\saving\\legacy\\saved_model\\load.py:107: The name tf.gfile.Exists is deprecated. Please use tf.io.gfile.exists instead.\n",
      "\n"
     ]
    },
    {
     "name": "stdout",
     "output_type": "stream",
     "text": [
      "18/18 [==============================] - 0s 2ms/step - loss: 569.9487 - mae: 569.9487 - mse: 1174594.0000\n"
     ]
    },
    {
     "data": {
      "text/plain": [
       "[569.9486694335938, 569.9486694335938, 1174594.0]"
      ]
     },
     "execution_count": 73,
     "metadata": {},
     "output_type": "execute_result"
    }
   ],
   "source": [
    "#load in the saved best performing model\n",
    "model_1 = tf.keras.models.load_model(\"C:\\\\Users\\\\moham\\\\Downloads\\\\projects\\\\Bitcoin-Price-Timeforecasting\\\\model_experiments\\\\model_1_dense\")\n",
    "model_1.evaluate(test_windows, test_labels)"
   ]
  },
  {
   "cell_type": "code",
   "execution_count": 74,
   "metadata": {},
   "outputs": [],
   "source": [
    "#Making forecasts with a model (on the test dataset)\n",
    "def make_preds(model, input_data):\n",
    "  \"\"\"\n",
    "  Uses model to ake predictions on input data\n",
    "  \"\"\"\n",
    "  forecast = model.predict(input_data)\n",
    "  return tf.squeeze(forecast) # reutrn 1D array of predictions."
   ]
  },
  {
   "cell_type": "code",
   "execution_count": 75,
   "metadata": {},
   "outputs": [
    {
     "name": "stdout",
     "output_type": "stream",
     "text": [
      "18/18 [==============================] - 0s 1ms/step\n"
     ]
    },
    {
     "data": {
      "text/plain": [
       "(556,\n",
       " <tf.Tensor: shape=(10,), dtype=float32, numpy=\n",
       " array([57409.39 , 58304.117, 58554.824, 56200.555, 56235.42 , 52865.08 ,\n",
       "        50119.375, 49639.586, 48568.887, 45927.312], dtype=float32)>)"
      ]
     },
     "execution_count": 75,
     "metadata": {},
     "output_type": "execute_result"
    }
   ],
   "source": [
    "#make predictions using model_1.\n",
    "model_1_preds = make_preds(model_1, test_windows)\n",
    "len(model_1_preds), model_1_preds[-10:]"
   ]
  },
  {
   "cell_type": "code",
   "execution_count": 76,
   "metadata": {},
   "outputs": [
    {
     "data": {
      "text/plain": [
       "(array([58788.20968, 58102.19143, 55715.54665, 56573.55547, 52147.82119,\n",
       "        49764.13208, 50032.69314, 47885.62525, 45604.61575, 43144.47129]),\n",
       " (556,))"
      ]
     },
     "execution_count": 76,
     "metadata": {},
     "output_type": "execute_result"
    }
   ],
   "source": [
    "test_labels[-10:], test_labels.shape"
   ]
  },
  {
   "cell_type": "code",
   "execution_count": 77,
   "metadata": {},
   "outputs": [
    {
     "data": {
      "text/plain": [
       "{'mae': 569.9487,\n",
       " 'mse': 1174593.9,\n",
       " 'rmse': 1083.7869,\n",
       " 'mape': 2.5478973,\n",
       " 'mase': 1.001242}"
      ]
     },
     "execution_count": 77,
     "metadata": {},
     "output_type": "execute_result"
    }
   ],
   "source": [
    "#evaluate pred\n",
    "model_1_results = evaluate_preds(y_true = test_labels,\n",
    "                                 y_pred = model_1_preds)\n",
    "model_1_results"
   ]
  },
  {
   "cell_type": "code",
   "execution_count": 78,
   "metadata": {},
   "outputs": [
    {
     "name": "stderr",
     "output_type": "stream",
     "text": [
      "WARNING:matplotlib.legend:No artists with labels found to put in legend.  Note that artists whose label start with an underscore are ignored when legend() is called with no argument.\n",
      "WARNING:matplotlib.legend:No artists with labels found to put in legend.  Note that artists whose label start with an underscore are ignored when legend() is called with no argument.\n"
     ]
    },
    {
     "data": {
      "image/png": "[encoded data removed]",
      "text/plain": [
       "<Figure size 1000x700 with 1 Axes>"
      ]
     },
     "metadata": {},
     "output_type": "display_data"
    }
   ],
   "source": [
    "# Let's plot our model 1 predictions\n",
    "offset = 450\n",
    "plt.figure(figsize = (10, 7))\n",
    "#Account for the test_window offset and index into test labels to ensure correct plot\n",
    "plot_time_series(timesteps = x_test[-len(test_windows):],\n",
    "                 values = test_labels[:],\n",
    "                 start = offset,\n",
    "                 label = \"test_data\")\n",
    "\n",
    "plot_time_series(timesteps = x_test[-len(test_windows):],\n",
    "                 values = model_1_preds,\n",
    "                 start = offset,\n",
    "                 label = \"model_1_predictions\")"
   ]
  },
  {
   "cell_type": "code",
   "execution_count": null,
   "metadata": {},
   "outputs": [],
   "source": []
  }
 ],
 "metadata": {
  "kernelspec": {
   "display_name": "base",
   "language": "python",
   "name": "python3"
  },
  "language_info": {
   "codemirror_mode": {
    "name": "ipython",
    "version": 3
   },
   "file_extension": ".py",
   "mimetype": "text/x-python",
   "name": "python",
   "nbconvert_exporter": "python",
   "pygments_lexer": "ipython3",
   "version": "3.11.5"
  }
 },
 "nbformat": 4,
 "nbformat_minor": 2
}
