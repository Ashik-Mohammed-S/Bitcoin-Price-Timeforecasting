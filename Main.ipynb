{
 "cells": [
  {
   "cell_type": "markdown",
   "metadata": {},
   "source": [
    "## Bitcoin-Price-forecasting-Model"
   ]
  },
  {
   "cell_type": "code",
   "execution_count": 2,
   "metadata": {},
   "outputs": [],
   "source": [
    "import pandas as pd\n",
    "import numpy as np \n",
    "import warnings\n",
    "warnings.filterwarnings(\"ignore\")"
   ]
  },
  {
   "cell_type": "code",
   "execution_count": 3,
   "metadata": {},
   "outputs": [
    {
     "data": {
      "text/html": [
       "<div>\n",
       "<style scoped>\n",
       "    .dataframe tbody tr th:only-of-type {\n",
       "        vertical-align: middle;\n",
       "    }\n",
       "\n",
       "    .dataframe tbody tr th {\n",
       "        vertical-align: top;\n",
       "    }\n",
       "\n",
       "    .dataframe thead th {\n",
       "        text-align: right;\n",
       "    }\n",
       "</style>\n",
       "<table border=\"1\" class=\"dataframe\">\n",
       "  <thead>\n",
       "    <tr style=\"text-align: right;\">\n",
       "      <th></th>\n",
       "      <th>Currency</th>\n",
       "      <th>Closing Price (USD)</th>\n",
       "      <th>24h Open (USD)</th>\n",
       "      <th>24h High (USD)</th>\n",
       "      <th>24h Low (USD)</th>\n",
       "    </tr>\n",
       "    <tr>\n",
       "      <th>Date</th>\n",
       "      <th></th>\n",
       "      <th></th>\n",
       "      <th></th>\n",
       "      <th></th>\n",
       "      <th></th>\n",
       "    </tr>\n",
       "  </thead>\n",
       "  <tbody>\n",
       "    <tr>\n",
       "      <th>2013-10-01</th>\n",
       "      <td>BTC</td>\n",
       "      <td>123.65499</td>\n",
       "      <td>124.30466</td>\n",
       "      <td>124.75166</td>\n",
       "      <td>122.56349</td>\n",
       "    </tr>\n",
       "    <tr>\n",
       "      <th>2013-10-02</th>\n",
       "      <td>BTC</td>\n",
       "      <td>125.45500</td>\n",
       "      <td>123.65499</td>\n",
       "      <td>125.75850</td>\n",
       "      <td>123.63383</td>\n",
       "    </tr>\n",
       "    <tr>\n",
       "      <th>2013-10-03</th>\n",
       "      <td>BTC</td>\n",
       "      <td>108.58483</td>\n",
       "      <td>125.45500</td>\n",
       "      <td>125.66566</td>\n",
       "      <td>83.32833</td>\n",
       "    </tr>\n",
       "    <tr>\n",
       "      <th>2013-10-04</th>\n",
       "      <td>BTC</td>\n",
       "      <td>118.67466</td>\n",
       "      <td>108.58483</td>\n",
       "      <td>118.67500</td>\n",
       "      <td>107.05816</td>\n",
       "    </tr>\n",
       "    <tr>\n",
       "      <th>2013-10-05</th>\n",
       "      <td>BTC</td>\n",
       "      <td>121.33866</td>\n",
       "      <td>118.67466</td>\n",
       "      <td>121.93633</td>\n",
       "      <td>118.00566</td>\n",
       "    </tr>\n",
       "  </tbody>\n",
       "</table>\n",
       "</div>"
      ],
      "text/plain": [
       "           Currency  Closing Price (USD)  24h Open (USD)  24h High (USD)  \\\n",
       "Date                                                                       \n",
       "2013-10-01      BTC            123.65499       124.30466       124.75166   \n",
       "2013-10-02      BTC            125.45500       123.65499       125.75850   \n",
       "2013-10-03      BTC            108.58483       125.45500       125.66566   \n",
       "2013-10-04      BTC            118.67466       108.58483       118.67500   \n",
       "2013-10-05      BTC            121.33866       118.67466       121.93633   \n",
       "\n",
       "            24h Low (USD)  \n",
       "Date                       \n",
       "2013-10-01      122.56349  \n",
       "2013-10-02      123.63383  \n",
       "2013-10-03       83.32833  \n",
       "2013-10-04      107.05816  \n",
       "2013-10-05      118.00566  "
      ]
     },
     "execution_count": 3,
     "metadata": {},
     "output_type": "execute_result"
    }
   ],
   "source": [
    "#let's read in our bitcoin data and parse the dates\n",
    "df = pd.read_csv(\"C:\\\\Users\\\\moham\\\\Downloads\\\\projects\\\\Bitcoin-Price-Timeforecasting\\\\BTC_USD_2013-10-01_2021-05-18-CoinDesk.csv\",\n",
    "                 parse_dates = [\"Date\"],\n",
    "                 index_col = [\"Date\"]) #parse the date column and tell pandas column 1 is datetime\n",
    "\n",
    "df.head()"
   ]
  },
  {
   "cell_type": "code",
   "execution_count": 4,
   "metadata": {},
   "outputs": [
    {
     "name": "stdout",
     "output_type": "stream",
     "text": [
      "<class 'pandas.core.frame.DataFrame'>\n",
      "DatetimeIndex: 2787 entries, 2013-10-01 to 2021-05-18\n",
      "Data columns (total 5 columns):\n",
      " #   Column               Non-Null Count  Dtype  \n",
      "---  ------               --------------  -----  \n",
      " 0   Currency             2787 non-null   object \n",
      " 1   Closing Price (USD)  2787 non-null   float64\n",
      " 2   24h Open (USD)       2787 non-null   float64\n",
      " 3   24h High (USD)       2787 non-null   float64\n",
      " 4   24h Low (USD)        2787 non-null   float64\n",
      "dtypes: float64(4), object(1)\n",
      "memory usage: 130.6+ KB\n"
     ]
    }
   ],
   "source": [
    "df.info()"
   ]
  },
  {
   "cell_type": "markdown",
   "metadata": {},
   "source": [
    "We've collected the historical price of Bitcoin for the past 8 years but there are only 2787 samples.\n",
    "\n",
    "Typically deep learning models usually have large sample size ranging from 100 thousands to millions.\n",
    "\n",
    "The Seasonality of a time series dataset is referred as the number of samples per year. So for our Bitcoin data, it has a seasonality of daily or value of 365 because we collect one sample per day meaning we'll get 365 samples per year"
   ]
  },
  {
   "cell_type": "code",
   "execution_count": 5,
   "metadata": {},
   "outputs": [
    {
     "data": {
      "text/html": [
       "<div>\n",
       "<style scoped>\n",
       "    .dataframe tbody tr th:only-of-type {\n",
       "        vertical-align: middle;\n",
       "    }\n",
       "\n",
       "    .dataframe tbody tr th {\n",
       "        vertical-align: top;\n",
       "    }\n",
       "\n",
       "    .dataframe thead th {\n",
       "        text-align: right;\n",
       "    }\n",
       "</style>\n",
       "<table border=\"1\" class=\"dataframe\">\n",
       "  <thead>\n",
       "    <tr style=\"text-align: right;\">\n",
       "      <th></th>\n",
       "      <th>Price</th>\n",
       "    </tr>\n",
       "    <tr>\n",
       "      <th>Date</th>\n",
       "      <th></th>\n",
       "    </tr>\n",
       "  </thead>\n",
       "  <tbody>\n",
       "    <tr>\n",
       "      <th>2013-10-01</th>\n",
       "      <td>123.65499</td>\n",
       "    </tr>\n",
       "    <tr>\n",
       "      <th>2013-10-02</th>\n",
       "      <td>125.45500</td>\n",
       "    </tr>\n",
       "    <tr>\n",
       "      <th>2013-10-03</th>\n",
       "      <td>108.58483</td>\n",
       "    </tr>\n",
       "    <tr>\n",
       "      <th>2013-10-04</th>\n",
       "      <td>118.67466</td>\n",
       "    </tr>\n",
       "    <tr>\n",
       "      <th>2013-10-05</th>\n",
       "      <td>121.33866</td>\n",
       "    </tr>\n",
       "    <tr>\n",
       "      <th>...</th>\n",
       "      <td>...</td>\n",
       "    </tr>\n",
       "    <tr>\n",
       "      <th>2021-05-14</th>\n",
       "      <td>49764.13208</td>\n",
       "    </tr>\n",
       "    <tr>\n",
       "      <th>2021-05-15</th>\n",
       "      <td>50032.69314</td>\n",
       "    </tr>\n",
       "    <tr>\n",
       "      <th>2021-05-16</th>\n",
       "      <td>47885.62525</td>\n",
       "    </tr>\n",
       "    <tr>\n",
       "      <th>2021-05-17</th>\n",
       "      <td>45604.61575</td>\n",
       "    </tr>\n",
       "    <tr>\n",
       "      <th>2021-05-18</th>\n",
       "      <td>43144.47129</td>\n",
       "    </tr>\n",
       "  </tbody>\n",
       "</table>\n",
       "<p>2787 rows × 1 columns</p>\n",
       "</div>"
      ],
      "text/plain": [
       "                  Price\n",
       "Date                   \n",
       "2013-10-01    123.65499\n",
       "2013-10-02    125.45500\n",
       "2013-10-03    108.58483\n",
       "2013-10-04    118.67466\n",
       "2013-10-05    121.33866\n",
       "...                 ...\n",
       "2021-05-14  49764.13208\n",
       "2021-05-15  50032.69314\n",
       "2021-05-16  47885.62525\n",
       "2021-05-17  45604.61575\n",
       "2021-05-18  43144.47129\n",
       "\n",
       "[2787 rows x 1 columns]"
      ]
     },
     "execution_count": 5,
     "metadata": {},
     "output_type": "execute_result"
    }
   ],
   "source": [
    "# only want closing price for each day\n",
    "bitcoin_prices = pd.DataFrame(df[\"Closing Price (USD)\"]).rename(columns = {\"Closing Price (USD)\":\"Price\"})\n",
    "bitcoin_prices"
   ]
  },
  {
   "cell_type": "code",
   "execution_count": 6,
   "metadata": {},
   "outputs": [],
   "source": [
    "import matplotlib.pyplot as plt"
   ]
  },
  {
   "cell_type": "code",
   "execution_count": 7,
   "metadata": {},
   "outputs": [
    {
     "data": {
      "text/plain": [
       "Text(0.5, 1.0, 'Price of Bitcoin from 1 oct 2013 to 18 May 2021')"
      ]
     },
     "execution_count": 7,
     "metadata": {},
     "output_type": "execute_result"
    },
    {
     "data": {
      "image/png": "[encoded data removed]",
      "text/plain": [
       "<Figure size 1000x700 with 1 Axes>"
      ]
     },
     "metadata": {},
     "output_type": "display_data"
    }
   ],
   "source": [
    "bitcoin_prices.plot(figsize = (10, 7))\n",
    "plt.ylabel(\"BTC Price\")\n",
    "plt.title(\"Price of Bitcoin from 1 oct 2013 to 18 May 2021\", fontsize = 16)"
   ]
  },
  {
   "cell_type": "code",
   "execution_count": 8,
   "metadata": {},
   "outputs": [
    {
     "data": {
      "text/html": [
       "<div>\n",
       "<style scoped>\n",
       "    .dataframe tbody tr th:only-of-type {\n",
       "        vertical-align: middle;\n",
       "    }\n",
       "\n",
       "    .dataframe tbody tr th {\n",
       "        vertical-align: top;\n",
       "    }\n",
       "\n",
       "    .dataframe thead th {\n",
       "        text-align: right;\n",
       "    }\n",
       "</style>\n",
       "<table border=\"1\" class=\"dataframe\">\n",
       "  <thead>\n",
       "    <tr style=\"text-align: right;\">\n",
       "      <th></th>\n",
       "      <th>Price</th>\n",
       "    </tr>\n",
       "  </thead>\n",
       "  <tbody>\n",
       "    <tr>\n",
       "      <th>count</th>\n",
       "      <td>2787.000000</td>\n",
       "    </tr>\n",
       "    <tr>\n",
       "      <th>mean</th>\n",
       "      <td>6529.845141</td>\n",
       "    </tr>\n",
       "    <tr>\n",
       "      <th>std</th>\n",
       "      <td>10887.847444</td>\n",
       "    </tr>\n",
       "    <tr>\n",
       "      <th>min</th>\n",
       "      <td>108.584830</td>\n",
       "    </tr>\n",
       "    <tr>\n",
       "      <th>25%</th>\n",
       "      <td>460.087500</td>\n",
       "    </tr>\n",
       "    <tr>\n",
       "      <th>50%</th>\n",
       "      <td>2780.182500</td>\n",
       "    </tr>\n",
       "    <tr>\n",
       "      <th>75%</th>\n",
       "      <td>8506.923720</td>\n",
       "    </tr>\n",
       "    <tr>\n",
       "      <th>max</th>\n",
       "      <td>63346.789040</td>\n",
       "    </tr>\n",
       "  </tbody>\n",
       "</table>\n",
       "</div>"
      ],
      "text/plain": [
       "              Price\n",
       "count   2787.000000\n",
       "mean    6529.845141\n",
       "std    10887.847444\n",
       "min      108.584830\n",
       "25%      460.087500\n",
       "50%     2780.182500\n",
       "75%     8506.923720\n",
       "max    63346.789040"
      ]
     },
     "execution_count": 8,
     "metadata": {},
     "output_type": "execute_result"
    }
   ],
   "source": [
    "bitcoin_prices.describe()"
   ]
  },
  {
   "cell_type": "markdown",
   "metadata": {},
   "source": [
    "Dataset doesn't have any missing values or other issues we can go ahead with model building."
   ]
  },
  {
   "cell_type": "markdown",
   "metadata": {},
   "source": [
    "#### Train-Test Split"
   ]
  },
  {
   "cell_type": "code",
   "execution_count": 9,
   "metadata": {},
   "outputs": [],
   "source": [
    "from sklearn.model_selection import train_test_split"
   ]
  },
  {
   "cell_type": "code",
   "execution_count": 10,
   "metadata": {},
   "outputs": [
    {
     "data": {
      "text/plain": [
       "(array(['2013-10-01T00:00:00.000000000', '2013-10-02T00:00:00.000000000',\n",
       "        '2013-10-03T00:00:00.000000000', '2013-10-04T00:00:00.000000000',\n",
       "        '2013-10-05T00:00:00.000000000', '2013-10-06T00:00:00.000000000',\n",
       "        '2013-10-07T00:00:00.000000000', '2013-10-08T00:00:00.000000000',\n",
       "        '2013-10-09T00:00:00.000000000', '2013-10-10T00:00:00.000000000'],\n",
       "       dtype='datetime64[ns]'),\n",
       " array([123.65499, 125.455  , 108.58483, 118.67466, 121.33866, 120.65533,\n",
       "        121.795  , 123.033  , 124.049  , 125.96116]))"
      ]
     },
     "execution_count": 10,
     "metadata": {},
     "output_type": "execute_result"
    }
   ],
   "source": [
    "#get bitcoin date array\n",
    "timesteps = bitcoin_prices.index.to_numpy()\n",
    "prices = bitcoin_prices[\"Price\"].to_numpy()\n",
    "\n",
    "timesteps[:10],  prices[:10]"
   ]
  },
  {
   "cell_type": "code",
   "execution_count": 11,
   "metadata": {},
   "outputs": [
    {
     "data": {
      "text/plain": [
       "(2229, 2229, 558, 558)"
      ]
     },
     "execution_count": 11,
     "metadata": {},
     "output_type": "execute_result"
    }
   ],
   "source": [
    "# create train and test splits the right way for the time series data\n",
    "split_size = int(0.8*len(prices)) #80%train 20% test\n",
    "\n",
    "#create train data splits (everything before the split)\n",
    "x_train, y_train = timesteps[:split_size], prices[:split_size]\n",
    "\n",
    "#create test data splits (everything  beyond the split)\n",
    "x_test, y_test = timesteps[split_size:], prices[split_size:]\n",
    "\n",
    "len(x_train), len(y_train), len(x_test), len(y_test)"
   ]
  },
  {
   "cell_type": "code",
   "execution_count": 12,
   "metadata": {},
   "outputs": [
    {
     "data": {
      "image/png": "[encoded data removed]",
      "text/plain": [
       "<Figure size 1400x700 with 1 Axes>"
      ]
     },
     "metadata": {},
     "output_type": "display_data"
    }
   ],
   "source": [
    "#plotting train test split\n",
    "plt.figure(figsize = (14, 7))\n",
    "plt.scatter(x_train, y_train, s = 5, label = \"Train data\")\n",
    "plt.scatter(x_test, y_test, s = 5, label = \"test data\")\n",
    "plt.xlabel(\"Date\")\n",
    "plt.xticks(rotation=45, ha=\"right\")\n",
    "plt.legend(fontsize = 14)\n",
    "plt.show()"
   ]
  },
  {
   "cell_type": "code",
   "execution_count": 13,
   "metadata": {},
   "outputs": [],
   "source": [
    "#create a function to plot time series data\n",
    "def plot_time_series(timesteps, values, fomrat = \".\", start = 0, end = None, label = None):\n",
    "  \"\"\"\n",
    "  plots timesteps (a seires of points in time) against values (a series of valuesacross timesteps)\n",
    "\n",
    "  Parameters\n",
    "  -----------\n",
    "  timesteps : array of timestep values\n",
    "  value : array of values across time\n",
    "  format : style of plot, default \".\"\n",
    "  start : where to start the plot (setting a value will index from start of timestep)\n",
    "  end : where to end the plot (similar to start but for the end)\n",
    "  label : label to show on plot about values\n",
    "  \"\"\"\n",
    "\n",
    "  #Plot the series\n",
    "  plt.plot(timesteps[start:end], values[start:end])\n",
    "  plt.xlabel(\"Time\")\n",
    "  plt.ylabel(\"BTC Price\")\n",
    "  plt.legend(fontsize = 14)\n",
    "  plt.grid(True)\n"
   ]
  },
  {
   "cell_type": "code",
   "execution_count": 14,
   "metadata": {},
   "outputs": [
    {
     "name": "stderr",
     "output_type": "stream",
     "text": [
      "No artists with labels found to put in legend.  Note that artists whose label start with an underscore are ignored when legend() is called with no argument.\n",
      "No artists with labels found to put in legend.  Note that artists whose label start with an underscore are ignored when legend() is called with no argument.\n"
     ]
    },
    {
     "data": {
      "image/png": "[encoded data removed]",
      "text/plain": [
       "<Figure size 1000x700 with 1 Axes>"
      ]
     },
     "metadata": {},
     "output_type": "display_data"
    }
   ],
   "source": [
    "#Test our plotting function\n",
    "plt.figure(figsize = (10, 7))\n",
    "plot_time_series(timesteps = x_train,\n",
    "                 values = y_train,\n",
    "                 label = \"train data\")\n",
    "\n",
    "plot_time_series(timesteps = x_test,\n",
    "                 values = y_test,\n",
    "                 label = \"test data\")"
   ]
  },
  {
   "cell_type": "markdown",
   "metadata": {},
   "source": [
    "### Model Building"
   ]
  },
  {
   "cell_type": "markdown",
   "metadata": {},
   "source": [
    "#### Naive forecast"
   ]
  },
  {
   "cell_type": "code",
   "execution_count": 15,
   "metadata": {},
   "outputs": [
    {
     "data": {
      "text/plain": [
       "(array([9226.485821, 8794.358645, 8798.042055, 9081.186878, 8711.534339,\n",
       "        8760.892718, 8749.520591, 8656.970922, 8500.643558, 8469.260899]),\n",
       " array([57107.12067, 58788.20968, 58102.19143, 55715.54665, 56573.55547,\n",
       "        52147.82119, 49764.13208, 50032.69314, 47885.62525, 45604.61575]))"
      ]
     },
     "execution_count": 15,
     "metadata": {},
     "output_type": "execute_result"
    }
   ],
   "source": [
    "#create a naive forecast\n",
    "naive_forecast = y_test[:-1]\n",
    "\n",
    "naive_forecast[:10], naive_forecast[-10:]"
   ]
  },
  {
   "cell_type": "code",
   "execution_count": 16,
   "metadata": {},
   "outputs": [
    {
     "data": {
      "text/plain": [
       "array([58788.20968, 58102.19143, 55715.54665, 56573.55547, 52147.82119,\n",
       "       49764.13208, 50032.69314, 47885.62525, 45604.61575, 43144.47129])"
      ]
     },
     "execution_count": 16,
     "metadata": {},
     "output_type": "execute_result"
    }
   ],
   "source": [
    "y_test[-10:]"
   ]
  },
  {
   "cell_type": "code",
   "execution_count": 17,
   "metadata": {},
   "outputs": [
    {
     "data": {
      "text/plain": [
       "557"
      ]
     },
     "execution_count": 17,
     "metadata": {},
     "output_type": "execute_result"
    }
   ],
   "source": [
    "len(naive_forecast)"
   ]
  },
  {
   "cell_type": "code",
   "execution_count": 18,
   "metadata": {},
   "outputs": [
    {
     "data": {
      "text/plain": [
       "558"
      ]
     },
     "execution_count": 18,
     "metadata": {},
     "output_type": "execute_result"
    }
   ],
   "source": [
    "len(y_test)"
   ]
  },
  {
   "cell_type": "code",
   "execution_count": 19,
   "metadata": {},
   "outputs": [
    {
     "name": "stderr",
     "output_type": "stream",
     "text": [
      "No artists with labels found to put in legend.  Note that artists whose label start with an underscore are ignored when legend() is called with no argument.\n",
      "No artists with labels found to put in legend.  Note that artists whose label start with an underscore are ignored when legend() is called with no argument.\n",
      "No artists with labels found to put in legend.  Note that artists whose label start with an underscore are ignored when legend() is called with no argument.\n",
      "No artists with labels found to put in legend.  Note that artists whose label start with an underscore are ignored when legend() is called with no argument.\n"
     ]
    },
    {
     "data": {
      "image/png": "[encoded data removed]",
      "text/plain": [
       "<Figure size 1000x700 with 1 Axes>"
      ]
     },
     "metadata": {},
     "output_type": "display_data"
    }
   ],
   "source": [
    "#plot naive forecast\n",
    "plt.figure(figsize = (10, 7))\n",
    "plt.legend()\n",
    "plot_time_series(timesteps = x_train, values = y_train, label = \"Train_data\")\n",
    "plot_time_series(timesteps = x_test, values = y_test, label = \"Test_data\")\n",
    "plot_time_series(timesteps = x_test[1:], values = naive_forecast, fomrat=\".\", label = \"Naive_Forecast\")\n"
   ]
  },
  {
   "cell_type": "markdown",
   "metadata": {},
   "source": [
    "#### Model Evaluation"
   ]
  },
  {
   "cell_type": "code",
   "execution_count": 20,
   "metadata": {},
   "outputs": [
    {
     "name": "stdout",
     "output_type": "stream",
     "text": [
      "WARNING:tensorflow:From c:\\Users\\moham\\anaconda3\\Lib\\site-packages\\keras\\src\\losses.py:2976: The name tf.losses.sparse_softmax_cross_entropy is deprecated. Please use tf.compat.v1.losses.sparse_softmax_cross_entropy instead.\n",
      "\n"
     ]
    }
   ],
   "source": [
    "import tensorflow as tf"
   ]
  },
  {
   "cell_type": "code",
   "execution_count": 21,
   "metadata": {},
   "outputs": [],
   "source": [
    "# MASE Implementation\n",
    "def mean_absolute_scaled_error(y_true, y_pred):\n",
    "  #Implement MASE (assuming no seasonality of data)\n",
    "  mae = tf.reduce_mean(tf.abs(y_true - y_pred))\n",
    "  #Find MAE of naive forecast (no seasonality)\n",
    "  mae_naive_no_season = tf.reduce_mean(tf.abs(y_true[1:] - y_true[:-1]))\n",
    "\n",
    "  return mae / mae_naive_no_season"
   ]
  },
  {
   "cell_type": "code",
   "execution_count": 22,
   "metadata": {},
   "outputs": [
    {
     "data": {
      "text/plain": [
       "0.9995699939172403"
      ]
     },
     "execution_count": 22,
     "metadata": {},
     "output_type": "execute_result"
    }
   ],
   "source": [
    "mean_absolute_scaled_error(y_true = y_test[1:],\n",
    "                           y_pred = naive_forecast).numpy()"
   ]
  },
  {
   "cell_type": "code",
   "execution_count": 23,
   "metadata": {},
   "outputs": [],
   "source": [
    "# create a function to take in model predictions and truth values and return evaluated results in a dictionary\n",
    "def evaluate_preds(y_true, y_pred):\n",
    "  #make sure float32 datatype (for metric calculation)\\\n",
    "  y_true = tf.cast(y_true, dtype = tf.float32)\n",
    "  y_pred = tf.cast(y_pred, dtype = tf.float32)\n",
    "\n",
    "\n",
    "  #Calculate various evaluation metrics\n",
    "  mae = tf.keras.metrics.mean_absolute_error(y_true, y_pred)\n",
    "  mse = tf.keras.metrics.mean_squared_error(y_true, y_pred)\n",
    "  rmse = tf.sqrt(mse)\n",
    "  mape = tf.keras.metrics.mean_absolute_percentage_error(y_true, y_pred)\n",
    "  mase = mean_absolute_scaled_error(y_true, y_pred)\n",
    "\n",
    "  return {\"mae\": mae.numpy(),\n",
    "          \"mse\": mse.numpy(),\n",
    "          \"rmse\": rmse.numpy(),\n",
    "          \"mape\": mape.numpy(),\n",
    "          \"mase\": mase.numpy()}"
   ]
  },
  {
   "cell_type": "code",
   "execution_count": 24,
   "metadata": {},
   "outputs": [
    {
     "data": {
      "text/plain": [
       "{'mae': 567.9802,\n",
       " 'mse': 1147547.0,\n",
       " 'rmse': 1071.2362,\n",
       " 'mape': 2.516525,\n",
       " 'mase': 0.99957}"
      ]
     },
     "execution_count": 24,
     "metadata": {},
     "output_type": "execute_result"
    }
   ],
   "source": [
    "naive_results = evaluate_preds(y_true = y_test[1:],\n",
    "                               y_pred = y_test[:-1])\n",
    "\n",
    "naive_results"
   ]
  },
  {
   "cell_type": "markdown",
   "metadata": {},
   "source": [
    "#### Windowing our dataset"
   ]
  },
  {
   "cell_type": "markdown",
   "metadata": {},
   "source": [
    "windowing our time series dataset to turn our data into supervised learning problem\n",
    "\n",
    "windowing for one week\n",
    "[0, 1, 2, 3, 4, 5, 6] -> [7]\n",
    "[1, 2, 3, 4, 5, 6, 7] -> [8]\n",
    "[2, 3, 4, 5, 6, 7, 8] -> [9]"
   ]
  },
  {
   "cell_type": "code",
   "execution_count": 25,
   "metadata": {},
   "outputs": [
    {
     "data": {
      "text/plain": [
       "2229"
      ]
     },
     "execution_count": 25,
     "metadata": {},
     "output_type": "execute_result"
    }
   ],
   "source": [
    "#given\n",
    "len(y_train)"
   ]
  },
  {
   "cell_type": "code",
   "execution_count": 26,
   "metadata": {},
   "outputs": [
    {
     "name": "stdout",
     "output_type": "stream",
     "text": [
      "We want to use [123.65499 125.455   108.58483 118.67466 121.33866 120.65533 121.795  ]\n",
      "to predict 123.033\n"
     ]
    }
   ],
   "source": [
    "print(f\"We want to use {prices[:7]}\\nto predict {prices[7]}\")"
   ]
  },
  {
   "cell_type": "code",
   "execution_count": 27,
   "metadata": {},
   "outputs": [],
   "source": [
    "# Let's setup global variables for window and horizon size\n",
    "HORIZON = 1 #predict the next one day\n",
    "WINDOW_SIZE = 7 #use  the past week data for this"
   ]
  },
  {
   "cell_type": "code",
   "execution_count": 28,
   "metadata": {},
   "outputs": [],
   "source": [
    "# create function to label windowed data\n",
    "def get_labelled_window(x, horizon = HORIZON):\n",
    "  \"\"\"\n",
    "  Creates labels for windowed dataset.\n",
    "  E.g. if horizon = 1\n",
    "  Input: [0, 1, 2, 3, 4, 5, 6, 7] -> Output:[0, 1, 2, 3, 4, 5, 6]  [7]\n",
    "  \"\"\"\n",
    "  return x[:, :-horizon], x[:, -horizon]"
   ]
  },
  {
   "cell_type": "code",
   "execution_count": 29,
   "metadata": {},
   "outputs": [],
   "source": [
    "z = tf.range(8)+1"
   ]
  },
  {
   "cell_type": "code",
   "execution_count": 30,
   "metadata": {},
   "outputs": [
    {
     "data": {
      "text/plain": [
       "(<tf.Tensor: shape=(7,), dtype=int32, numpy=array([1, 2, 3, 4, 5, 6, 7])>,\n",
       " <tf.Tensor: shape=(), dtype=int32, numpy=8>)"
      ]
     },
     "execution_count": 30,
     "metadata": {},
     "output_type": "execute_result"
    }
   ],
   "source": [
    "z[:-1], z[-1]"
   ]
  },
  {
   "cell_type": "code",
   "execution_count": 31,
   "metadata": {},
   "outputs": [
    {
     "data": {
      "text/plain": [
       "<tf.Tensor: shape=(1, 8), dtype=int32, numpy=array([[1, 2, 3, 4, 5, 6, 7, 8]])>"
      ]
     },
     "execution_count": 31,
     "metadata": {},
     "output_type": "execute_result"
    }
   ],
   "source": [
    "tf.expand_dims(tf.range(8)+1, axis = 0)"
   ]
  },
  {
   "cell_type": "code",
   "execution_count": 32,
   "metadata": {},
   "outputs": [
    {
     "data": {
      "text/plain": [
       "(<tf.Tensor: shape=(1, 7), dtype=int32, numpy=array([[1, 2, 3, 4, 5, 6, 7]])>,\n",
       " <tf.Tensor: shape=(1,), dtype=int32, numpy=array([8])>)"
      ]
     },
     "execution_count": 32,
     "metadata": {},
     "output_type": "execute_result"
    }
   ],
   "source": [
    "# test out the window lebelling function\n",
    "test_window, test_label = get_labelled_window(tf.expand_dims(tf.range(8)+1, axis = 0))\n",
    "test_window, test_label\n"
   ]
  },
  {
   "cell_type": "markdown",
   "metadata": {},
   "source": [
    "We've got a way to label our windowed data.\n",
    "However , this only works in a small scale.\n",
    "We need to find a way to do this across the entire time series.\n",
    "We could do this with python for loops, however fo rlarge timee series data that would be quite slow.\n",
    "To speed things up, we'll leverage NUmpy's array indexing."
   ]
  },
  {
   "cell_type": "code",
   "execution_count": 33,
   "metadata": {},
   "outputs": [],
   "source": [
    "'''Creating a function which will:\n",
    "1. Createa windowstep of specific window size(e.g. [0, 1, 2, 3, 4, 5, 6])\n",
    "2. Use Numpy indexing to create a 2D array of multpile window steps.\n",
    "```\n",
    "[[0, 1, 2, 3, 4, 5, 6],\n",
    "[1, 2, 3, 4, 5, 6, 7],\n",
    "]2, 3, 4, 5, 6, 7, 8]]\n",
    "```\n",
    "3. Uses the 2D array of multiple window steps (from 2) to index on a target series(e.g. the historical price of bitocin).\n",
    "4. Uses our `get_labelled_window()` function we created to turn the window steps into a windows with a specific horizon'''\n",
    "import numpy as np\n",
    "\n",
    "# create function to view NumPy arrays as windows\n",
    "def make_windows(x, window_size = WINDOW_SIZE, horizon = HORIZON):\n",
    "  \"\"\"\n",
    "  Turns a 1D array into a 2D array of sequential labelled windows of window_szie with horizon size labels.\n",
    "  \"\"\"\n",
    "  #1. create a window of specific wondow size\n",
    "  window_step = np.expand_dims(np.arange(window_size + horizon), axis = 0)\n",
    "\n",
    "  #2. create a 2D array of multiple window steps (minus 1 to account for 0 indexing)\n",
    "  window_indexes = window_step + np.expand_dims(np.arange(len(x) - (window_size + horizon - 1)), axis = 0).T\n",
    "\n",
    "  print(f\"window indexes:\\n {window_indexes, window_indexes.shape}\")\n",
    "\n",
    "\n",
    "  #3. index on the target array (a time series) with 2D array of multiple window steps\n",
    "  windowed_array = x[window_indexes]\n",
    "  #4. get labelled windows\n",
    "  windows, labels = get_labelled_window(windowed_array, horizon = horizon)\n",
    "  return windows, labels\n"
   ]
  },
  {
   "cell_type": "code",
   "execution_count": 34,
   "metadata": {},
   "outputs": [
    {
     "data": {
      "text/plain": [
       "array([[   0],\n",
       "       [   1],\n",
       "       [   2],\n",
       "       ...,\n",
       "       [2777],\n",
       "       [2778],\n",
       "       [2779]])"
      ]
     },
     "execution_count": 34,
     "metadata": {},
     "output_type": "execute_result"
    }
   ],
   "source": [
    "np.expand_dims(np.arange(len(prices) - 7), axis = 0).T"
   ]
  },
  {
   "cell_type": "code",
   "execution_count": 35,
   "metadata": {},
   "outputs": [
    {
     "name": "stdout",
     "output_type": "stream",
     "text": [
      "window indexes:\n",
      " (array([[   0,    1,    2, ...,    5,    6,    7],\n",
      "       [   1,    2,    3, ...,    6,    7,    8],\n",
      "       [   2,    3,    4, ...,    7,    8,    9],\n",
      "       ...,\n",
      "       [2777, 2778, 2779, ..., 2782, 2783, 2784],\n",
      "       [2778, 2779, 2780, ..., 2783, 2784, 2785],\n",
      "       [2779, 2780, 2781, ..., 2784, 2785, 2786]]), (2780, 8))\n"
     ]
    },
    {
     "data": {
      "text/plain": [
       "(2780, 2780)"
      ]
     },
     "execution_count": 35,
     "metadata": {},
     "output_type": "execute_result"
    }
   ],
   "source": [
    "#get the windowed output\n",
    "\n",
    "full_windows, full_labels = make_windows(prices, window_size = WINDOW_SIZE, horizon = HORIZON)\n",
    "len(full_windows), len(full_labels)"
   ]
  },
  {
   "cell_type": "code",
   "execution_count": 36,
   "metadata": {},
   "outputs": [
    {
     "data": {
      "text/plain": [
       "array([125.455  , 108.58483, 118.67466, 121.33866, 120.65533, 121.795  ,\n",
       "       123.033  ])"
      ]
     },
     "execution_count": 36,
     "metadata": {},
     "output_type": "execute_result"
    }
   ],
   "source": [
    "full_windows[1]"
   ]
  },
  {
   "cell_type": "code",
   "execution_count": 37,
   "metadata": {},
   "outputs": [
    {
     "data": {
      "text/plain": [
       "124.049"
      ]
     },
     "execution_count": 37,
     "metadata": {},
     "output_type": "execute_result"
    }
   ],
   "source": [
    "full_labels[1]"
   ]
  },
  {
   "cell_type": "markdown",
   "metadata": {},
   "source": [
    "#### Turning windows into training and test sets"
   ]
  },
  {
   "cell_type": "code",
   "execution_count": 38,
   "metadata": {},
   "outputs": [],
   "source": [
    "# make the train test splits\n",
    "def make_train_test_splits(windows, labels, test_splits = 0.2):\n",
    "  \"\"\"\n",
    "  Splits mmatching pairs into training and testing splits\n",
    "  \"\"\"\n",
    "  split_size = int(len(windows) * (1 - test_splits)) # this will default to 80% train/20% test splits\n",
    "  train_windows = windows[:split_size]\n",
    "  train_labels = labels[:split_size]\n",
    "  test_windows = windows[split_size:]\n",
    "  test_labels = labels[split_size:]\n",
    "\n",
    "  return train_windows, test_windows, train_labels, test_labels"
   ]
  },
  {
   "cell_type": "code",
   "execution_count": 39,
   "metadata": {},
   "outputs": [
    {
     "data": {
      "text/plain": [
       "(2224, 556, 2224, 556)"
      ]
     },
     "execution_count": 39,
     "metadata": {},
     "output_type": "execute_result"
    }
   ],
   "source": [
    "# create train and test windows\n",
    "train_windows, test_windows, train_labels, test_labels = make_train_test_splits(full_windows, full_labels)\n",
    "len(train_windows), len(test_windows), len(train_labels), len(test_labels)"
   ]
  },
  {
   "cell_type": "code",
   "execution_count": 40,
   "metadata": {},
   "outputs": [
    {
     "data": {
      "text/plain": [
       "(array([[123.65499, 125.455  , 108.58483, 118.67466, 121.33866, 120.65533,\n",
       "         121.795  ],\n",
       "        [125.455  , 108.58483, 118.67466, 121.33866, 120.65533, 121.795  ,\n",
       "         123.033  ],\n",
       "        [108.58483, 118.67466, 121.33866, 120.65533, 121.795  , 123.033  ,\n",
       "         124.049  ],\n",
       "        [118.67466, 121.33866, 120.65533, 121.795  , 123.033  , 124.049  ,\n",
       "         125.96116],\n",
       "        [121.33866, 120.65533, 121.795  , 123.033  , 124.049  , 125.96116,\n",
       "         125.27966],\n",
       "        [120.65533, 121.795  , 123.033  , 124.049  , 125.96116, 125.27966,\n",
       "         125.9275 ],\n",
       "        [121.795  , 123.033  , 124.049  , 125.96116, 125.27966, 125.9275 ,\n",
       "         126.38333],\n",
       "        [123.033  , 124.049  , 125.96116, 125.27966, 125.9275 , 126.38333,\n",
       "         135.24199],\n",
       "        [124.049  , 125.96116, 125.27966, 125.9275 , 126.38333, 135.24199,\n",
       "         133.20333],\n",
       "        [125.96116, 125.27966, 125.9275 , 126.38333, 135.24199, 133.20333,\n",
       "         142.76333]]),\n",
       " array([123.033  , 124.049  , 125.96116, 125.27966, 125.9275 , 126.38333,\n",
       "        135.24199, 133.20333, 142.76333, 137.92333]))"
      ]
     },
     "execution_count": 40,
     "metadata": {},
     "output_type": "execute_result"
    }
   ],
   "source": [
    "train_windows[:10], train_labels[:10]"
   ]
  },
  {
   "cell_type": "code",
   "execution_count": 41,
   "metadata": {},
   "outputs": [
    {
     "data": {
      "text/plain": [
       "True"
      ]
     },
     "execution_count": 41,
     "metadata": {},
     "output_type": "execute_result"
    }
   ],
   "source": [
    "# check to see if train labels are the same (before and after window split)\n",
    "np.array_equal (np.squeeze(train_labels[:-HORIZON -1]),y_train[WINDOW_SIZE:])"
   ]
  },
  {
   "cell_type": "code",
   "execution_count": 42,
   "metadata": {},
   "outputs": [
    {
     "data": {
      "text/plain": [
       "array([ 123.65499 ,  125.455   ,  108.58483 , ..., 9369.628081,\n",
       "       9326.599624, 9335.752402])"
      ]
     },
     "execution_count": 42,
     "metadata": {},
     "output_type": "execute_result"
    }
   ],
   "source": [
    "y_train"
   ]
  },
  {
   "cell_type": "code",
   "execution_count": 43,
   "metadata": {},
   "outputs": [
    {
     "data": {
      "text/plain": [
       "array([ 123.033   ,  124.049   ,  125.96116 , ..., 9326.599624,\n",
       "       9335.752402, 9226.485821])"
      ]
     },
     "execution_count": 43,
     "metadata": {},
     "output_type": "execute_result"
    }
   ],
   "source": [
    "np.squeeze(train_labels[:-HORIZON ])"
   ]
  },
  {
   "cell_type": "code",
   "execution_count": 44,
   "metadata": {},
   "outputs": [],
   "source": [
    "#Creating a model check point\n",
    "import os\n",
    "\n",
    "#create a function to implement a MOdelCheckpoint callback with a specific filename.\n",
    "def create_model_checkpoint(model_name,  save_path = \"model_experiments\"):\n",
    "  return tf.keras.callbacks.ModelCheckpoint(filepath = os.path.join(save_path, model_name),\n",
    "                                            save_best_only = True)"
   ]
  },
  {
   "cell_type": "markdown",
   "metadata": {},
   "source": [
    "#### Model 1: Dense model (window = 7, horizon = 1)"
   ]
  },
  {
   "cell_type": "markdown",
   "metadata": {},
   "source": [
    "Our first deep model is going to be a simple dense model:\n",
    "\n",
    "- A single dense layer with 128 units and ReLu activation.\n",
    "- An output layer with linear activation(no activation)\n",
    "- Adam optimisation and MAE loss function\n",
    "- Batch size of 128 (previously we used 32, however our data is quite small, so we can upscale or batch size).\n",
    "- we are going to run for 100 epochs."
   ]
  },
  {
   "cell_type": "code",
   "execution_count": 45,
   "metadata": {},
   "outputs": [
    {
     "name": "stdout",
     "output_type": "stream",
     "text": [
      "WARNING:tensorflow:From c:\\Users\\moham\\anaconda3\\Lib\\site-packages\\keras\\src\\backend.py:873: The name tf.get_default_graph is deprecated. Please use tf.compat.v1.get_default_graph instead.\n",
      "\n",
      "Epoch 1/100\n",
      "WARNING:tensorflow:From c:\\Users\\moham\\anaconda3\\Lib\\site-packages\\keras\\src\\utils\\tf_utils.py:492: The name tf.ragged.RaggedTensorValue is deprecated. Please use tf.compat.v1.ragged.RaggedTensorValue instead.\n",
      "\n",
      "WARNING:tensorflow:From c:\\Users\\moham\\anaconda3\\Lib\\site-packages\\keras\\src\\engine\\base_layer_utils.py:384: The name tf.executing_eagerly_outside_functions is deprecated. Please use tf.compat.v1.executing_eagerly_outside_functions instead.\n",
      "\n",
      " 1/18 [>.............................] - ETA: 15s - loss: 2642.3943 - mae: 2642.3943 - mse: 14418537.0000"
     ]
    },
    {
     "name": "stdout",
     "output_type": "stream",
     "text": [
      "INFO:tensorflow:Assets written to: model_experiments\\model_1_dense\\assets\n"
     ]
    },
    {
     "name": "stderr",
     "output_type": "stream",
     "text": [
      "INFO:tensorflow:Assets written to: model_experiments\\model_1_dense\\assets\n"
     ]
    },
    {
     "name": "stdout",
     "output_type": "stream",
     "text": [
      "18/18 [==============================] - 2s 46ms/step - loss: 1067.4495 - mae: 1067.4495 - mse: 4135986.2500 - val_loss: 2545.8154 - val_mae: 2545.8154 - val_mse: 15316317.0000\n",
      "Epoch 2/100\n",
      " 1/18 [>.............................] - ETA: 0s - loss: 382.7519 - mae: 382.7519 - mse: 696608.5000INFO:tensorflow:Assets written to: model_experiments\\model_1_dense\\assets\n"
     ]
    },
    {
     "name": "stderr",
     "output_type": "stream",
     "text": [
      "INFO:tensorflow:Assets written to: model_experiments\\model_1_dense\\assets\n"
     ]
    },
    {
     "name": "stdout",
     "output_type": "stream",
     "text": [
      "18/18 [==============================] - 0s 22ms/step - loss: 314.3240 - mae: 314.3240 - mse: 411755.9375 - val_loss: 1448.2305 - val_mae: 1448.2305 - val_mse: 5244895.5000\n",
      "Epoch 3/100\n",
      " 1/18 [>.............................] - ETA: 0s - loss: 189.1719 - mae: 189.1719 - mse: 129776.1875INFO:tensorflow:Assets written to: model_experiments\\model_1_dense\\assets\n"
     ]
    },
    {
     "name": "stderr",
     "output_type": "stream",
     "text": [
      "INFO:tensorflow:Assets written to: model_experiments\\model_1_dense\\assets\n"
     ]
    },
    {
     "name": "stdout",
     "output_type": "stream",
     "text": [
      "18/18 [==============================] - 1s 31ms/step - loss: 191.6729 - mae: 191.6729 - mse: 187627.9219 - val_loss: 1140.1329 - val_mae: 1140.1329 - val_mse: 3706092.5000\n",
      "Epoch 4/100\n",
      " 1/18 [>.............................] - ETA: 0s - loss: 230.2209 - mae: 230.2209 - mse: 237099.6406INFO:tensorflow:Assets written to: model_experiments\\model_1_dense\\assets\n"
     ]
    },
    {
     "name": "stderr",
     "output_type": "stream",
     "text": [
      "INFO:tensorflow:Assets written to: model_experiments\\model_1_dense\\assets\n"
     ]
    },
    {
     "name": "stdout",
     "output_type": "stream",
     "text": [
      "18/18 [==============================] - 0s 25ms/step - loss: 178.1674 - mae: 178.1674 - mse: 168875.6562 - val_loss: 977.7651 - val_mae: 977.7651 - val_mse: 3148193.5000\n",
      "Epoch 5/100\n",
      " 1/18 [>.............................] - ETA: 0s - loss: 175.7090 - mae: 175.7090 - mse: 117603.4531INFO:tensorflow:Assets written to: model_experiments\\model_1_dense\\assets\n"
     ]
    },
    {
     "name": "stderr",
     "output_type": "stream",
     "text": [
      "INFO:tensorflow:Assets written to: model_experiments\\model_1_dense\\assets\n"
     ]
    },
    {
     "name": "stdout",
     "output_type": "stream",
     "text": [
      "18/18 [==============================] - 0s 24ms/step - loss: 172.8284 - mae: 172.8284 - mse: 161869.3281 - val_loss: 973.5430 - val_mae: 973.5430 - val_mse: 3044424.2500\n",
      "Epoch 6/100\n",
      " 1/18 [>.............................] - ETA: 0s - loss: 127.7298 - mae: 127.7298 - mse: 62397.2734INFO:tensorflow:Assets written to: model_experiments\\model_1_dense\\assets\n"
     ]
    },
    {
     "name": "stderr",
     "output_type": "stream",
     "text": [
      "INFO:tensorflow:Assets written to: model_experiments\\model_1_dense\\assets\n"
     ]
    },
    {
     "name": "stdout",
     "output_type": "stream",
     "text": [
      "18/18 [==============================] - 0s 27ms/step - loss: 170.8971 - mae: 170.8971 - mse: 155889.7656 - val_loss: 941.1286 - val_mae: 941.1286 - val_mse: 3021773.0000\n",
      "Epoch 7/100\n",
      "18/18 [==============================] - 0s 3ms/step - loss: 165.3164 - mae: 165.3164 - mse: 147667.5469 - val_loss: 944.7572 - val_mae: 944.7572 - val_mse: 2830172.5000\n",
      "Epoch 8/100\n",
      " 1/18 [>.............................] - ETA: 0s - loss: 140.3802 - mae: 140.3802 - mse: 79961.0469INFO:tensorflow:Assets written to: model_experiments\\model_1_dense\\assets\n"
     ]
    },
    {
     "name": "stderr",
     "output_type": "stream",
     "text": [
      "INFO:tensorflow:Assets written to: model_experiments\\model_1_dense\\assets\n"
     ]
    },
    {
     "name": "stdout",
     "output_type": "stream",
     "text": [
      "18/18 [==============================] - 0s 28ms/step - loss: 161.3742 - mae: 161.3742 - mse: 142572.4531 - val_loss: 887.7850 - val_mae: 887.7849 - val_mse: 2687807.2500\n",
      "Epoch 9/100\n",
      "18/18 [==============================] - 0s 4ms/step - loss: 160.6222 - mae: 160.6222 - mse: 140037.0469 - val_loss: 910.2856 - val_mae: 910.2856 - val_mse: 2607999.5000\n",
      "Epoch 10/100\n",
      " 1/18 [>.............................] - ETA: 0s - loss: 170.1800 - mae: 170.1800 - mse: 193704.4844INFO:tensorflow:Assets written to: model_experiments\\model_1_dense\\assets\n"
     ]
    },
    {
     "name": "stderr",
     "output_type": "stream",
     "text": [
      "INFO:tensorflow:Assets written to: model_experiments\\model_1_dense\\assets\n"
     ]
    },
    {
     "name": "stdout",
     "output_type": "stream",
     "text": [
      "18/18 [==============================] - 0s 27ms/step - loss: 155.5951 - mae: 155.5951 - mse: 134057.7656 - val_loss: 850.3856 - val_mae: 850.3856 - val_mse: 2428172.5000\n",
      "Epoch 11/100\n",
      " 1/18 [>.............................] - ETA: 0s - loss: 159.7752 - mae: 159.7752 - mse: 117797.7969INFO:tensorflow:Assets written to: model_experiments\\model_1_dense\\assets\n"
     ]
    },
    {
     "name": "stderr",
     "output_type": "stream",
     "text": [
      "INFO:tensorflow:Assets written to: model_experiments\\model_1_dense\\assets\n"
     ]
    },
    {
     "name": "stdout",
     "output_type": "stream",
     "text": [
      "18/18 [==============================] - 0s 28ms/step - loss: 151.5161 - mae: 151.5161 - mse: 125927.5000 - val_loss: 833.0927 - val_mae: 833.0927 - val_mse: 2318479.7500\n",
      "Epoch 12/100\n",
      "18/18 [==============================] - 0s 3ms/step - loss: 147.4387 - mae: 147.4387 - mse: 120712.1016 - val_loss: 836.4085 - val_mae: 836.4085 - val_mse: 2250704.5000\n",
      "Epoch 13/100\n",
      "18/18 [==============================] - 0s 4ms/step - loss: 147.2676 - mae: 147.2676 - mse: 120013.7969 - val_loss: 908.5771 - val_mae: 908.5771 - val_mse: 2397967.0000\n",
      "Epoch 14/100\n",
      " 1/18 [>.............................] - ETA: 0s - loss: 156.1669 - mae: 156.1669 - mse: 108145.5156INFO:tensorflow:Assets written to: model_experiments\\model_1_dense\\assets\n"
     ]
    },
    {
     "name": "stderr",
     "output_type": "stream",
     "text": [
      "INFO:tensorflow:Assets written to: model_experiments\\model_1_dense\\assets\n"
     ]
    },
    {
     "name": "stdout",
     "output_type": "stream",
     "text": [
      "18/18 [==============================] - 0s 24ms/step - loss: 146.1292 - mae: 146.1292 - mse: 114243.2969 - val_loss: 815.5789 - val_mae: 815.5789 - val_mse: 2108159.7500\n",
      "Epoch 15/100\n",
      " 1/18 [>.............................] - ETA: 0s - loss: 144.4818 - mae: 144.4818 - mse: 77303.4375INFO:tensorflow:Assets written to: model_experiments\\model_1_dense\\assets\n"
     ]
    },
    {
     "name": "stderr",
     "output_type": "stream",
     "text": [
      "INFO:tensorflow:Assets written to: model_experiments\\model_1_dense\\assets\n"
     ]
    },
    {
     "name": "stdout",
     "output_type": "stream",
     "text": [
      "18/18 [==============================] - 0s 25ms/step - loss: 140.6777 - mae: 140.6777 - mse: 110448.7188 - val_loss: 762.8053 - val_mae: 762.8053 - val_mse: 1954737.2500\n",
      "Epoch 16/100\n",
      "18/18 [==============================] - 0s 4ms/step - loss: 136.0678 - mae: 136.0678 - mse: 104196.3594 - val_loss: 762.9521 - val_mae: 762.9521 - val_mse: 1905426.3750\n",
      "Epoch 17/100\n",
      "18/18 [==============================] - 0s 4ms/step - loss: 134.6713 - mae: 134.6713 - mse: 102985.4062 - val_loss: 787.2312 - val_mae: 787.2312 - val_mse: 1936835.5000\n",
      "Epoch 18/100\n",
      " 1/18 [>.............................] - ETA: 0s - loss: 150.8194 - mae: 150.8194 - mse: 108760.7344INFO:tensorflow:Assets written to: model_experiments\\model_1_dense\\assets\n"
     ]
    },
    {
     "name": "stderr",
     "output_type": "stream",
     "text": [
      "INFO:tensorflow:Assets written to: model_experiments\\model_1_dense\\assets\n"
     ]
    },
    {
     "name": "stdout",
     "output_type": "stream",
     "text": [
      "18/18 [==============================] - 0s 24ms/step - loss: 136.1429 - mae: 136.1429 - mse: 103928.8516 - val_loss: 752.0160 - val_mae: 752.0160 - val_mse: 1820638.7500\n",
      "Epoch 19/100\n",
      " 1/18 [>.............................] - ETA: 0s - loss: 80.6431 - mae: 80.6431 - mse: 36560.4961INFO:tensorflow:Assets written to: model_experiments\\model_1_dense\\assets\n"
     ]
    },
    {
     "name": "stderr",
     "output_type": "stream",
     "text": [
      "INFO:tensorflow:Assets written to: model_experiments\\model_1_dense\\assets\n"
     ]
    },
    {
     "name": "stdout",
     "output_type": "stream",
     "text": [
      "18/18 [==============================] - 0s 23ms/step - loss: 130.2648 - mae: 130.2648 - mse: 96273.7500 - val_loss: 743.4096 - val_mae: 743.4096 - val_mse: 1774591.1250\n",
      "Epoch 20/100\n",
      " 1/18 [>.............................] - ETA: 0s - loss: 146.4640 - mae: 146.4640 - mse: 123521.0938INFO:tensorflow:Assets written to: model_experiments\\model_1_dense\\assets\n"
     ]
    },
    {
     "name": "stderr",
     "output_type": "stream",
     "text": [
      "INFO:tensorflow:Assets written to: model_experiments\\model_1_dense\\assets\n"
     ]
    },
    {
     "name": "stdout",
     "output_type": "stream",
     "text": [
      "18/18 [==============================] - 0s 23ms/step - loss: 128.3573 - mae: 128.3573 - mse: 94996.0781 - val_loss: 720.6333 - val_mae: 720.6333 - val_mse: 1780044.0000\n",
      "Epoch 21/100\n",
      " 1/18 [>.............................] - ETA: 0s - loss: 174.7177 - mae: 174.7177 - mse: 135255.6250INFO:tensorflow:Assets written to: model_experiments\\model_1_dense\\assets\n"
     ]
    },
    {
     "name": "stderr",
     "output_type": "stream",
     "text": [
      "INFO:tensorflow:Assets written to: model_experiments\\model_1_dense\\assets\n"
     ]
    },
    {
     "name": "stdout",
     "output_type": "stream",
     "text": [
      "18/18 [==============================] - 0s 23ms/step - loss: 132.3432 - mae: 132.3432 - mse: 99572.9766 - val_loss: 698.1631 - val_mae: 698.1631 - val_mse: 1623278.1250\n",
      "Epoch 22/100\n",
      " 1/18 [>.............................] - ETA: 0s - loss: 183.3220 - mae: 183.3220 - mse: 186499.6875INFO:tensorflow:Assets written to: model_experiments\\model_1_dense\\assets\n"
     ]
    },
    {
     "name": "stderr",
     "output_type": "stream",
     "text": [
      "INFO:tensorflow:Assets written to: model_experiments\\model_1_dense\\assets\n"
     ]
    },
    {
     "name": "stdout",
     "output_type": "stream",
     "text": [
      "18/18 [==============================] - 0s 23ms/step - loss: 126.9055 - mae: 126.9055 - mse: 92170.6328 - val_loss: 694.0618 - val_mae: 694.0618 - val_mse: 1596259.6250\n",
      "Epoch 23/100\n",
      " 1/18 [>.............................] - ETA: 0s - loss: 125.0014 - mae: 125.0014 - mse: 72086.9531INFO:tensorflow:Assets written to: model_experiments\\model_1_dense\\assets\n"
     ]
    },
    {
     "name": "stderr",
     "output_type": "stream",
     "text": [
      "INFO:tensorflow:Assets written to: model_experiments\\model_1_dense\\assets\n"
     ]
    },
    {
     "name": "stdout",
     "output_type": "stream",
     "text": [
      "18/18 [==============================] - 0s 23ms/step - loss: 127.5395 - mae: 127.5395 - mse: 92719.5469 - val_loss: 685.6462 - val_mae: 685.6462 - val_mse: 1563616.7500\n",
      "Epoch 24/100\n",
      " 1/18 [>.............................] - ETA: 0s - loss: 133.9890 - mae: 133.9890 - mse: 82413.1328INFO:tensorflow:Assets written to: model_experiments\\model_1_dense\\assets\n"
     ]
    },
    {
     "name": "stderr",
     "output_type": "stream",
     "text": [
      "INFO:tensorflow:Assets written to: model_experiments\\model_1_dense\\assets\n"
     ]
    },
    {
     "name": "stdout",
     "output_type": "stream",
     "text": [
      "18/18 [==============================] - 0s 22ms/step - loss: 123.1021 - mae: 123.1021 - mse: 87916.3672 - val_loss: 668.6978 - val_mae: 668.6978 - val_mse: 1517374.6250\n",
      "Epoch 25/100\n",
      " 1/18 [>.............................] - ETA: 0s - loss: 133.9788 - mae: 133.9788 - mse: 75513.7188INFO:tensorflow:Assets written to: model_experiments\\model_1_dense\\assets\n"
     ]
    },
    {
     "name": "stderr",
     "output_type": "stream",
     "text": [
      "INFO:tensorflow:Assets written to: model_experiments\\model_1_dense\\assets\n"
     ]
    },
    {
     "name": "stdout",
     "output_type": "stream",
     "text": [
      "18/18 [==============================] - 0s 23ms/step - loss: 122.0671 - mae: 122.0671 - mse: 86120.3203 - val_loss: 658.3475 - val_mae: 658.3475 - val_mse: 1489540.6250\n",
      "Epoch 26/100\n",
      " 1/18 [>.............................] - ETA: 0s - loss: 118.3099 - mae: 118.3099 - mse: 67614.4688INFO:tensorflow:Assets written to: model_experiments\\model_1_dense\\assets\n"
     ]
    },
    {
     "name": "stderr",
     "output_type": "stream",
     "text": [
      "INFO:tensorflow:Assets written to: model_experiments\\model_1_dense\\assets\n"
     ]
    },
    {
     "name": "stdout",
     "output_type": "stream",
     "text": [
      "18/18 [==============================] - 0s 23ms/step - loss: 121.8120 - mae: 121.8120 - mse: 85587.2969 - val_loss: 652.1251 - val_mae: 652.1251 - val_mse: 1463581.3750\n",
      "Epoch 27/100\n",
      " 1/18 [>.............................] - ETA: 0s - loss: 169.1287 - mae: 169.1287 - mse: 135766.0312INFO:tensorflow:Assets written to: model_experiments\\model_1_dense\\assets\n"
     ]
    },
    {
     "name": "stderr",
     "output_type": "stream",
     "text": [
      "INFO:tensorflow:Assets written to: model_experiments\\model_1_dense\\assets\n"
     ]
    },
    {
     "name": "stdout",
     "output_type": "stream",
     "text": [
      "18/18 [==============================] - 0s 23ms/step - loss: 122.1997 - mae: 122.1997 - mse: 85160.6641 - val_loss: 646.4044 - val_mae: 646.4044 - val_mse: 1442333.8750\n",
      "Epoch 28/100\n",
      " 1/18 [>.............................] - ETA: 0s - loss: 111.5729 - mae: 111.5729 - mse: 72030.1562INFO:tensorflow:Assets written to: model_experiments\\model_1_dense\\assets\n"
     ]
    },
    {
     "name": "stderr",
     "output_type": "stream",
     "text": [
      "INFO:tensorflow:Assets written to: model_experiments\\model_1_dense\\assets\n"
     ]
    },
    {
     "name": "stdout",
     "output_type": "stream",
     "text": [
      "18/18 [==============================] - 0s 23ms/step - loss: 118.7871 - mae: 118.7871 - mse: 82770.0391 - val_loss: 642.3632 - val_mae: 642.3632 - val_mse: 1421653.6250\n",
      "Epoch 29/100\n",
      " 1/18 [>.............................] - ETA: 0s - loss: 112.3455 - mae: 112.3455 - mse: 88884.8359INFO:tensorflow:Assets written to: model_experiments\\model_1_dense\\assets\n"
     ]
    },
    {
     "name": "stderr",
     "output_type": "stream",
     "text": [
      "INFO:tensorflow:Assets written to: model_experiments\\model_1_dense\\assets\n"
     ]
    },
    {
     "name": "stdout",
     "output_type": "stream",
     "text": [
      "18/18 [==============================] - 0s 27ms/step - loss: 118.2277 - mae: 118.2277 - mse: 81907.5469 - val_loss: 635.6457 - val_mae: 635.6457 - val_mse: 1401794.7500\n",
      "Epoch 30/100\n",
      " 1/18 [>.............................] - ETA: 0s - loss: 136.2628 - mae: 136.2628 - mse: 101212.8125INFO:tensorflow:Assets written to: model_experiments\\model_1_dense\\assets\n"
     ]
    },
    {
     "name": "stderr",
     "output_type": "stream",
     "text": [
      "INFO:tensorflow:Assets written to: model_experiments\\model_1_dense\\assets\n"
     ]
    },
    {
     "name": "stdout",
     "output_type": "stream",
     "text": [
      "18/18 [==============================] - 0s 24ms/step - loss: 121.2740 - mae: 121.2740 - mse: 84094.1016 - val_loss: 631.3768 - val_mae: 631.3768 - val_mse: 1393389.8750\n",
      "Epoch 31/100\n",
      "18/18 [==============================] - 0s 3ms/step - loss: 118.7907 - mae: 118.7907 - mse: 80526.0703 - val_loss: 636.5570 - val_mae: 636.5570 - val_mse: 1387373.1250\n",
      "Epoch 32/100\n",
      " 1/18 [>.............................] - ETA: 0s - loss: 112.2158 - mae: 112.2158 - mse: 78503.6641INFO:tensorflow:Assets written to: model_experiments\\model_1_dense\\assets\n"
     ]
    },
    {
     "name": "stderr",
     "output_type": "stream",
     "text": [
      "INFO:tensorflow:Assets written to: model_experiments\\model_1_dense\\assets\n"
     ]
    },
    {
     "name": "stdout",
     "output_type": "stream",
     "text": [
      "18/18 [==============================] - 0s 24ms/step - loss: 116.3045 - mae: 116.3045 - mse: 81358.5000 - val_loss: 624.2731 - val_mae: 624.2731 - val_mse: 1366251.6250\n",
      "Epoch 33/100\n",
      "18/18 [==============================] - 0s 3ms/step - loss: 116.4876 - mae: 116.4876 - mse: 80198.1484 - val_loss: 641.4308 - val_mae: 641.4308 - val_mse: 1389137.1250\n",
      "Epoch 34/100\n",
      "18/18 [==============================] - 0s 3ms/step - loss: 116.7782 - mae: 116.7782 - mse: 80764.4219 - val_loss: 625.5999 - val_mae: 625.5999 - val_mse: 1373499.5000\n",
      "Epoch 35/100\n",
      " 1/18 [>.............................] - ETA: 0s - loss: 107.1591 - mae: 107.1591 - mse: 62870.2656INFO:tensorflow:Assets written to: model_experiments\\model_1_dense\\assets\n"
     ]
    },
    {
     "name": "stderr",
     "output_type": "stream",
     "text": [
      "INFO:tensorflow:Assets written to: model_experiments\\model_1_dense\\assets\n"
     ]
    },
    {
     "name": "stdout",
     "output_type": "stream",
     "text": [
      "18/18 [==============================] - 0s 24ms/step - loss: 114.0720 - mae: 114.0720 - mse: 78290.2656 - val_loss: 613.0436 - val_mae: 613.0436 - val_mse: 1328077.8750\n",
      "Epoch 36/100\n",
      "18/18 [==============================] - 0s 3ms/step - loss: 118.5767 - mae: 118.5767 - mse: 80575.1016 - val_loss: 634.6795 - val_mae: 634.6795 - val_mse: 1363106.2500\n",
      "Epoch 37/100\n",
      "18/18 [==============================] - 0s 3ms/step - loss: 118.2240 - mae: 118.2240 - mse: 81089.1328 - val_loss: 677.9925 - val_mae: 677.9925 - val_mse: 1511562.3750\n",
      "Epoch 38/100\n",
      " 1/18 [>.............................] - ETA: 0s - loss: 122.4056 - mae: 122.4056 - mse: 80239.5156INFO:tensorflow:Assets written to: model_experiments\\model_1_dense\\assets\n"
     ]
    },
    {
     "name": "stderr",
     "output_type": "stream",
     "text": [
      "INFO:tensorflow:Assets written to: model_experiments\\model_1_dense\\assets\n"
     ]
    },
    {
     "name": "stdout",
     "output_type": "stream",
     "text": [
      "18/18 [==============================] - 0s 23ms/step - loss: 116.9626 - mae: 116.9626 - mse: 80714.0547 - val_loss: 610.9150 - val_mae: 610.9150 - val_mse: 1304324.0000\n",
      "Epoch 39/100\n",
      " 1/18 [>.............................] - ETA: 0s - loss: 132.0475 - mae: 132.0475 - mse: 111189.7812INFO:tensorflow:Assets written to: model_experiments\\model_1_dense\\assets\n"
     ]
    },
    {
     "name": "stderr",
     "output_type": "stream",
     "text": [
      "INFO:tensorflow:Assets written to: model_experiments\\model_1_dense\\assets\n"
     ]
    },
    {
     "name": "stdout",
     "output_type": "stream",
     "text": [
      "18/18 [==============================] - 1s 33ms/step - loss: 112.9060 - mae: 112.9060 - mse: 77157.1016 - val_loss: 604.1440 - val_mae: 604.1440 - val_mse: 1293941.6250\n",
      "Epoch 40/100\n",
      "18/18 [==============================] - 0s 4ms/step - loss: 112.0388 - mae: 112.0388 - mse: 75061.6875 - val_loss: 604.7435 - val_mae: 604.7435 - val_mse: 1300344.3750\n",
      "Epoch 41/100\n",
      "18/18 [==============================] - 0s 3ms/step - loss: 112.2302 - mae: 112.2302 - mse: 76567.6406 - val_loss: 643.6073 - val_mae: 643.6073 - val_mse: 1399462.2500\n",
      "Epoch 42/100\n",
      " 1/18 [>.............................] - ETA: 0s - loss: 113.3446 - mae: 113.3446 - mse: 61806.9453INFO:tensorflow:Assets written to: model_experiments\\model_1_dense\\assets\n"
     ]
    },
    {
     "name": "stderr",
     "output_type": "stream",
     "text": [
      "INFO:tensorflow:Assets written to: model_experiments\\model_1_dense\\assets\n"
     ]
    },
    {
     "name": "stdout",
     "output_type": "stream",
     "text": [
      "18/18 [==============================] - 0s 27ms/step - loss: 119.4479 - mae: 119.4479 - mse: 80682.2969 - val_loss: 600.0120 - val_mae: 600.0120 - val_mse: 1272294.0000\n",
      "Epoch 43/100\n",
      "18/18 [==============================] - 0s 3ms/step - loss: 113.0702 - mae: 113.0702 - mse: 74673.0625 - val_loss: 614.3506 - val_mae: 614.3506 - val_mse: 1317947.5000\n",
      "Epoch 44/100\n",
      " 1/18 [>.............................] - ETA: 0s - loss: 67.2589 - mae: 67.2589 - mse: 17011.8711INFO:tensorflow:Assets written to: model_experiments\\model_1_dense\\assets\n"
     ]
    },
    {
     "name": "stderr",
     "output_type": "stream",
     "text": [
      "INFO:tensorflow:Assets written to: model_experiments\\model_1_dense\\assets\n"
     ]
    },
    {
     "name": "stdout",
     "output_type": "stream",
     "text": [
      "18/18 [==============================] - 0s 27ms/step - loss: 112.1159 - mae: 112.1159 - mse: 74842.2656 - val_loss: 595.6003 - val_mae: 595.6003 - val_mse: 1260968.6250\n",
      "Epoch 45/100\n",
      "18/18 [==============================] - 0s 4ms/step - loss: 110.3679 - mae: 110.3679 - mse: 74413.8281 - val_loss: 606.6259 - val_mae: 606.6259 - val_mse: 1297490.1250\n",
      "Epoch 46/100\n",
      "18/18 [==============================] - 0s 3ms/step - loss: 111.1562 - mae: 111.1562 - mse: 73955.5625 - val_loss: 596.4412 - val_mae: 596.4412 - val_mse: 1255754.3750\n",
      "Epoch 47/100\n",
      "18/18 [==============================] - 0s 4ms/step - loss: 110.9562 - mae: 110.9562 - mse: 74737.1562 - val_loss: 638.3041 - val_mae: 638.3041 - val_mse: 1338024.7500\n",
      "Epoch 48/100\n",
      "18/18 [==============================] - 0s 4ms/step - loss: 110.4306 - mae: 110.4306 - mse: 74246.9297 - val_loss: 608.3501 - val_mae: 608.3501 - val_mse: 1272917.3750\n",
      "Epoch 49/100\n",
      "18/18 [==============================] - 0s 4ms/step - loss: 111.6040 - mae: 111.6040 - mse: 74514.3281 - val_loss: 618.7038 - val_mae: 618.7038 - val_mse: 1291535.8750\n",
      "Epoch 50/100\n",
      " 1/18 [>.............................] - ETA: 0s - loss: 132.7933 - mae: 132.7933 - mse: 138939.3906INFO:tensorflow:Assets written to: model_experiments\\model_1_dense\\assets\n"
     ]
    },
    {
     "name": "stderr",
     "output_type": "stream",
     "text": [
      "INFO:tensorflow:Assets written to: model_experiments\\model_1_dense\\assets\n"
     ]
    },
    {
     "name": "stdout",
     "output_type": "stream",
     "text": [
      "18/18 [==============================] - 0s 28ms/step - loss: 115.9801 - mae: 115.9801 - mse: 76304.1562 - val_loss: 591.3893 - val_mae: 591.3893 - val_mse: 1250465.3750\n",
      "Epoch 51/100\n",
      " 1/18 [>.............................] - ETA: 0s - loss: 87.3780 - mae: 87.3780 - mse: 47360.0156INFO:tensorflow:Assets written to: model_experiments\\model_1_dense\\assets\n"
     ]
    },
    {
     "name": "stderr",
     "output_type": "stream",
     "text": [
      "INFO:tensorflow:Assets written to: model_experiments\\model_1_dense\\assets\n"
     ]
    },
    {
     "name": "stdout",
     "output_type": "stream",
     "text": [
      "18/18 [==============================] - 0s 26ms/step - loss: 110.0798 - mae: 110.0798 - mse: 72861.3359 - val_loss: 588.0261 - val_mae: 588.0261 - val_mse: 1233777.0000\n",
      "Epoch 52/100\n",
      "18/18 [==============================] - 0s 3ms/step - loss: 112.7806 - mae: 112.7806 - mse: 75974.5938 - val_loss: 594.8572 - val_mae: 594.8572 - val_mse: 1256434.5000\n",
      "Epoch 53/100\n",
      "18/18 [==============================] - 0s 3ms/step - loss: 112.7977 - mae: 112.7977 - mse: 75259.7969 - val_loss: 659.0772 - val_mae: 659.0772 - val_mse: 1379926.1250\n",
      "Epoch 54/100\n",
      "18/18 [==============================] - 0s 3ms/step - loss: 115.1263 - mae: 115.1263 - mse: 74921.8516 - val_loss: 598.9584 - val_mae: 598.9584 - val_mse: 1246386.8750\n",
      "Epoch 55/100\n",
      "18/18 [==============================] - 0s 3ms/step - loss: 111.8761 - mae: 111.8761 - mse: 74861.0391 - val_loss: 588.8094 - val_mae: 588.8094 - val_mse: 1229101.1250\n",
      "Epoch 56/100\n",
      "18/18 [==============================] - 0s 3ms/step - loss: 112.3102 - mae: 112.3102 - mse: 74068.7969 - val_loss: 811.7711 - val_mae: 811.7711 - val_mse: 1908968.7500\n",
      "Epoch 57/100\n",
      "18/18 [==============================] - 0s 3ms/step - loss: 133.4169 - mae: 133.4169 - mse: 89623.9062 - val_loss: 713.9133 - val_mae: 713.9133 - val_mse: 1586506.7500\n",
      "Epoch 58/100\n",
      "18/18 [==============================] - 0s 3ms/step - loss: 122.8715 - mae: 122.8715 - mse: 81089.5859 - val_loss: 703.2960 - val_mae: 703.2960 - val_mse: 1553463.2500\n",
      "Epoch 59/100\n",
      "18/18 [==============================] - 0s 3ms/step - loss: 111.2729 - mae: 111.2729 - mse: 72366.0938 - val_loss: 631.4629 - val_mae: 631.4629 - val_mse: 1335276.3750\n",
      "Epoch 60/100\n",
      "18/18 [==============================] - 0s 3ms/step - loss: 113.2928 - mae: 113.2928 - mse: 75688.2422 - val_loss: 632.1403 - val_mae: 632.1403 - val_mse: 1311432.0000\n",
      "Epoch 61/100\n",
      "18/18 [==============================] - 0s 4ms/step - loss: 111.5837 - mae: 111.5837 - mse: 74544.2500 - val_loss: 603.4698 - val_mae: 603.4698 - val_mse: 1249316.6250\n",
      "Epoch 62/100\n",
      " 1/18 [>.............................] - ETA: 0s - loss: 79.6971 - mae: 79.6971 - mse: 44023.5469INFO:tensorflow:Assets written to: model_experiments\\model_1_dense\\assets\n"
     ]
    },
    {
     "name": "stderr",
     "output_type": "stream",
     "text": [
      "INFO:tensorflow:Assets written to: model_experiments\\model_1_dense\\assets\n"
     ]
    },
    {
     "name": "stdout",
     "output_type": "stream",
     "text": [
      "18/18 [==============================] - 0s 24ms/step - loss: 108.2368 - mae: 108.2368 - mse: 71030.1641 - val_loss: 587.0939 - val_mae: 587.0939 - val_mse: 1226886.7500\n",
      "Epoch 63/100\n",
      " 1/18 [>.............................] - ETA: 0s - loss: 92.6787 - mae: 92.6787 - mse: 84252.2266INFO:tensorflow:Assets written to: model_experiments\\model_1_dense\\assets\n"
     ]
    },
    {
     "name": "stderr",
     "output_type": "stream",
     "text": [
      "INFO:tensorflow:Assets written to: model_experiments\\model_1_dense\\assets\n"
     ]
    },
    {
     "name": "stdout",
     "output_type": "stream",
     "text": [
      "18/18 [==============================] - 0s 25ms/step - loss: 109.0205 - mae: 109.0205 - mse: 71992.2031 - val_loss: 586.5225 - val_mae: 586.5225 - val_mse: 1216291.1250\n",
      "Epoch 64/100\n",
      "18/18 [==============================] - 0s 3ms/step - loss: 109.2133 - mae: 109.2133 - mse: 71396.7266 - val_loss: 619.2396 - val_mae: 619.2396 - val_mse: 1279379.6250\n",
      "Epoch 65/100\n",
      " 1/18 [>.............................] - ETA: 0s - loss: 136.2109 - mae: 136.2109 - mse: 170989.4375INFO:tensorflow:Assets written to: model_experiments\\model_1_dense\\assets\n"
     ]
    },
    {
     "name": "stderr",
     "output_type": "stream",
     "text": [
      "INFO:tensorflow:Assets written to: model_experiments\\model_1_dense\\assets\n"
     ]
    },
    {
     "name": "stdout",
     "output_type": "stream",
     "text": [
      "18/18 [==============================] - 0s 24ms/step - loss: 109.4410 - mae: 109.4410 - mse: 71852.1328 - val_loss: 578.5436 - val_mae: 578.5436 - val_mse: 1204414.3750\n",
      "Epoch 66/100\n",
      " 1/18 [>.............................] - ETA: 0s - loss: 115.7247 - mae: 115.7247 - mse: 79711.3125INFO:tensorflow:Assets written to: model_experiments\\model_1_dense\\assets\n"
     ]
    },
    {
     "name": "stderr",
     "output_type": "stream",
     "text": [
      "INFO:tensorflow:Assets written to: model_experiments\\model_1_dense\\assets\n"
     ]
    },
    {
     "name": "stdout",
     "output_type": "stream",
     "text": [
      "18/18 [==============================] - 0s 23ms/step - loss: 107.5004 - mae: 107.5004 - mse: 70726.9375 - val_loss: 574.2807 - val_mae: 574.2807 - val_mse: 1192748.6250\n",
      "Epoch 67/100\n",
      "18/18 [==============================] - 0s 3ms/step - loss: 107.7214 - mae: 107.7214 - mse: 70034.1797 - val_loss: 723.0340 - val_mae: 723.0340 - val_mse: 1583344.0000\n",
      "Epoch 68/100\n",
      "18/18 [==============================] - 0s 3ms/step - loss: 116.9067 - mae: 116.9067 - mse: 71704.4062 - val_loss: 731.9845 - val_mae: 731.9845 - val_mse: 1610977.6250\n",
      "Epoch 69/100\n",
      "18/18 [==============================] - 0s 3ms/step - loss: 122.5427 - mae: 122.5427 - mse: 80417.0078 - val_loss: 609.4131 - val_mae: 609.4131 - val_mse: 1270600.7500\n",
      "Epoch 70/100\n",
      "18/18 [==============================] - 0s 3ms/step - loss: 124.5123 - mae: 124.5123 - mse: 82194.2109 - val_loss: 575.6705 - val_mae: 575.6705 - val_mse: 1199203.6250\n",
      "Epoch 71/100\n",
      "18/18 [==============================] - 0s 3ms/step - loss: 111.7722 - mae: 111.7722 - mse: 72320.6719 - val_loss: 608.3618 - val_mae: 608.3618 - val_mse: 1250997.2500\n",
      "Epoch 72/100\n",
      " 1/18 [>.............................] - ETA: 0s - loss: 105.6026 - mae: 105.6026 - mse: 84211.4141INFO:tensorflow:Assets written to: model_experiments\\model_1_dense\\assets\n"
     ]
    },
    {
     "name": "stderr",
     "output_type": "stream",
     "text": [
      "INFO:tensorflow:Assets written to: model_experiments\\model_1_dense\\assets\n"
     ]
    },
    {
     "name": "stdout",
     "output_type": "stream",
     "text": [
      "18/18 [==============================] - 0s 22ms/step - loss: 109.7215 - mae: 109.7215 - mse: 71244.3906 - val_loss: 574.0745 - val_mae: 574.0745 - val_mse: 1187824.8750\n",
      "Epoch 73/100\n",
      "18/18 [==============================] - 0s 3ms/step - loss: 107.4349 - mae: 107.4349 - mse: 69956.5859 - val_loss: 574.9726 - val_mae: 574.9726 - val_mse: 1193037.1250\n",
      "Epoch 74/100\n",
      " 1/18 [>.............................] - ETA: 0s - loss: 163.2080 - mae: 163.2080 - mse: 167529.0625INFO:tensorflow:Assets written to: model_experiments\\model_1_dense\\assets\n"
     ]
    },
    {
     "name": "stderr",
     "output_type": "stream",
     "text": [
      "INFO:tensorflow:Assets written to: model_experiments\\model_1_dense\\assets\n"
     ]
    },
    {
     "name": "stdout",
     "output_type": "stream",
     "text": [
      "18/18 [==============================] - 0s 24ms/step - loss: 108.3159 - mae: 108.3159 - mse: 71088.3750 - val_loss: 572.6722 - val_mae: 572.6722 - val_mse: 1186430.5000\n",
      "Epoch 75/100\n",
      "18/18 [==============================] - 0s 3ms/step - loss: 107.2563 - mae: 107.2563 - mse: 69903.7188 - val_loss: 574.4901 - val_mae: 574.4901 - val_mse: 1186110.6250\n",
      "Epoch 76/100\n",
      "18/18 [==============================] - 0s 3ms/step - loss: 108.3621 - mae: 108.3621 - mse: 70721.2109 - val_loss: 579.1271 - val_mae: 579.1271 - val_mse: 1199750.0000\n",
      "Epoch 77/100\n",
      "18/18 [==============================] - 0s 3ms/step - loss: 106.8228 - mae: 106.8228 - mse: 69294.0938 - val_loss: 572.8754 - val_mae: 572.8754 - val_mse: 1184989.1250\n",
      "Epoch 78/100\n",
      "18/18 [==============================] - 0s 3ms/step - loss: 108.0246 - mae: 108.0246 - mse: 69828.0391 - val_loss: 575.2925 - val_mae: 575.2925 - val_mse: 1193155.5000\n",
      "Epoch 79/100\n",
      "18/18 [==============================] - 0s 3ms/step - loss: 107.8078 - mae: 107.8078 - mse: 71935.1094 - val_loss: 609.1994 - val_mae: 609.1994 - val_mse: 1265537.3750\n",
      "Epoch 80/100\n",
      "18/18 [==============================] - 0s 4ms/step - loss: 107.7982 - mae: 107.7982 - mse: 71087.2734 - val_loss: 583.9691 - val_mae: 583.9691 - val_mse: 1199060.6250\n",
      "Epoch 81/100\n",
      "18/18 [==============================] - 0s 3ms/step - loss: 106.2296 - mae: 106.2296 - mse: 69390.7812 - val_loss: 577.4051 - val_mae: 577.4051 - val_mse: 1187151.6250\n",
      "Epoch 82/100\n",
      " 1/18 [>.............................] - ETA: 0s - loss: 190.8752 - mae: 190.8752 - mse: 224073.0312INFO:tensorflow:Assets written to: model_experiments\\model_1_dense\\assets\n"
     ]
    },
    {
     "name": "stderr",
     "output_type": "stream",
     "text": [
      "INFO:tensorflow:Assets written to: model_experiments\\model_1_dense\\assets\n"
     ]
    },
    {
     "name": "stdout",
     "output_type": "stream",
     "text": [
      "18/18 [==============================] - 0s 23ms/step - loss: 114.1748 - mae: 114.1748 - mse: 75173.2891 - val_loss: 570.4168 - val_mae: 570.4168 - val_mse: 1177732.8750\n",
      "Epoch 83/100\n",
      "18/18 [==============================] - 0s 3ms/step - loss: 111.3571 - mae: 111.3571 - mse: 72012.1797 - val_loss: 682.5532 - val_mae: 682.5532 - val_mse: 1449943.5000\n",
      "Epoch 84/100\n",
      "18/18 [==============================] - 0s 3ms/step - loss: 112.0527 - mae: 112.0527 - mse: 71526.1641 - val_loss: 581.0567 - val_mae: 581.0567 - val_mse: 1203537.8750\n",
      "Epoch 85/100\n",
      "18/18 [==============================] - 0s 3ms/step - loss: 107.6413 - mae: 107.6413 - mse: 69736.6641 - val_loss: 610.0471 - val_mae: 610.0471 - val_mse: 1248413.5000\n",
      "Epoch 86/100\n",
      "18/18 [==============================] - 0s 3ms/step - loss: 108.2539 - mae: 108.2539 - mse: 69002.1875 - val_loss: 572.8188 - val_mae: 572.8188 - val_mse: 1176989.2500\n",
      "Epoch 87/100\n",
      "18/18 [==============================] - 0s 3ms/step - loss: 105.9326 - mae: 105.9326 - mse: 67856.7500 - val_loss: 591.6993 - val_mae: 591.6993 - val_mse: 1219678.5000\n",
      "Epoch 88/100\n",
      "18/18 [==============================] - 0s 3ms/step - loss: 106.7593 - mae: 106.7593 - mse: 70246.3594 - val_loss: 600.8341 - val_mae: 600.8341 - val_mse: 1244947.1250\n",
      "Epoch 89/100\n",
      " 1/18 [>.............................] - ETA: 0s - loss: 107.9234 - mae: 107.9234 - mse: 69833.3125INFO:tensorflow:Assets written to: model_experiments\\model_1_dense\\assets\n"
     ]
    },
    {
     "name": "stderr",
     "output_type": "stream",
     "text": [
      "INFO:tensorflow:Assets written to: model_experiments\\model_1_dense\\assets\n"
     ]
    },
    {
     "name": "stdout",
     "output_type": "stream",
     "text": [
      "18/18 [==============================] - 0s 22ms/step - loss: 107.6450 - mae: 107.6450 - mse: 68843.9531 - val_loss: 568.2553 - val_mae: 568.2553 - val_mse: 1170781.7500\n",
      "Epoch 90/100\n",
      "18/18 [==============================] - 0s 3ms/step - loss: 105.0346 - mae: 105.0346 - mse: 67039.1328 - val_loss: 596.3649 - val_mae: 596.3649 - val_mse: 1218401.1250\n",
      "Epoch 91/100\n",
      "18/18 [==============================] - 0s 3ms/step - loss: 109.1372 - mae: 109.1372 - mse: 70328.5000 - val_loss: 608.9561 - val_mae: 608.9561 - val_mse: 1258416.1250\n",
      "Epoch 92/100\n",
      "18/18 [==============================] - 0s 3ms/step - loss: 107.6967 - mae: 107.6967 - mse: 69634.0469 - val_loss: 589.0606 - val_mae: 589.0606 - val_mse: 1216800.7500\n",
      "Epoch 93/100\n",
      "18/18 [==============================] - 0s 3ms/step - loss: 114.9120 - mae: 114.9120 - mse: 73383.1094 - val_loss: 652.0256 - val_mae: 652.0256 - val_mse: 1365863.8750\n",
      "Epoch 94/100\n",
      "18/18 [==============================] - 0s 3ms/step - loss: 110.3213 - mae: 110.3213 - mse: 71656.0000 - val_loss: 573.9947 - val_mae: 573.9947 - val_mse: 1174424.6250\n",
      "Epoch 95/100\n",
      "18/18 [==============================] - 0s 3ms/step - loss: 105.0258 - mae: 105.0258 - mse: 68153.2188 - val_loss: 572.5991 - val_mae: 572.5991 - val_mse: 1171387.5000\n",
      "Epoch 96/100\n",
      "18/18 [==============================] - 0s 3ms/step - loss: 108.0001 - mae: 108.0001 - mse: 68975.2031 - val_loss: 592.6880 - val_mae: 592.6880 - val_mse: 1224459.5000\n",
      "Epoch 97/100\n",
      "18/18 [==============================] - 0s 3ms/step - loss: 106.7622 - mae: 106.7622 - mse: 69473.7969 - val_loss: 579.4778 - val_mae: 579.4778 - val_mse: 1182671.1250\n",
      "Epoch 98/100\n",
      "18/18 [==============================] - 0s 3ms/step - loss: 106.6411 - mae: 106.6411 - mse: 68809.1484 - val_loss: 576.3903 - val_mae: 576.3903 - val_mse: 1185240.6250\n",
      "Epoch 99/100\n",
      " 1/18 [>.............................] - ETA: 0s - loss: 149.5767 - mae: 149.5767 - mse: 128851.1641INFO:tensorflow:Assets written to: model_experiments\\model_1_dense\\assets\n"
     ]
    },
    {
     "name": "stderr",
     "output_type": "stream",
     "text": [
      "INFO:tensorflow:Assets written to: model_experiments\\model_1_dense\\assets\n"
     ]
    },
    {
     "name": "stdout",
     "output_type": "stream",
     "text": [
      "18/18 [==============================] - 0s 24ms/step - loss: 107.2191 - mae: 107.2191 - mse: 69783.6250 - val_loss: 565.2578 - val_mae: 565.2578 - val_mse: 1157015.0000\n",
      "Epoch 100/100\n",
      "18/18 [==============================] - 0s 4ms/step - loss: 116.6958 - mae: 116.6958 - mse: 72269.4922 - val_loss: 656.1933 - val_mae: 656.1933 - val_mse: 1344673.8750\n"
     ]
    },
    {
     "data": {
      "text/plain": [
       "<keras.src.callbacks.History at 0x23a22e463d0>"
      ]
     },
     "execution_count": 45,
     "metadata": {},
     "output_type": "execute_result"
    }
   ],
   "source": [
    "import tensorflow as tf\n",
    "from tensorflow.keras import layers\n",
    "\n",
    "#set random seed\n",
    "tf.random.set_seed(42)\n",
    "\n",
    "#1. Construct model\n",
    "model_1 = tf.keras.Sequential([\n",
    "    layers.Dense(128, activation = 'relu'),\n",
    "    layers.Dense(HORIZON)\n",
    "], name = \"model_1_dense\")\n",
    "\n",
    "#compile the model\n",
    "model_1.compile(loss = tf.keras.losses.MeanAbsoluteError(),\n",
    "                optimizer =tf.keras.optimizers.Adam(),\n",
    "                metrics = [\"mae\", \"mse\"])\n",
    "\n",
    "#fit the model\n",
    "model_1.fit(x = train_windows,\n",
    "            y = train_labels,\n",
    "            epochs = 100,\n",
    "            verbose = 1,\n",
    "            batch_size = 128,\n",
    "            validation_data = (test_windows, test_labels),\n",
    "            callbacks = [create_model_checkpoint(model_name = 'model_1_dense')])"
   ]
  },
  {
   "cell_type": "code",
   "execution_count": 46,
   "metadata": {},
   "outputs": [
    {
     "name": "stdout",
     "output_type": "stream",
     "text": [
      "18/18 [==============================] - 0s 2ms/step - loss: 656.1933 - mae: 656.1933 - mse: 1344673.7500\n"
     ]
    },
    {
     "data": {
      "text/plain": [
       "[656.1932983398438, 656.1932983398438, 1344673.75]"
      ]
     },
     "execution_count": 46,
     "metadata": {},
     "output_type": "execute_result"
    }
   ],
   "source": [
    "model_1.evaluate(test_windows, test_labels)"
   ]
  },
  {
   "cell_type": "code",
   "execution_count": 47,
   "metadata": {},
   "outputs": [
    {
     "name": "stdout",
     "output_type": "stream",
     "text": [
      "WARNING:tensorflow:From c:\\Users\\moham\\anaconda3\\Lib\\site-packages\\keras\\src\\saving\\legacy\\saved_model\\load.py:107: The name tf.gfile.Exists is deprecated. Please use tf.io.gfile.exists instead.\n",
      "\n"
     ]
    },
    {
     "name": "stderr",
     "output_type": "stream",
     "text": [
      "WARNING:tensorflow:From c:\\Users\\moham\\anaconda3\\Lib\\site-packages\\keras\\src\\saving\\legacy\\saved_model\\load.py:107: The name tf.gfile.Exists is deprecated. Please use tf.io.gfile.exists instead.\n",
      "\n"
     ]
    },
    {
     "name": "stdout",
     "output_type": "stream",
     "text": [
      "18/18 [==============================] - 0s 452us/step - loss: 565.2578 - mae: 565.2578 - mse: 1157014.8750\n"
     ]
    },
    {
     "data": {
      "text/plain": [
       "[565.2578125, 565.2578125, 1157014.875]"
      ]
     },
     "execution_count": 47,
     "metadata": {},
     "output_type": "execute_result"
    }
   ],
   "source": [
    "#load in the saved best performing model\n",
    "model_1 = tf.keras.models.load_model(\"C:\\\\Users\\\\moham\\\\Downloads\\\\projects\\\\Bitcoin-Price-Timeforecasting\\\\model_experiments\\\\model_1_dense\")\n",
    "model_1.evaluate(test_windows, test_labels)"
   ]
  },
  {
   "cell_type": "code",
   "execution_count": 118,
   "metadata": {},
   "outputs": [],
   "source": [
    "#Making forecasts with a model (on the test dataset)\n",
    "def make_preds(model, input_data):\n",
    "  \"\"\"\n",
    "  Uses model to ake predictions on input data\n",
    "  \"\"\"\n",
    "  forecast = model.predict(input_data)\n",
    "  return tf.squeeze(forecast,axis=-1) # reutrn 1D array of predictions."
   ]
  },
  {
   "cell_type": "code",
   "execution_count": 49,
   "metadata": {},
   "outputs": [
    {
     "name": "stdout",
     "output_type": "stream",
     "text": [
      "18/18 [==============================] - 0s 1ms/step\n"
     ]
    },
    {
     "data": {
      "text/plain": [
       "(556,\n",
       " <tf.Tensor: shape=(10,), dtype=float32, numpy=\n",
       " array([56870.78 , 58842.367, 58344.33 , 56184.184, 56334.105, 52817.996,\n",
       "        49926.477, 49922.914, 48259.242, 45927.703], dtype=float32)>)"
      ]
     },
     "execution_count": 49,
     "metadata": {},
     "output_type": "execute_result"
    }
   ],
   "source": [
    "#make predictions using model_1.\n",
    "model_1_preds = make_preds(model_1, test_windows)\n",
    "len(model_1_preds), model_1_preds[-10:]"
   ]
  },
  {
   "cell_type": "code",
   "execution_count": 50,
   "metadata": {},
   "outputs": [
    {
     "data": {
      "text/plain": [
       "(array([58788.20968, 58102.19143, 55715.54665, 56573.55547, 52147.82119,\n",
       "        49764.13208, 50032.69314, 47885.62525, 45604.61575, 43144.47129]),\n",
       " (556,))"
      ]
     },
     "execution_count": 50,
     "metadata": {},
     "output_type": "execute_result"
    }
   ],
   "source": [
    "test_labels[-10:], test_labels.shape"
   ]
  },
  {
   "cell_type": "code",
   "execution_count": 51,
   "metadata": {},
   "outputs": [
    {
     "data": {
      "text/plain": [
       "{'mae': 565.25775,\n",
       " 'mse': 1157015.0,\n",
       " 'rmse': 1075.6464,\n",
       " 'mape': 2.5284626,\n",
       " 'mase': 0.9930013}"
      ]
     },
     "execution_count": 51,
     "metadata": {},
     "output_type": "execute_result"
    }
   ],
   "source": [
    "#evaluate pred\n",
    "model_1_results = evaluate_preds(y_true = test_labels,\n",
    "                                 y_pred = model_1_preds)\n",
    "model_1_results"
   ]
  },
  {
   "cell_type": "code",
   "execution_count": 52,
   "metadata": {},
   "outputs": [
    {
     "name": "stderr",
     "output_type": "stream",
     "text": [
      "WARNING:matplotlib.legend:No artists with labels found to put in legend.  Note that artists whose label start with an underscore are ignored when legend() is called with no argument.\n",
      "WARNING:matplotlib.legend:No artists with labels found to put in legend.  Note that artists whose label start with an underscore are ignored when legend() is called with no argument.\n"
     ]
    },
    {
     "data": {
      "image/png": "[encoded data removed]",
      "text/plain": [
       "<Figure size 1000x700 with 1 Axes>"
      ]
     },
     "metadata": {},
     "output_type": "display_data"
    }
   ],
   "source": [
    "# Let's plot our model 1 predictions\n",
    "offset = 450\n",
    "plt.figure(figsize = (10, 7))\n",
    "#Account for the test_window offset and index into test labels to ensure correct plot\n",
    "plot_time_series(timesteps = x_test[-len(test_windows):],\n",
    "                 values = test_labels[:],\n",
    "                 start = offset,\n",
    "                 label = \"test_data\")\n",
    "\n",
    "plot_time_series(timesteps = x_test[-len(test_windows):],\n",
    "                 values = model_1_preds,\n",
    "                 start = offset,\n",
    "                 label = \"model_1_predictions\")"
   ]
  },
  {
   "cell_type": "markdown",
   "metadata": {},
   "source": [
    "#### Model 2: Dense(window = 30, horizon = 1)"
   ]
  },
  {
   "cell_type": "code",
   "execution_count": 53,
   "metadata": {},
   "outputs": [],
   "source": [
    "HORIZON = 1\n",
    "WINDOW_SIZE = 30"
   ]
  },
  {
   "cell_type": "code",
   "execution_count": 54,
   "metadata": {},
   "outputs": [
    {
     "name": "stdout",
     "output_type": "stream",
     "text": [
      "window indexes:\n",
      " (array([[   0,    1,    2, ...,   28,   29,   30],\n",
      "       [   1,    2,    3, ...,   29,   30,   31],\n",
      "       [   2,    3,    4, ...,   30,   31,   32],\n",
      "       ...,\n",
      "       [2754, 2755, 2756, ..., 2782, 2783, 2784],\n",
      "       [2755, 2756, 2757, ..., 2783, 2784, 2785],\n",
      "       [2756, 2757, 2758, ..., 2784, 2785, 2786]]), (2757, 31))\n"
     ]
    },
    {
     "data": {
      "text/plain": [
       "(2757, 2757)"
      ]
     },
     "execution_count": 54,
     "metadata": {},
     "output_type": "execute_result"
    }
   ],
   "source": [
    "# make window data with appropriate horizon and window sizes\n",
    "full_windows, full_labels = make_windows(prices, window_size=WINDOW_SIZE, horizon = HORIZON)\n",
    "len(full_windows), len(full_labels)"
   ]
  },
  {
   "cell_type": "code",
   "execution_count": 55,
   "metadata": {},
   "outputs": [
    {
     "data": {
      "text/plain": [
       "(2205, 552, 2205, 552)"
      ]
     },
     "execution_count": 55,
     "metadata": {},
     "output_type": "execute_result"
    }
   ],
   "source": [
    "#make train and testig windows\n",
    "train_windows, test_windows, train_labels, test_labels = make_train_test_splits(windows = full_windows,\n",
    "                                                                                labels = full_labels,\n",
    "                                                                                )\n",
    "len(train_windows), len(test_windows), len(train_labels), len(test_labels)"
   ]
  },
  {
   "cell_type": "code",
   "execution_count": 56,
   "metadata": {},
   "outputs": [
    {
     "data": {
      "text/plain": [
       "(array([[123.65499, 125.455  , 108.58483, 118.67466, 121.33866, 120.65533,\n",
       "         121.795  , 123.033  , 124.049  , 125.96116, 125.27966, 125.9275 ,\n",
       "         126.38333, 135.24199, 133.20333, 142.76333, 137.92333, 142.95166,\n",
       "         152.55183, 160.33883, 164.31499, 177.63333, 188.29716, 200.70166,\n",
       "         180.355  , 175.03166, 177.6965 , 187.15983, 192.75666, 197.4    ],\n",
       "        [125.455  , 108.58483, 118.67466, 121.33866, 120.65533, 121.795  ,\n",
       "         123.033  , 124.049  , 125.96116, 125.27966, 125.9275 , 126.38333,\n",
       "         135.24199, 133.20333, 142.76333, 137.92333, 142.95166, 152.55183,\n",
       "         160.33883, 164.31499, 177.63333, 188.29716, 200.70166, 180.355  ,\n",
       "         175.03166, 177.6965 , 187.15983, 192.75666, 197.4    , 196.02499],\n",
       "        [108.58483, 118.67466, 121.33866, 120.65533, 121.795  , 123.033  ,\n",
       "         124.049  , 125.96116, 125.27966, 125.9275 , 126.38333, 135.24199,\n",
       "         133.20333, 142.76333, 137.92333, 142.95166, 152.55183, 160.33883,\n",
       "         164.31499, 177.63333, 188.29716, 200.70166, 180.355  , 175.03166,\n",
       "         177.6965 , 187.15983, 192.75666, 197.4    , 196.02499, 198.04883],\n",
       "        [118.67466, 121.33866, 120.65533, 121.795  , 123.033  , 124.049  ,\n",
       "         125.96116, 125.27966, 125.9275 , 126.38333, 135.24199, 133.20333,\n",
       "         142.76333, 137.92333, 142.95166, 152.55183, 160.33883, 164.31499,\n",
       "         177.63333, 188.29716, 200.70166, 180.355  , 175.03166, 177.6965 ,\n",
       "         187.15983, 192.75666, 197.4    , 196.02499, 198.04883, 198.93233],\n",
       "        [121.33866, 120.65533, 121.795  , 123.033  , 124.049  , 125.96116,\n",
       "         125.27966, 125.9275 , 126.38333, 135.24199, 133.20333, 142.76333,\n",
       "         137.92333, 142.95166, 152.55183, 160.33883, 164.31499, 177.63333,\n",
       "         188.29716, 200.70166, 180.355  , 175.03166, 177.6965 , 187.15983,\n",
       "         192.75666, 197.4    , 196.02499, 198.04883, 198.93233, 200.543  ],\n",
       "        [120.65533, 121.795  , 123.033  , 124.049  , 125.96116, 125.27966,\n",
       "         125.9275 , 126.38333, 135.24199, 133.20333, 142.76333, 137.92333,\n",
       "         142.95166, 152.55183, 160.33883, 164.31499, 177.63333, 188.29716,\n",
       "         200.70166, 180.355  , 175.03166, 177.6965 , 187.15983, 192.75666,\n",
       "         197.4    , 196.02499, 198.04883, 198.93233, 200.543  , 210.3075 ],\n",
       "        [121.795  , 123.033  , 124.049  , 125.96116, 125.27966, 125.9275 ,\n",
       "         126.38333, 135.24199, 133.20333, 142.76333, 137.92333, 142.95166,\n",
       "         152.55183, 160.33883, 164.31499, 177.63333, 188.29716, 200.70166,\n",
       "         180.355  , 175.03166, 177.6965 , 187.15983, 192.75666, 197.4    ,\n",
       "         196.02499, 198.04883, 198.93233, 200.543  , 210.3075 , 225.02   ],\n",
       "        [123.033  , 124.049  , 125.96116, 125.27966, 125.9275 , 126.38333,\n",
       "         135.24199, 133.20333, 142.76333, 137.92333, 142.95166, 152.55183,\n",
       "         160.33883, 164.31499, 177.63333, 188.29716, 200.70166, 180.355  ,\n",
       "         175.03166, 177.6965 , 187.15983, 192.75666, 197.4    , 196.02499,\n",
       "         198.04883, 198.93233, 200.543  , 210.3075 , 225.02   , 248.25333],\n",
       "        [124.049  , 125.96116, 125.27966, 125.9275 , 126.38333, 135.24199,\n",
       "         133.20333, 142.76333, 137.92333, 142.95166, 152.55183, 160.33883,\n",
       "         164.31499, 177.63333, 188.29716, 200.70166, 180.355  , 175.03166,\n",
       "         177.6965 , 187.15983, 192.75666, 197.4    , 196.02499, 198.04883,\n",
       "         198.93233, 200.543  , 210.3075 , 225.02   , 248.25333, 262.32666],\n",
       "        [125.96116, 125.27966, 125.9275 , 126.38333, 135.24199, 133.20333,\n",
       "         142.76333, 137.92333, 142.95166, 152.55183, 160.33883, 164.31499,\n",
       "         177.63333, 188.29716, 200.70166, 180.355  , 175.03166, 177.6965 ,\n",
       "         187.15983, 192.75666, 197.4    , 196.02499, 198.04883, 198.93233,\n",
       "         200.543  , 210.3075 , 225.02   , 248.25333, 262.32666, 294.48699]]),\n",
       " array([196.02499, 198.04883, 198.93233, 200.543  , 210.3075 , 225.02   ,\n",
       "        248.25333, 262.32666, 294.48699, 331.10325]))"
      ]
     },
     "execution_count": 56,
     "metadata": {},
     "output_type": "execute_result"
    }
   ],
   "source": [
    "train_windows[:10], train_labels[:10]"
   ]
  },
  {
   "cell_type": "code",
   "execution_count": 57,
   "metadata": {},
   "outputs": [
    {
     "data": {
      "text/plain": [
       "(2205, 30)"
      ]
     },
     "execution_count": 57,
     "metadata": {},
     "output_type": "execute_result"
    }
   ],
   "source": [
    "train_windows.shape"
   ]
  },
  {
   "cell_type": "code",
   "execution_count": 58,
   "metadata": {},
   "outputs": [
    {
     "name": "stdout",
     "output_type": "stream",
     "text": [
      "WARNING:tensorflow:From c:\\Users\\moham\\anaconda3\\Lib\\site-packages\\keras\\src\\optimizers\\__init__.py:309: The name tf.train.Optimizer is deprecated. Please use tf.compat.v1.train.Optimizer instead.\n",
      "\n"
     ]
    },
    {
     "name": "stderr",
     "output_type": "stream",
     "text": [
      "WARNING:tensorflow:From c:\\Users\\moham\\anaconda3\\Lib\\site-packages\\keras\\src\\optimizers\\__init__.py:309: The name tf.train.Optimizer is deprecated. Please use tf.compat.v1.train.Optimizer instead.\n",
      "\n"
     ]
    },
    {
     "name": "stdout",
     "output_type": "stream",
     "text": [
      "INFO:tensorflow:Assets written to: model_experiments\\model_2_dense\\assets\n"
     ]
    },
    {
     "name": "stderr",
     "output_type": "stream",
     "text": [
      "INFO:tensorflow:Assets written to: model_experiments\\model_2_dense\\assets\n"
     ]
    },
    {
     "name": "stdout",
     "output_type": "stream",
     "text": [
      "INFO:tensorflow:Assets written to: model_experiments\\model_2_dense\\assets\n"
     ]
    },
    {
     "name": "stderr",
     "output_type": "stream",
     "text": [
      "INFO:tensorflow:Assets written to: model_experiments\\model_2_dense\\assets\n"
     ]
    },
    {
     "name": "stdout",
     "output_type": "stream",
     "text": [
      "INFO:tensorflow:Assets written to: model_experiments\\model_2_dense\\assets\n"
     ]
    },
    {
     "name": "stderr",
     "output_type": "stream",
     "text": [
      "INFO:tensorflow:Assets written to: model_experiments\\model_2_dense\\assets\n"
     ]
    },
    {
     "name": "stdout",
     "output_type": "stream",
     "text": [
      "INFO:tensorflow:Assets written to: model_experiments\\model_2_dense\\assets\n"
     ]
    },
    {
     "name": "stderr",
     "output_type": "stream",
     "text": [
      "INFO:tensorflow:Assets written to: model_experiments\\model_2_dense\\assets\n"
     ]
    },
    {
     "name": "stdout",
     "output_type": "stream",
     "text": [
      "INFO:tensorflow:Assets written to: model_experiments\\model_2_dense\\assets\n"
     ]
    },
    {
     "name": "stderr",
     "output_type": "stream",
     "text": [
      "INFO:tensorflow:Assets written to: model_experiments\\model_2_dense\\assets\n"
     ]
    },
    {
     "name": "stdout",
     "output_type": "stream",
     "text": [
      "INFO:tensorflow:Assets written to: model_experiments\\model_2_dense\\assets\n"
     ]
    },
    {
     "name": "stderr",
     "output_type": "stream",
     "text": [
      "INFO:tensorflow:Assets written to: model_experiments\\model_2_dense\\assets\n"
     ]
    },
    {
     "name": "stdout",
     "output_type": "stream",
     "text": [
      "INFO:tensorflow:Assets written to: model_experiments\\model_2_dense\\assets\n"
     ]
    },
    {
     "name": "stderr",
     "output_type": "stream",
     "text": [
      "INFO:tensorflow:Assets written to: model_experiments\\model_2_dense\\assets\n"
     ]
    },
    {
     "name": "stdout",
     "output_type": "stream",
     "text": [
      "INFO:tensorflow:Assets written to: model_experiments\\model_2_dense\\assets\n"
     ]
    },
    {
     "name": "stderr",
     "output_type": "stream",
     "text": [
      "INFO:tensorflow:Assets written to: model_experiments\\model_2_dense\\assets\n"
     ]
    },
    {
     "name": "stdout",
     "output_type": "stream",
     "text": [
      "INFO:tensorflow:Assets written to: model_experiments\\model_2_dense\\assets\n"
     ]
    },
    {
     "name": "stderr",
     "output_type": "stream",
     "text": [
      "INFO:tensorflow:Assets written to: model_experiments\\model_2_dense\\assets\n"
     ]
    },
    {
     "name": "stdout",
     "output_type": "stream",
     "text": [
      "INFO:tensorflow:Assets written to: model_experiments\\model_2_dense\\assets\n"
     ]
    },
    {
     "name": "stderr",
     "output_type": "stream",
     "text": [
      "INFO:tensorflow:Assets written to: model_experiments\\model_2_dense\\assets\n"
     ]
    },
    {
     "name": "stdout",
     "output_type": "stream",
     "text": [
      "INFO:tensorflow:Assets written to: model_experiments\\model_2_dense\\assets\n"
     ]
    },
    {
     "name": "stderr",
     "output_type": "stream",
     "text": [
      "INFO:tensorflow:Assets written to: model_experiments\\model_2_dense\\assets\n"
     ]
    },
    {
     "name": "stdout",
     "output_type": "stream",
     "text": [
      "INFO:tensorflow:Assets written to: model_experiments\\model_2_dense\\assets\n"
     ]
    },
    {
     "name": "stderr",
     "output_type": "stream",
     "text": [
      "INFO:tensorflow:Assets written to: model_experiments\\model_2_dense\\assets\n"
     ]
    },
    {
     "name": "stdout",
     "output_type": "stream",
     "text": [
      "INFO:tensorflow:Assets written to: model_experiments\\model_2_dense\\assets\n"
     ]
    },
    {
     "name": "stderr",
     "output_type": "stream",
     "text": [
      "INFO:tensorflow:Assets written to: model_experiments\\model_2_dense\\assets\n"
     ]
    },
    {
     "name": "stdout",
     "output_type": "stream",
     "text": [
      "INFO:tensorflow:Assets written to: model_experiments\\model_2_dense\\assets\n"
     ]
    },
    {
     "name": "stderr",
     "output_type": "stream",
     "text": [
      "INFO:tensorflow:Assets written to: model_experiments\\model_2_dense\\assets\n"
     ]
    },
    {
     "name": "stdout",
     "output_type": "stream",
     "text": [
      "INFO:tensorflow:Assets written to: model_experiments\\model_2_dense\\assets\n"
     ]
    },
    {
     "name": "stderr",
     "output_type": "stream",
     "text": [
      "INFO:tensorflow:Assets written to: model_experiments\\model_2_dense\\assets\n"
     ]
    },
    {
     "name": "stdout",
     "output_type": "stream",
     "text": [
      "INFO:tensorflow:Assets written to: model_experiments\\model_2_dense\\assets\n"
     ]
    },
    {
     "name": "stderr",
     "output_type": "stream",
     "text": [
      "INFO:tensorflow:Assets written to: model_experiments\\model_2_dense\\assets\n"
     ]
    },
    {
     "name": "stdout",
     "output_type": "stream",
     "text": [
      "INFO:tensorflow:Assets written to: model_experiments\\model_2_dense\\assets\n"
     ]
    },
    {
     "name": "stderr",
     "output_type": "stream",
     "text": [
      "INFO:tensorflow:Assets written to: model_experiments\\model_2_dense\\assets\n"
     ]
    },
    {
     "name": "stdout",
     "output_type": "stream",
     "text": [
      "INFO:tensorflow:Assets written to: model_experiments\\model_2_dense\\assets\n"
     ]
    },
    {
     "name": "stderr",
     "output_type": "stream",
     "text": [
      "INFO:tensorflow:Assets written to: model_experiments\\model_2_dense\\assets\n"
     ]
    },
    {
     "name": "stdout",
     "output_type": "stream",
     "text": [
      "INFO:tensorflow:Assets written to: model_experiments\\model_2_dense\\assets\n"
     ]
    },
    {
     "name": "stderr",
     "output_type": "stream",
     "text": [
      "INFO:tensorflow:Assets written to: model_experiments\\model_2_dense\\assets\n"
     ]
    },
    {
     "name": "stdout",
     "output_type": "stream",
     "text": [
      "INFO:tensorflow:Assets written to: model_experiments\\model_2_dense\\assets\n"
     ]
    },
    {
     "name": "stderr",
     "output_type": "stream",
     "text": [
      "INFO:tensorflow:Assets written to: model_experiments\\model_2_dense\\assets\n"
     ]
    },
    {
     "name": "stdout",
     "output_type": "stream",
     "text": [
      "INFO:tensorflow:Assets written to: model_experiments\\model_2_dense\\assets\n"
     ]
    },
    {
     "name": "stderr",
     "output_type": "stream",
     "text": [
      "INFO:tensorflow:Assets written to: model_experiments\\model_2_dense\\assets\n"
     ]
    },
    {
     "name": "stdout",
     "output_type": "stream",
     "text": [
      "INFO:tensorflow:Assets written to: model_experiments\\model_2_dense\\assets\n"
     ]
    },
    {
     "name": "stderr",
     "output_type": "stream",
     "text": [
      "INFO:tensorflow:Assets written to: model_experiments\\model_2_dense\\assets\n"
     ]
    },
    {
     "name": "stdout",
     "output_type": "stream",
     "text": [
      "INFO:tensorflow:Assets written to: model_experiments\\model_2_dense\\assets\n"
     ]
    },
    {
     "name": "stderr",
     "output_type": "stream",
     "text": [
      "INFO:tensorflow:Assets written to: model_experiments\\model_2_dense\\assets\n"
     ]
    },
    {
     "name": "stdout",
     "output_type": "stream",
     "text": [
      "INFO:tensorflow:Assets written to: model_experiments\\model_2_dense\\assets\n"
     ]
    },
    {
     "name": "stderr",
     "output_type": "stream",
     "text": [
      "INFO:tensorflow:Assets written to: model_experiments\\model_2_dense\\assets\n"
     ]
    },
    {
     "name": "stdout",
     "output_type": "stream",
     "text": [
      "INFO:tensorflow:Assets written to: model_experiments\\model_2_dense\\assets\n"
     ]
    },
    {
     "name": "stderr",
     "output_type": "stream",
     "text": [
      "INFO:tensorflow:Assets written to: model_experiments\\model_2_dense\\assets\n"
     ]
    },
    {
     "name": "stdout",
     "output_type": "stream",
     "text": [
      "INFO:tensorflow:Assets written to: model_experiments\\model_2_dense\\assets\n"
     ]
    },
    {
     "name": "stderr",
     "output_type": "stream",
     "text": [
      "INFO:tensorflow:Assets written to: model_experiments\\model_2_dense\\assets\n"
     ]
    },
    {
     "name": "stdout",
     "output_type": "stream",
     "text": [
      "INFO:tensorflow:Assets written to: model_experiments\\model_2_dense\\assets\n"
     ]
    },
    {
     "name": "stderr",
     "output_type": "stream",
     "text": [
      "INFO:tensorflow:Assets written to: model_experiments\\model_2_dense\\assets\n"
     ]
    },
    {
     "name": "stdout",
     "output_type": "stream",
     "text": [
      "INFO:tensorflow:Assets written to: model_experiments\\model_2_dense\\assets\n"
     ]
    },
    {
     "name": "stderr",
     "output_type": "stream",
     "text": [
      "INFO:tensorflow:Assets written to: model_experiments\\model_2_dense\\assets\n"
     ]
    },
    {
     "name": "stdout",
     "output_type": "stream",
     "text": [
      "INFO:tensorflow:Assets written to: model_experiments\\model_2_dense\\assets\n"
     ]
    },
    {
     "name": "stderr",
     "output_type": "stream",
     "text": [
      "INFO:tensorflow:Assets written to: model_experiments\\model_2_dense\\assets\n"
     ]
    },
    {
     "name": "stdout",
     "output_type": "stream",
     "text": [
      "INFO:tensorflow:Assets written to: model_experiments\\model_2_dense\\assets\n"
     ]
    },
    {
     "name": "stderr",
     "output_type": "stream",
     "text": [
      "INFO:tensorflow:Assets written to: model_experiments\\model_2_dense\\assets\n"
     ]
    },
    {
     "name": "stdout",
     "output_type": "stream",
     "text": [
      "INFO:tensorflow:Assets written to: model_experiments\\model_2_dense\\assets\n"
     ]
    },
    {
     "name": "stderr",
     "output_type": "stream",
     "text": [
      "INFO:tensorflow:Assets written to: model_experiments\\model_2_dense\\assets\n"
     ]
    },
    {
     "data": {
      "text/plain": [
       "<keras.src.callbacks.History at 0x23a293f7e50>"
      ]
     },
     "execution_count": 58,
     "metadata": {},
     "output_type": "execute_result"
    }
   ],
   "source": [
    "tf.random.set_seed(42)\n",
    "\n",
    "#create model\n",
    "model_2 = tf.keras.Sequential([\n",
    "    layers.Dense(128, activation = 'relu'),\n",
    "    layers.Dense(HORIZON)\n",
    "], name = \"model_2_dense\")\n",
    "\n",
    "#compile the model\n",
    "model_2.compile(loss = 'mae',\n",
    "                optimizer = 'adam',\n",
    "                metrics = ['mse'])\n",
    "\n",
    "#fit the model\n",
    "model_2.fit(x = train_windows,\n",
    "            y = train_labels,\n",
    "            epochs = 100,\n",
    "            batch_size = 128,\n",
    "            verbose = 0,\n",
    "            validation_data = (test_windows, test_labels),\n",
    "            callbacks = [create_model_checkpoint(model_name = model_2.name)])"
   ]
  },
  {
   "cell_type": "code",
   "execution_count": 59,
   "metadata": {},
   "outputs": [
    {
     "name": "stdout",
     "output_type": "stream",
     "text": [
      "18/18 [==============================] - 0s 2ms/step - loss: 631.3301 - mse: 1318306.3750\n"
     ]
    },
    {
     "data": {
      "text/plain": [
       "[631.330078125, 1318306.375]"
      ]
     },
     "execution_count": 59,
     "metadata": {},
     "output_type": "execute_result"
    }
   ],
   "source": [
    "model_2.evaluate(test_windows, test_labels)"
   ]
  },
  {
   "cell_type": "code",
   "execution_count": 60,
   "metadata": {},
   "outputs": [
    {
     "name": "stdout",
     "output_type": "stream",
     "text": [
      "18/18 [==============================] - 0s 1ms/step - loss: 602.5724 - mse: 1247827.7500\n"
     ]
    },
    {
     "data": {
      "text/plain": [
       "[602.5724487304688, 1247827.75]"
      ]
     },
     "execution_count": 60,
     "metadata": {},
     "output_type": "execute_result"
    }
   ],
   "source": [
    "#load the best performing model\n",
    "model_2 = tf.keras.models.load_model(\"C:\\\\Users\\\\moham\\\\Downloads\\\\projects\\\\Bitcoin-Price-Timeforecasting\\\\model_experiments\\\\model_2_dense\")\n",
    "model_2.evaluate(test_windows, test_labels)\n"
   ]
  },
  {
   "cell_type": "code",
   "execution_count": 61,
   "metadata": {},
   "outputs": [
    {
     "name": "stdout",
     "output_type": "stream",
     "text": [
      "18/18 [==============================] - 0s 412us/step\n"
     ]
    }
   ],
   "source": [
    "#get model forecasts\n",
    "model_2_preds = make_preds(model_2,\n",
    "                           input_data = test_windows)"
   ]
  },
  {
   "cell_type": "code",
   "execution_count": 62,
   "metadata": {},
   "outputs": [
    {
     "data": {
      "text/plain": [
       "{'mae': 602.57245,\n",
       " 'mse': 1247827.8,\n",
       " 'rmse': 1117.0621,\n",
       " 'mape': 2.718291,\n",
       " 'mase': 1.0533024}"
      ]
     },
     "execution_count": 62,
     "metadata": {},
     "output_type": "execute_result"
    }
   ],
   "source": [
    "#evaluate results for model 2\n",
    "model_2_results = evaluate_preds(y_true = test_labels,\n",
    "                                 y_pred = model_2_preds)\n",
    "model_2_results"
   ]
  },
  {
   "cell_type": "code",
   "execution_count": 63,
   "metadata": {},
   "outputs": [
    {
     "name": "stderr",
     "output_type": "stream",
     "text": [
      "WARNING:matplotlib.legend:No artists with labels found to put in legend.  Note that artists whose label start with an underscore are ignored when legend() is called with no argument.\n",
      "WARNING:matplotlib.legend:No artists with labels found to put in legend.  Note that artists whose label start with an underscore are ignored when legend() is called with no argument.\n"
     ]
    },
    {
     "data": {
      "image/png": "[encoded data removed]",
      "text/plain": [
       "<Figure size 1000x700 with 1 Axes>"
      ]
     },
     "metadata": {},
     "output_type": "display_data"
    }
   ],
   "source": [
    "offset = 450\n",
    "plt.figure(figsize = (10, 7))\n",
    "#account for test_window offset when parsing\n",
    "plot_time_series(timesteps = x_test[-len(test_windows):],\n",
    "                 values = test_labels[:],\n",
    "                 start = offset,\n",
    "                 label = \"test_data\")\n",
    "\n",
    "plot_time_series(timesteps = x_test[-len(test_windows):],\n",
    "                 values = model_2_preds[:],\n",
    "                 start = offset,\n",
    "                 label = \"model_2_preds\")\n",
    "\n"
   ]
  },
  {
   "cell_type": "markdown",
   "metadata": {},
   "source": [
    "#### Model 3: dense model( window = 30, horizon = 7)"
   ]
  },
  {
   "cell_type": "code",
   "execution_count": 64,
   "metadata": {},
   "outputs": [],
   "source": [
    "HORIZON = 7\n",
    "WINDOW_SIZE = 30"
   ]
  },
  {
   "cell_type": "code",
   "execution_count": 65,
   "metadata": {},
   "outputs": [
    {
     "name": "stdout",
     "output_type": "stream",
     "text": [
      "window indexes:\n",
      " (array([[   0,    1,    2, ...,   34,   35,   36],\n",
      "       [   1,    2,    3, ...,   35,   36,   37],\n",
      "       [   2,    3,    4, ...,   36,   37,   38],\n",
      "       ...,\n",
      "       [2748, 2749, 2750, ..., 2782, 2783, 2784],\n",
      "       [2749, 2750, 2751, ..., 2783, 2784, 2785],\n",
      "       [2750, 2751, 2752, ..., 2784, 2785, 2786]]), (2751, 37))\n"
     ]
    },
    {
     "data": {
      "text/plain": [
       "(2751, 2751)"
      ]
     },
     "execution_count": 65,
     "metadata": {},
     "output_type": "execute_result"
    }
   ],
   "source": [
    "# make window data with appropriate horizon and window sizes\n",
    "full_windows, full_labels = make_windows(prices, window_size=WINDOW_SIZE, horizon = HORIZON)\n",
    "len(full_windows), len(full_labels)"
   ]
  },
  {
   "cell_type": "code",
   "execution_count": 66,
   "metadata": {},
   "outputs": [
    {
     "data": {
      "text/plain": [
       "(2200, 551, 2200, 551)"
      ]
     },
     "execution_count": 66,
     "metadata": {},
     "output_type": "execute_result"
    }
   ],
   "source": [
    "#make train and testig windows\n",
    "train_windows, test_windows, train_labels, test_labels = make_train_test_splits(windows = full_windows,\n",
    "                                                                                labels = full_labels,\n",
    "                                                                                )\n",
    "len(train_windows), len(test_windows), len(train_labels), len(test_labels)"
   ]
  },
  {
   "cell_type": "code",
   "execution_count": 67,
   "metadata": {},
   "outputs": [
    {
     "name": "stdout",
     "output_type": "stream",
     "text": [
      "INFO:tensorflow:Assets written to: model_experiments\\model_3_dense\\assets\n"
     ]
    },
    {
     "name": "stderr",
     "output_type": "stream",
     "text": [
      "INFO:tensorflow:Assets written to: model_experiments\\model_3_dense\\assets\n"
     ]
    },
    {
     "name": "stdout",
     "output_type": "stream",
     "text": [
      "INFO:tensorflow:Assets written to: model_experiments\\model_3_dense\\assets\n"
     ]
    },
    {
     "name": "stderr",
     "output_type": "stream",
     "text": [
      "INFO:tensorflow:Assets written to: model_experiments\\model_3_dense\\assets\n"
     ]
    },
    {
     "name": "stdout",
     "output_type": "stream",
     "text": [
      "INFO:tensorflow:Assets written to: model_experiments\\model_3_dense\\assets\n"
     ]
    },
    {
     "name": "stderr",
     "output_type": "stream",
     "text": [
      "INFO:tensorflow:Assets written to: model_experiments\\model_3_dense\\assets\n"
     ]
    },
    {
     "name": "stdout",
     "output_type": "stream",
     "text": [
      "INFO:tensorflow:Assets written to: model_experiments\\model_3_dense\\assets\n"
     ]
    },
    {
     "name": "stderr",
     "output_type": "stream",
     "text": [
      "INFO:tensorflow:Assets written to: model_experiments\\model_3_dense\\assets\n"
     ]
    },
    {
     "name": "stdout",
     "output_type": "stream",
     "text": [
      "INFO:tensorflow:Assets written to: model_experiments\\model_3_dense\\assets\n"
     ]
    },
    {
     "name": "stderr",
     "output_type": "stream",
     "text": [
      "INFO:tensorflow:Assets written to: model_experiments\\model_3_dense\\assets\n"
     ]
    },
    {
     "name": "stdout",
     "output_type": "stream",
     "text": [
      "INFO:tensorflow:Assets written to: model_experiments\\model_3_dense\\assets\n"
     ]
    },
    {
     "name": "stderr",
     "output_type": "stream",
     "text": [
      "INFO:tensorflow:Assets written to: model_experiments\\model_3_dense\\assets\n"
     ]
    },
    {
     "name": "stdout",
     "output_type": "stream",
     "text": [
      "INFO:tensorflow:Assets written to: model_experiments\\model_3_dense\\assets\n"
     ]
    },
    {
     "name": "stderr",
     "output_type": "stream",
     "text": [
      "INFO:tensorflow:Assets written to: model_experiments\\model_3_dense\\assets\n"
     ]
    },
    {
     "name": "stdout",
     "output_type": "stream",
     "text": [
      "INFO:tensorflow:Assets written to: model_experiments\\model_3_dense\\assets\n"
     ]
    },
    {
     "name": "stderr",
     "output_type": "stream",
     "text": [
      "INFO:tensorflow:Assets written to: model_experiments\\model_3_dense\\assets\n"
     ]
    },
    {
     "name": "stdout",
     "output_type": "stream",
     "text": [
      "INFO:tensorflow:Assets written to: model_experiments\\model_3_dense\\assets\n"
     ]
    },
    {
     "name": "stderr",
     "output_type": "stream",
     "text": [
      "INFO:tensorflow:Assets written to: model_experiments\\model_3_dense\\assets\n"
     ]
    },
    {
     "name": "stdout",
     "output_type": "stream",
     "text": [
      "INFO:tensorflow:Assets written to: model_experiments\\model_3_dense\\assets\n"
     ]
    },
    {
     "name": "stderr",
     "output_type": "stream",
     "text": [
      "INFO:tensorflow:Assets written to: model_experiments\\model_3_dense\\assets\n"
     ]
    },
    {
     "name": "stdout",
     "output_type": "stream",
     "text": [
      "INFO:tensorflow:Assets written to: model_experiments\\model_3_dense\\assets\n"
     ]
    },
    {
     "name": "stderr",
     "output_type": "stream",
     "text": [
      "INFO:tensorflow:Assets written to: model_experiments\\model_3_dense\\assets\n"
     ]
    },
    {
     "name": "stdout",
     "output_type": "stream",
     "text": [
      "INFO:tensorflow:Assets written to: model_experiments\\model_3_dense\\assets\n"
     ]
    },
    {
     "name": "stderr",
     "output_type": "stream",
     "text": [
      "INFO:tensorflow:Assets written to: model_experiments\\model_3_dense\\assets\n"
     ]
    },
    {
     "name": "stdout",
     "output_type": "stream",
     "text": [
      "INFO:tensorflow:Assets written to: model_experiments\\model_3_dense\\assets\n"
     ]
    },
    {
     "name": "stderr",
     "output_type": "stream",
     "text": [
      "INFO:tensorflow:Assets written to: model_experiments\\model_3_dense\\assets\n"
     ]
    },
    {
     "name": "stdout",
     "output_type": "stream",
     "text": [
      "INFO:tensorflow:Assets written to: model_experiments\\model_3_dense\\assets\n"
     ]
    },
    {
     "name": "stderr",
     "output_type": "stream",
     "text": [
      "INFO:tensorflow:Assets written to: model_experiments\\model_3_dense\\assets\n"
     ]
    },
    {
     "name": "stdout",
     "output_type": "stream",
     "text": [
      "INFO:tensorflow:Assets written to: model_experiments\\model_3_dense\\assets\n"
     ]
    },
    {
     "name": "stderr",
     "output_type": "stream",
     "text": [
      "INFO:tensorflow:Assets written to: model_experiments\\model_3_dense\\assets\n"
     ]
    },
    {
     "name": "stdout",
     "output_type": "stream",
     "text": [
      "INFO:tensorflow:Assets written to: model_experiments\\model_3_dense\\assets\n"
     ]
    },
    {
     "name": "stderr",
     "output_type": "stream",
     "text": [
      "INFO:tensorflow:Assets written to: model_experiments\\model_3_dense\\assets\n"
     ]
    },
    {
     "name": "stdout",
     "output_type": "stream",
     "text": [
      "INFO:tensorflow:Assets written to: model_experiments\\model_3_dense\\assets\n"
     ]
    },
    {
     "name": "stderr",
     "output_type": "stream",
     "text": [
      "INFO:tensorflow:Assets written to: model_experiments\\model_3_dense\\assets\n"
     ]
    },
    {
     "name": "stdout",
     "output_type": "stream",
     "text": [
      "INFO:tensorflow:Assets written to: model_experiments\\model_3_dense\\assets\n"
     ]
    },
    {
     "name": "stderr",
     "output_type": "stream",
     "text": [
      "INFO:tensorflow:Assets written to: model_experiments\\model_3_dense\\assets\n"
     ]
    },
    {
     "name": "stdout",
     "output_type": "stream",
     "text": [
      "INFO:tensorflow:Assets written to: model_experiments\\model_3_dense\\assets\n"
     ]
    },
    {
     "name": "stderr",
     "output_type": "stream",
     "text": [
      "INFO:tensorflow:Assets written to: model_experiments\\model_3_dense\\assets\n"
     ]
    },
    {
     "name": "stdout",
     "output_type": "stream",
     "text": [
      "INFO:tensorflow:Assets written to: model_experiments\\model_3_dense\\assets\n"
     ]
    },
    {
     "name": "stderr",
     "output_type": "stream",
     "text": [
      "INFO:tensorflow:Assets written to: model_experiments\\model_3_dense\\assets\n"
     ]
    },
    {
     "name": "stdout",
     "output_type": "stream",
     "text": [
      "INFO:tensorflow:Assets written to: model_experiments\\model_3_dense\\assets\n"
     ]
    },
    {
     "name": "stderr",
     "output_type": "stream",
     "text": [
      "INFO:tensorflow:Assets written to: model_experiments\\model_3_dense\\assets\n"
     ]
    },
    {
     "name": "stdout",
     "output_type": "stream",
     "text": [
      "INFO:tensorflow:Assets written to: model_experiments\\model_3_dense\\assets\n"
     ]
    },
    {
     "name": "stderr",
     "output_type": "stream",
     "text": [
      "INFO:tensorflow:Assets written to: model_experiments\\model_3_dense\\assets\n"
     ]
    },
    {
     "name": "stdout",
     "output_type": "stream",
     "text": [
      "INFO:tensorflow:Assets written to: model_experiments\\model_3_dense\\assets\n"
     ]
    },
    {
     "name": "stderr",
     "output_type": "stream",
     "text": [
      "INFO:tensorflow:Assets written to: model_experiments\\model_3_dense\\assets\n"
     ]
    },
    {
     "name": "stdout",
     "output_type": "stream",
     "text": [
      "INFO:tensorflow:Assets written to: model_experiments\\model_3_dense\\assets\n"
     ]
    },
    {
     "name": "stderr",
     "output_type": "stream",
     "text": [
      "INFO:tensorflow:Assets written to: model_experiments\\model_3_dense\\assets\n"
     ]
    },
    {
     "name": "stdout",
     "output_type": "stream",
     "text": [
      "INFO:tensorflow:Assets written to: model_experiments\\model_3_dense\\assets\n"
     ]
    },
    {
     "name": "stderr",
     "output_type": "stream",
     "text": [
      "INFO:tensorflow:Assets written to: model_experiments\\model_3_dense\\assets\n"
     ]
    },
    {
     "name": "stdout",
     "output_type": "stream",
     "text": [
      "INFO:tensorflow:Assets written to: model_experiments\\model_3_dense\\assets\n"
     ]
    },
    {
     "name": "stderr",
     "output_type": "stream",
     "text": [
      "INFO:tensorflow:Assets written to: model_experiments\\model_3_dense\\assets\n"
     ]
    },
    {
     "name": "stdout",
     "output_type": "stream",
     "text": [
      "INFO:tensorflow:Assets written to: model_experiments\\model_3_dense\\assets\n"
     ]
    },
    {
     "name": "stderr",
     "output_type": "stream",
     "text": [
      "INFO:tensorflow:Assets written to: model_experiments\\model_3_dense\\assets\n"
     ]
    },
    {
     "name": "stdout",
     "output_type": "stream",
     "text": [
      "INFO:tensorflow:Assets written to: model_experiments\\model_3_dense\\assets\n"
     ]
    },
    {
     "name": "stderr",
     "output_type": "stream",
     "text": [
      "INFO:tensorflow:Assets written to: model_experiments\\model_3_dense\\assets\n"
     ]
    },
    {
     "name": "stdout",
     "output_type": "stream",
     "text": [
      "INFO:tensorflow:Assets written to: model_experiments\\model_3_dense\\assets\n"
     ]
    },
    {
     "name": "stderr",
     "output_type": "stream",
     "text": [
      "INFO:tensorflow:Assets written to: model_experiments\\model_3_dense\\assets\n"
     ]
    },
    {
     "name": "stdout",
     "output_type": "stream",
     "text": [
      "INFO:tensorflow:Assets written to: model_experiments\\model_3_dense\\assets\n"
     ]
    },
    {
     "name": "stderr",
     "output_type": "stream",
     "text": [
      "INFO:tensorflow:Assets written to: model_experiments\\model_3_dense\\assets\n"
     ]
    },
    {
     "name": "stdout",
     "output_type": "stream",
     "text": [
      "INFO:tensorflow:Assets written to: model_experiments\\model_3_dense\\assets\n"
     ]
    },
    {
     "name": "stderr",
     "output_type": "stream",
     "text": [
      "INFO:tensorflow:Assets written to: model_experiments\\model_3_dense\\assets\n"
     ]
    },
    {
     "name": "stdout",
     "output_type": "stream",
     "text": [
      "INFO:tensorflow:Assets written to: model_experiments\\model_3_dense\\assets\n"
     ]
    },
    {
     "name": "stderr",
     "output_type": "stream",
     "text": [
      "INFO:tensorflow:Assets written to: model_experiments\\model_3_dense\\assets\n"
     ]
    },
    {
     "name": "stdout",
     "output_type": "stream",
     "text": [
      "INFO:tensorflow:Assets written to: model_experiments\\model_3_dense\\assets\n"
     ]
    },
    {
     "name": "stderr",
     "output_type": "stream",
     "text": [
      "INFO:tensorflow:Assets written to: model_experiments\\model_3_dense\\assets\n"
     ]
    },
    {
     "name": "stdout",
     "output_type": "stream",
     "text": [
      "INFO:tensorflow:Assets written to: model_experiments\\model_3_dense\\assets\n"
     ]
    },
    {
     "name": "stderr",
     "output_type": "stream",
     "text": [
      "INFO:tensorflow:Assets written to: model_experiments\\model_3_dense\\assets\n"
     ]
    },
    {
     "name": "stdout",
     "output_type": "stream",
     "text": [
      "INFO:tensorflow:Assets written to: model_experiments\\model_3_dense\\assets\n"
     ]
    },
    {
     "name": "stderr",
     "output_type": "stream",
     "text": [
      "INFO:tensorflow:Assets written to: model_experiments\\model_3_dense\\assets\n"
     ]
    },
    {
     "name": "stdout",
     "output_type": "stream",
     "text": [
      "INFO:tensorflow:Assets written to: model_experiments\\model_3_dense\\assets\n"
     ]
    },
    {
     "name": "stderr",
     "output_type": "stream",
     "text": [
      "INFO:tensorflow:Assets written to: model_experiments\\model_3_dense\\assets\n"
     ]
    },
    {
     "data": {
      "text/plain": [
       "<keras.src.callbacks.History at 0x23a29b0b1d0>"
      ]
     },
     "execution_count": 67,
     "metadata": {},
     "output_type": "execute_result"
    }
   ],
   "source": [
    "tf.random.set_seed(42)\n",
    "\n",
    "#create model\n",
    "model_3 = tf.keras.Sequential([\n",
    "    layers.Dense(128, activation = 'relu'),\n",
    "    layers.Dense(HORIZON)\n",
    "], name = \"model_3_dense\")\n",
    "\n",
    "#compile the model\n",
    "model_3.compile(loss = 'mae',\n",
    "                optimizer = 'adam',\n",
    "                metrics = ['mse'])\n",
    "\n",
    "#fit the model\n",
    "model_3.fit(x = train_windows,\n",
    "            y = train_labels,\n",
    "            epochs = 100,\n",
    "            batch_size = 128,\n",
    "            verbose = 0,\n",
    "            validation_data = (test_windows, test_labels),\n",
    "            callbacks = [create_model_checkpoint(model_name = model_3.name)])"
   ]
  },
  {
   "cell_type": "code",
   "execution_count": 68,
   "metadata": {},
   "outputs": [
    {
     "name": "stdout",
     "output_type": "stream",
     "text": [
      "18/18 [==============================] - 0s 2ms/step - loss: 621.4256 - mse: 1298834.5000\n"
     ]
    },
    {
     "data": {
      "text/plain": [
       "[621.4255981445312, 1298834.5]"
      ]
     },
     "execution_count": 68,
     "metadata": {},
     "output_type": "execute_result"
    }
   ],
   "source": [
    "model_3.evaluate(test_windows, test_labels)"
   ]
  },
  {
   "cell_type": "code",
   "execution_count": 69,
   "metadata": {},
   "outputs": [
    {
     "name": "stdout",
     "output_type": "stream",
     "text": [
      "18/18 [==============================] - 0s 517us/step - loss: 615.4700 - mse: 1299554.8750\n"
     ]
    },
    {
     "data": {
      "text/plain": [
       "[615.469970703125, 1299554.875]"
      ]
     },
     "execution_count": 69,
     "metadata": {},
     "output_type": "execute_result"
    }
   ],
   "source": [
    "#load the best performing model\n",
    "model_3= tf.keras.models.load_model(\"C:\\\\Users\\\\moham\\\\Downloads\\\\projects\\\\Bitcoin-Price-Timeforecasting\\\\model_experiments\\\\model_3_dense\")\n",
    "model_3.evaluate(test_windows, test_labels)"
   ]
  },
  {
   "cell_type": "code",
   "execution_count": 70,
   "metadata": {},
   "outputs": [
    {
     "name": "stdout",
     "output_type": "stream",
     "text": [
      "18/18 [==============================] - 0s 1ms/step\n"
     ]
    },
    {
     "data": {
      "text/plain": [
       "<tf.Tensor: shape=(5, 7), dtype=float32, numpy=\n",
       "array([[9159.461, 9385.069, 9372.314, 9322.641, 9246.037, 9336.675,\n",
       "        9183.415],\n",
       "       [8965.403, 9054.708, 8935.008, 9017.192, 9040.975, 9103.831,\n",
       "        8915.068],\n",
       "       [8754.845, 8766.955, 8649.133, 8745.303, 8797.25 , 8881.276,\n",
       "        8640.336],\n",
       "       [8833.405, 8865.761, 8978.725, 8921.838, 8967.283, 8964.304,\n",
       "        8860.009],\n",
       "       [8869.475, 8886.198, 8875.725, 8976.267, 8755.468, 8766.918,\n",
       "        8802.2  ]], dtype=float32)>"
      ]
     },
     "execution_count": 70,
     "metadata": {},
     "output_type": "execute_result"
    }
   ],
   "source": [
    "#get model forecasts\n",
    "model_3_preds = make_preds(model_3,\n",
    "                           input_data = test_windows)\n",
    "model_3_preds[:5]"
   ]
  },
  {
   "cell_type": "code",
   "execution_count": 71,
   "metadata": {},
   "outputs": [],
   "source": [
    "model_3_preds_compatible = tf.reduce_mean(model_3_preds, axis = 1)"
   ]
  },
  {
   "cell_type": "code",
   "execution_count": 72,
   "metadata": {},
   "outputs": [
    {
     "data": {
      "text/plain": [
       "<tf.Tensor: shape=(5,), dtype=float32, numpy=\n",
       "array([8912.5625, 8854.2295, 8709.132 , 8588.484 , 8497.818 ],\n",
       "      dtype=float32)>"
      ]
     },
     "execution_count": 72,
     "metadata": {},
     "output_type": "execute_result"
    }
   ],
   "source": [
    "model_2_preds[:5]"
   ]
  },
  {
   "cell_type": "code",
   "execution_count": 73,
   "metadata": {},
   "outputs": [
    {
     "data": {
      "text/plain": [
       "{'mae': 595.00323,\n",
       " 'mse': 1245632.2,\n",
       " 'rmse': 1116.079,\n",
       " 'mape': 2.7476237,\n",
       " 'mase': 1.0837349}"
      ]
     },
     "execution_count": 73,
     "metadata": {},
     "output_type": "execute_result"
    }
   ],
   "source": [
    "#evaluate results for model 2\n",
    "model_3_results = evaluate_preds(y_true = test_labels,\n",
    "                                 y_pred = model_3_preds_compatible)\n",
    "model_3_results\n"
   ]
  },
  {
   "cell_type": "code",
   "execution_count": 112,
   "metadata": {},
   "outputs": [],
   "source": [
    "## make our evaluation function work fo rlarger horizons\n",
    "def evaluate_preds(y_true, y_pred):\n",
    "  #make sure float32 datatype (for metric calculation)\\\n",
    "  y_true = tf.cast(y_true, dtype = tf.float32)\n",
    "  y_pred = tf.cast(y_pred, dtype = tf.float32)\n",
    "\n",
    "\n",
    "  #Calculate various evaluation metrics\n",
    "  mae = tf.keras.metrics.mean_absolute_error(y_true, y_pred)\n",
    "  mse = tf.keras.metrics.mean_squared_error(y_true, y_pred)\n",
    "  rmse = tf.sqrt(mse)\n",
    "  mape = tf.keras.metrics.mean_absolute_percentage_error(y_true, y_pred)\n",
    "  mase = mean_absolute_scaled_error(y_true, y_pred)\n",
    "\n",
    "  # account for different size metrics for longer horizons, we want to reduce metrics to a single value\n",
    "  if mae.shape.ndims > 0:\n",
    "    mae = tf.reduce_mean(mae)\n",
    "    mse = tf.reduce_mean(mse)\n",
    "    rmse = tf.reduce_mean(rmse)\n",
    "    mape = tf.reduce_mean(mape)\n",
    "    mase = tf.reduce_mean(mase)\n",
    "\n",
    "  return {\"mae\": mae.numpy(),\n",
    "          \"mse\": mse.numpy(),\n",
    "          \"rmse\": rmse.numpy(),\n",
    "          \"mape\": mape.numpy(),\n",
    "          \"mase\": mase.numpy()}"
   ]
  },
  {
   "cell_type": "code",
   "execution_count": 75,
   "metadata": {},
   "outputs": [
    {
     "name": "stderr",
     "output_type": "stream",
     "text": [
      "WARNING:matplotlib.legend:No artists with labels found to put in legend.  Note that artists whose label start with an underscore are ignored when legend() is called with no argument.\n",
      "WARNING:matplotlib.legend:No artists with labels found to put in legend.  Note that artists whose label start with an underscore are ignored when legend() is called with no argument.\n"
     ]
    },
    {
     "data": {
      "image/png": "[encoded data removed]",
      "text/plain": [
       "<Figure size 1000x700 with 1 Axes>"
      ]
     },
     "metadata": {},
     "output_type": "display_data"
    }
   ],
   "source": [
    "offset = 500\n",
    "plt.figure(figsize = (10, 7))\n",
    "#account for test_window offset when parsing\n",
    "plot_time_series(timesteps = x_test[-len(test_windows):],\n",
    "                 values = test_labels[:],\n",
    "                 start = offset,\n",
    "                 label = \"test_data\")\n",
    "\n",
    "plot_time_series(timesteps = x_test[-len(test_windows):],\n",
    "                 values = model_3_preds[:],\n",
    "                 start = offset,\n",
    "                 label = \"model_3_preds\")"
   ]
  },
  {
   "cell_type": "code",
   "execution_count": 76,
   "metadata": {},
   "outputs": [
    {
     "data": {
      "image/png": "[encoded data removed]",
      "text/plain": [
       "<Figure size 1000x700 with 1 Axes>"
      ]
     },
     "metadata": {},
     "output_type": "display_data"
    }
   ],
   "source": [
    "pd.DataFrame({\"naive\": naive_results[\"mae\"],\n",
    "              \"horizon_1_window_7\": model_1_results[\"mae\"],\n",
    "              \"horizon_1_window_30\": model_2_results[\"mae\"],\n",
    "              \"horizon_7_window_30\": model_3_results[\"mae\"]}, index = [\"mae\"]).plot(figsize = (10, 7), kind = 'bar');"
   ]
  },
  {
   "cell_type": "markdown",
   "metadata": {},
   "source": [
    "#### model 4: Conv1D model"
   ]
  },
  {
   "cell_type": "code",
   "execution_count": 77,
   "metadata": {},
   "outputs": [],
   "source": [
    "HORIZON = 1\n",
    "WINDOW_SIZE = 7"
   ]
  },
  {
   "cell_type": "code",
   "execution_count": 78,
   "metadata": {},
   "outputs": [
    {
     "name": "stdout",
     "output_type": "stream",
     "text": [
      "window indexes:\n",
      " (array([[   0,    1,    2, ...,    5,    6,    7],\n",
      "       [   1,    2,    3, ...,    6,    7,    8],\n",
      "       [   2,    3,    4, ...,    7,    8,    9],\n",
      "       ...,\n",
      "       [2777, 2778, 2779, ..., 2782, 2783, 2784],\n",
      "       [2778, 2779, 2780, ..., 2783, 2784, 2785],\n",
      "       [2779, 2780, 2781, ..., 2784, 2785, 2786]]), (2780, 8))\n"
     ]
    },
    {
     "data": {
      "text/plain": [
       "(2780, 2780)"
      ]
     },
     "execution_count": 78,
     "metadata": {},
     "output_type": "execute_result"
    }
   ],
   "source": [
    "#create windowed dataset\n",
    "full_windows, full_labels = make_windows(prices, window_size = WINDOW_SIZE, horizon = HORIZON)\n",
    "len(full_windows), len(full_labels)"
   ]
  },
  {
   "cell_type": "code",
   "execution_count": 79,
   "metadata": {},
   "outputs": [
    {
     "data": {
      "text/plain": [
       "(2224, 2224, 556, 556)"
      ]
     },
     "execution_count": 79,
     "metadata": {},
     "output_type": "execute_result"
    }
   ],
   "source": [
    "#create train/test sets\n",
    "train_windows, test_windows, train_labels, test_labels = make_train_test_splits(full_windows,\n",
    "                                                                                full_labels)\n",
    "len(train_windows), len(train_labels), len(test_windows), len(test_labels)"
   ]
  },
  {
   "cell_type": "code",
   "execution_count": 81,
   "metadata": {},
   "outputs": [
    {
     "data": {
      "text/plain": [
       "(7,)"
      ]
     },
     "execution_count": 81,
     "metadata": {},
     "output_type": "execute_result"
    }
   ],
   "source": [
    "#To use the conv1d layer, we need to use an inpuit shape of: (batch_size, timesteps, input_dim) However our data isn't in that shape yet.\n",
    "#check data input shapes\n",
    "train_windows[0].shape"
   ]
  },
  {
   "cell_type": "code",
   "execution_count": 82,
   "metadata": {},
   "outputs": [
    {
     "data": {
      "text/plain": [
       "<tf.Tensor: shape=(7,), dtype=float64, numpy=\n",
       "array([123.65499, 125.455  , 108.58483, 118.67466, 121.33866, 120.65533,\n",
       "       121.795  ])>"
      ]
     },
     "execution_count": 82,
     "metadata": {},
     "output_type": "execute_result"
    }
   ],
   "source": [
    "#before we pass our data to Conv1D, let's ensure the data is in right shape\n",
    "x = tf.constant(train_windows[0])\n",
    "x"
   ]
  },
  {
   "cell_type": "code",
   "execution_count": 83,
   "metadata": {},
   "outputs": [],
   "source": [
    "expand_dims_layer = layers.Lambda(lambda x: tf.expand_dims(x, axis = 1))"
   ]
  },
  {
   "cell_type": "code",
   "execution_count": 84,
   "metadata": {},
   "outputs": [
    {
     "name": "stdout",
     "output_type": "stream",
     "text": [
      "Original shape : (7,)\n",
      "Expanded shape : (7, 1)\n",
      "Original values with expanded shape:\n",
      " [[123.65499]\n",
      " [125.455  ]\n",
      " [108.58483]\n",
      " [118.67466]\n",
      " [121.33866]\n",
      " [120.65533]\n",
      " [121.795  ]]\n"
     ]
    }
   ],
   "source": [
    "#test out our lambda layer\n",
    "print(f\"Original shape : {x.shape}\" ) #window size\n",
    "print(f\"Expanded shape : {expand_dims_layer(x).shape}\")\n",
    "print(f\"Original values with expanded shape:\\n {expand_dims_layer(x)}\")"
   ]
  },
  {
   "cell_type": "code",
   "execution_count": 85,
   "metadata": {},
   "outputs": [
    {
     "name": "stdout",
     "output_type": "stream",
     "text": [
      "Epoch 1/100\n",
      " 1/18 [>.............................] - ETA: 12s - loss: 3006.2231 - mae: 3006.2231INFO:tensorflow:Assets written to: model_experiments\\model_4_Conv1D\\assets\n"
     ]
    },
    {
     "name": "stderr",
     "output_type": "stream",
     "text": [
      "INFO:tensorflow:Assets written to: model_experiments\\model_4_Conv1D\\assets\n"
     ]
    },
    {
     "name": "stdout",
     "output_type": "stream",
     "text": [
      "18/18 [==============================] - 2s 54ms/step - loss: 2796.5522 - mae: 2796.5522 - val_loss: 16627.7891 - val_mae: 16627.7891\n",
      "Epoch 2/100\n",
      "15/18 [========================>.....] - ETA: 0s - loss: 2804.9172 - mae: 2804.9172INFO:tensorflow:Assets written to: model_experiments\\model_4_Conv1D\\assets\n"
     ]
    },
    {
     "name": "stderr",
     "output_type": "stream",
     "text": [
      "INFO:tensorflow:Assets written to: model_experiments\\model_4_Conv1D\\assets\n"
     ]
    },
    {
     "name": "stdout",
     "output_type": "stream",
     "text": [
      "18/18 [==============================] - 1s 40ms/step - loss: 2772.4819 - mae: 2772.4819 - val_loss: 16560.3984 - val_mae: 16560.3984\n",
      "Epoch 3/100\n",
      "15/18 [========================>.....] - ETA: 0s - loss: 2792.0115 - mae: 2792.0115INFO:tensorflow:Assets written to: model_experiments\\model_4_Conv1D\\assets\n"
     ]
    },
    {
     "name": "stderr",
     "output_type": "stream",
     "text": [
      "INFO:tensorflow:Assets written to: model_experiments\\model_4_Conv1D\\assets\n"
     ]
    },
    {
     "name": "stdout",
     "output_type": "stream",
     "text": [
      "18/18 [==============================] - 1s 40ms/step - loss: 2766.8950 - mae: 2766.8950 - val_loss: 16318.0322 - val_mae: 16318.0322\n",
      "Epoch 4/100\n",
      "18/18 [==============================] - 0s 6ms/step - loss: 2760.2576 - mae: 2760.2576 - val_loss: 16467.9844 - val_mae: 16467.9844\n",
      "Epoch 5/100\n",
      "18/18 [==============================] - 0s 4ms/step - loss: 2765.9138 - mae: 2765.9138 - val_loss: 16862.5605 - val_mae: 16862.5605\n",
      "Epoch 6/100\n",
      "18/18 [==============================] - 0s 5ms/step - loss: 2762.3777 - mae: 2762.3777 - val_loss: 17546.5371 - val_mae: 17546.5371\n",
      "Epoch 7/100\n",
      "18/18 [==============================] - 0s 4ms/step - loss: 2764.3738 - mae: 2764.3738 - val_loss: 17303.4219 - val_mae: 17303.4219\n",
      "Epoch 8/100\n",
      "18/18 [==============================] - 0s 4ms/step - loss: 2763.6841 - mae: 2763.6841 - val_loss: 17121.3184 - val_mae: 17121.3184\n",
      "Epoch 9/100\n",
      "18/18 [==============================] - 0s 4ms/step - loss: 2761.8157 - mae: 2761.8157 - val_loss: 16785.5742 - val_mae: 16785.5742\n",
      "Epoch 10/100\n",
      "18/18 [==============================] - 0s 4ms/step - loss: 2760.9619 - mae: 2760.9619 - val_loss: 16583.7910 - val_mae: 16583.7910\n",
      "Epoch 11/100\n",
      "18/18 [==============================] - 0s 4ms/step - loss: 2763.2600 - mae: 2763.2600 - val_loss: 16967.3184 - val_mae: 16967.3184\n",
      "Epoch 12/100\n",
      "18/18 [==============================] - 0s 4ms/step - loss: 2759.1125 - mae: 2759.1125 - val_loss: 16997.0488 - val_mae: 16997.0488\n",
      "Epoch 13/100\n",
      "18/18 [==============================] - 0s 4ms/step - loss: 2758.1465 - mae: 2758.1465 - val_loss: 16732.0801 - val_mae: 16732.0801\n",
      "Epoch 14/100\n",
      "18/18 [==============================] - 0s 4ms/step - loss: 2759.5059 - mae: 2759.5059 - val_loss: 16740.7500 - val_mae: 16740.7500\n",
      "Epoch 15/100\n",
      "18/18 [==============================] - 0s 4ms/step - loss: 2763.1204 - mae: 2763.1204 - val_loss: 16941.9414 - val_mae: 16941.9414\n",
      "Epoch 16/100\n",
      "18/18 [==============================] - 0s 4ms/step - loss: 2758.6689 - mae: 2758.6689 - val_loss: 17090.5938 - val_mae: 17090.5938\n",
      "Epoch 17/100\n",
      "18/18 [==============================] - 0s 4ms/step - loss: 2759.8198 - mae: 2759.8198 - val_loss: 16578.1973 - val_mae: 16578.1973\n",
      "Epoch 18/100\n",
      "18/18 [==============================] - 0s 5ms/step - loss: 2762.4160 - mae: 2762.4160 - val_loss: 17008.7266 - val_mae: 17008.7266\n",
      "Epoch 19/100\n",
      " 1/18 [>.............................] - ETA: 0s - loss: 2274.7251 - mae: 2274.7251INFO:tensorflow:Assets written to: model_experiments\\model_4_Conv1D\\assets\n"
     ]
    },
    {
     "name": "stderr",
     "output_type": "stream",
     "text": [
      "INFO:tensorflow:Assets written to: model_experiments\\model_4_Conv1D\\assets\n"
     ]
    },
    {
     "name": "stdout",
     "output_type": "stream",
     "text": [
      "18/18 [==============================] - 1s 49ms/step - loss: 2760.4062 - mae: 2760.4062 - val_loss: 16267.6689 - val_mae: 16267.6689\n",
      "Epoch 20/100\n",
      "18/18 [==============================] - 0s 6ms/step - loss: 2757.8137 - mae: 2757.8137 - val_loss: 16927.6074 - val_mae: 16927.6074\n",
      "Epoch 21/100\n",
      "18/18 [==============================] - 0s 5ms/step - loss: 2758.4006 - mae: 2758.4006 - val_loss: 17250.5273 - val_mae: 17250.5273\n",
      "Epoch 22/100\n",
      "18/18 [==============================] - 0s 4ms/step - loss: 2761.9788 - mae: 2761.9788 - val_loss: 17348.1914 - val_mae: 17348.1914\n",
      "Epoch 23/100\n",
      "18/18 [==============================] - 0s 4ms/step - loss: 2762.7449 - mae: 2762.7449 - val_loss: 16777.1133 - val_mae: 16777.1133\n",
      "Epoch 24/100\n",
      "18/18 [==============================] - 0s 4ms/step - loss: 2758.1665 - mae: 2758.1665 - val_loss: 16521.6582 - val_mae: 16521.6582\n",
      "Epoch 25/100\n",
      "18/18 [==============================] - 0s 4ms/step - loss: 2763.2302 - mae: 2763.2302 - val_loss: 16628.4258 - val_mae: 16628.4258\n",
      "Epoch 26/100\n",
      "18/18 [==============================] - 0s 4ms/step - loss: 2755.7854 - mae: 2755.7854 - val_loss: 16805.2070 - val_mae: 16805.2070\n",
      "Epoch 27/100\n",
      "18/18 [==============================] - 0s 4ms/step - loss: 2758.6611 - mae: 2758.6611 - val_loss: 17122.6719 - val_mae: 17122.6719\n",
      "Epoch 28/100\n",
      "18/18 [==============================] - 0s 4ms/step - loss: 2761.6252 - mae: 2761.6252 - val_loss: 16934.1934 - val_mae: 16934.1934\n",
      "Epoch 29/100\n",
      "18/18 [==============================] - 0s 4ms/step - loss: 2760.5608 - mae: 2760.5608 - val_loss: 16856.8105 - val_mae: 16856.8105\n",
      "Epoch 30/100\n",
      "18/18 [==============================] - 0s 4ms/step - loss: 2757.3997 - mae: 2757.3997 - val_loss: 16872.1172 - val_mae: 16872.1172\n",
      "Epoch 31/100\n",
      "18/18 [==============================] - 0s 4ms/step - loss: 2757.3831 - mae: 2757.3831 - val_loss: 16723.0586 - val_mae: 16723.0586\n",
      "Epoch 32/100\n",
      "18/18 [==============================] - 0s 4ms/step - loss: 2759.2502 - mae: 2759.2502 - val_loss: 16744.5254 - val_mae: 16744.5254\n",
      "Epoch 33/100\n",
      "18/18 [==============================] - 0s 5ms/step - loss: 2761.3159 - mae: 2761.3159 - val_loss: 17066.1211 - val_mae: 17066.1211\n",
      "Epoch 34/100\n",
      "18/18 [==============================] - 0s 4ms/step - loss: 2758.3506 - mae: 2758.3506 - val_loss: 16647.2285 - val_mae: 16647.2285\n",
      "Epoch 35/100\n",
      "18/18 [==============================] - 0s 4ms/step - loss: 2761.1670 - mae: 2761.1670 - val_loss: 16942.9082 - val_mae: 16942.9082\n",
      "Epoch 36/100\n",
      "18/18 [==============================] - 0s 4ms/step - loss: 2757.4900 - mae: 2757.4900 - val_loss: 17023.9316 - val_mae: 17023.9316\n",
      "Epoch 37/100\n",
      "18/18 [==============================] - 0s 4ms/step - loss: 2761.1030 - mae: 2761.1030 - val_loss: 17427.5137 - val_mae: 17427.5137\n",
      "Epoch 38/100\n",
      "18/18 [==============================] - 0s 4ms/step - loss: 2765.7703 - mae: 2765.7703 - val_loss: 17205.0820 - val_mae: 17205.0820\n",
      "Epoch 39/100\n",
      "18/18 [==============================] - 0s 4ms/step - loss: 2755.2258 - mae: 2755.2258 - val_loss: 16691.9121 - val_mae: 16691.9121\n",
      "Epoch 40/100\n",
      "18/18 [==============================] - 0s 4ms/step - loss: 2763.4163 - mae: 2763.4163 - val_loss: 17046.1641 - val_mae: 17046.1641\n",
      "Epoch 41/100\n",
      "18/18 [==============================] - 0s 4ms/step - loss: 2758.4924 - mae: 2758.4924 - val_loss: 17447.8652 - val_mae: 17447.8652\n",
      "Epoch 42/100\n",
      "18/18 [==============================] - 0s 4ms/step - loss: 2755.0020 - mae: 2755.0020 - val_loss: 16761.0312 - val_mae: 16761.0312\n",
      "Epoch 43/100\n",
      "18/18 [==============================] - 0s 4ms/step - loss: 2757.8894 - mae: 2757.8894 - val_loss: 16711.3242 - val_mae: 16711.3242\n",
      "Epoch 44/100\n",
      "18/18 [==============================] - 0s 4ms/step - loss: 2762.6089 - mae: 2762.6089 - val_loss: 16857.6172 - val_mae: 16857.6172\n",
      "Epoch 45/100\n",
      "18/18 [==============================] - 0s 4ms/step - loss: 2756.9768 - mae: 2756.9768 - val_loss: 16942.3633 - val_mae: 16942.3613\n",
      "Epoch 46/100\n",
      "18/18 [==============================] - 0s 4ms/step - loss: 2757.6521 - mae: 2757.6521 - val_loss: 17078.9492 - val_mae: 17078.9492\n",
      "Epoch 47/100\n",
      "18/18 [==============================] - 0s 4ms/step - loss: 2759.8955 - mae: 2759.8955 - val_loss: 16819.8340 - val_mae: 16819.8340\n",
      "Epoch 48/100\n",
      "18/18 [==============================] - 0s 4ms/step - loss: 2757.6775 - mae: 2757.6775 - val_loss: 16665.4453 - val_mae: 16665.4453\n",
      "Epoch 49/100\n",
      "18/18 [==============================] - 0s 5ms/step - loss: 2761.9385 - mae: 2761.9385 - val_loss: 16428.3750 - val_mae: 16428.3750\n",
      "Epoch 50/100\n",
      "18/18 [==============================] - 0s 4ms/step - loss: 2758.0298 - mae: 2758.0298 - val_loss: 17254.2012 - val_mae: 17254.2012\n",
      "Epoch 51/100\n",
      "18/18 [==============================] - 0s 4ms/step - loss: 2756.8606 - mae: 2756.8606 - val_loss: 16778.9277 - val_mae: 16778.9277\n",
      "Epoch 52/100\n",
      "18/18 [==============================] - 0s 4ms/step - loss: 2757.2744 - mae: 2757.2744 - val_loss: 17108.3066 - val_mae: 17108.3066\n",
      "Epoch 53/100\n",
      " 1/18 [>.............................] - ETA: 0s - loss: 2073.5776 - mae: 2073.5776INFO:tensorflow:Assets written to: model_experiments\\model_4_Conv1D\\assets\n"
     ]
    },
    {
     "name": "stderr",
     "output_type": "stream",
     "text": [
      "INFO:tensorflow:Assets written to: model_experiments\\model_4_Conv1D\\assets\n"
     ]
    },
    {
     "name": "stdout",
     "output_type": "stream",
     "text": [
      "18/18 [==============================] - 1s 37ms/step - loss: 2762.9851 - mae: 2762.9851 - val_loss: 16174.0684 - val_mae: 16174.0684\n",
      "Epoch 54/100\n",
      "18/18 [==============================] - 0s 5ms/step - loss: 2758.3442 - mae: 2758.3442 - val_loss: 16683.9141 - val_mae: 16683.9141\n",
      "Epoch 55/100\n",
      "18/18 [==============================] - 0s 4ms/step - loss: 2760.1401 - mae: 2760.1401 - val_loss: 16787.8164 - val_mae: 16787.8164\n",
      "Epoch 56/100\n",
      "18/18 [==============================] - 0s 4ms/step - loss: 2756.1643 - mae: 2756.1643 - val_loss: 16606.0840 - val_mae: 16606.0840\n",
      "Epoch 57/100\n",
      "18/18 [==============================] - 0s 4ms/step - loss: 2760.9382 - mae: 2760.9382 - val_loss: 16768.7617 - val_mae: 16768.7617\n",
      "Epoch 58/100\n",
      "18/18 [==============================] - 0s 4ms/step - loss: 2760.0205 - mae: 2760.0205 - val_loss: 16652.4707 - val_mae: 16652.4707\n",
      "Epoch 59/100\n",
      "18/18 [==============================] - 0s 4ms/step - loss: 2754.9380 - mae: 2754.9380 - val_loss: 16900.7305 - val_mae: 16900.7305\n",
      "Epoch 60/100\n",
      "18/18 [==============================] - 0s 4ms/step - loss: 2757.1506 - mae: 2757.1506 - val_loss: 16954.8164 - val_mae: 16954.8164\n",
      "Epoch 61/100\n",
      "18/18 [==============================] - 0s 4ms/step - loss: 2760.6243 - mae: 2760.6243 - val_loss: 16591.1719 - val_mae: 16591.1719\n",
      "Epoch 62/100\n",
      "18/18 [==============================] - 0s 4ms/step - loss: 2760.1545 - mae: 2760.1545 - val_loss: 16991.9355 - val_mae: 16991.9355\n",
      "Epoch 63/100\n",
      "18/18 [==============================] - 0s 4ms/step - loss: 2754.5193 - mae: 2754.5193 - val_loss: 16889.4199 - val_mae: 16889.4199\n",
      "Epoch 64/100\n",
      "18/18 [==============================] - 0s 4ms/step - loss: 2756.1953 - mae: 2756.1953 - val_loss: 17136.5957 - val_mae: 17136.5957\n",
      "Epoch 65/100\n",
      "18/18 [==============================] - 0s 4ms/step - loss: 2751.8884 - mae: 2751.8884 - val_loss: 16921.4434 - val_mae: 16921.4434\n",
      "Epoch 66/100\n",
      "18/18 [==============================] - 0s 4ms/step - loss: 2762.9673 - mae: 2762.9673 - val_loss: 16841.9668 - val_mae: 16841.9668\n",
      "Epoch 67/100\n",
      "18/18 [==============================] - 0s 6ms/step - loss: 2758.7180 - mae: 2758.7180 - val_loss: 16726.4844 - val_mae: 16726.4844\n",
      "Epoch 68/100\n",
      "18/18 [==============================] - 0s 5ms/step - loss: 2758.8235 - mae: 2758.8235 - val_loss: 16823.0527 - val_mae: 16823.0527\n",
      "Epoch 69/100\n",
      "18/18 [==============================] - 0s 4ms/step - loss: 2757.1133 - mae: 2757.1133 - val_loss: 16715.2402 - val_mae: 16715.2402\n",
      "Epoch 70/100\n",
      "18/18 [==============================] - 0s 6ms/step - loss: 2756.4585 - mae: 2756.4585 - val_loss: 16870.1855 - val_mae: 16870.1855\n",
      "Epoch 71/100\n",
      "18/18 [==============================] - 0s 4ms/step - loss: 2758.1433 - mae: 2758.1433 - val_loss: 16535.6250 - val_mae: 16535.6250\n",
      "Epoch 72/100\n",
      "18/18 [==============================] - 0s 4ms/step - loss: 2751.8147 - mae: 2751.8147 - val_loss: 16436.3809 - val_mae: 16436.3809\n",
      "Epoch 73/100\n",
      "18/18 [==============================] - 0s 4ms/step - loss: 2755.9202 - mae: 2755.9202 - val_loss: 16556.9668 - val_mae: 16556.9668\n",
      "Epoch 74/100\n",
      " 1/18 [>.............................] - ETA: 0s - loss: 3014.2830 - mae: 3014.2830INFO:tensorflow:Assets written to: model_experiments\\model_4_Conv1D\\assets\n"
     ]
    },
    {
     "name": "stderr",
     "output_type": "stream",
     "text": [
      "INFO:tensorflow:Assets written to: model_experiments\\model_4_Conv1D\\assets\n"
     ]
    },
    {
     "name": "stdout",
     "output_type": "stream",
     "text": [
      "18/18 [==============================] - 1s 39ms/step - loss: 2755.6484 - mae: 2755.6484 - val_loss: 15792.7373 - val_mae: 15792.7373\n",
      "Epoch 75/100\n",
      "18/18 [==============================] - 0s 5ms/step - loss: 2757.4453 - mae: 2757.4453 - val_loss: 16158.0469 - val_mae: 16158.0469\n",
      "Epoch 76/100\n",
      "18/18 [==============================] - 0s 4ms/step - loss: 2760.8784 - mae: 2760.8784 - val_loss: 16923.6582 - val_mae: 16923.6582\n",
      "Epoch 77/100\n",
      "18/18 [==============================] - 0s 4ms/step - loss: 2757.3513 - mae: 2757.3513 - val_loss: 16297.5898 - val_mae: 16297.5898\n",
      "Epoch 78/100\n",
      "18/18 [==============================] - 0s 5ms/step - loss: 2750.3540 - mae: 2750.3540 - val_loss: 16712.9102 - val_mae: 16712.9102\n",
      "Epoch 79/100\n",
      "18/18 [==============================] - 0s 5ms/step - loss: 2751.6116 - mae: 2751.6116 - val_loss: 16817.1875 - val_mae: 16817.1875\n",
      "Epoch 80/100\n",
      "18/18 [==============================] - 0s 4ms/step - loss: 2761.2373 - mae: 2761.2373 - val_loss: 16723.3301 - val_mae: 16723.3301\n",
      "Epoch 81/100\n",
      "18/18 [==============================] - 0s 5ms/step - loss: 2756.7117 - mae: 2756.7117 - val_loss: 16659.8066 - val_mae: 16659.8066\n",
      "Epoch 82/100\n",
      "18/18 [==============================] - 0s 5ms/step - loss: 2755.5200 - mae: 2755.5200 - val_loss: 16522.3516 - val_mae: 16522.3516\n",
      "Epoch 83/100\n",
      "18/18 [==============================] - 0s 4ms/step - loss: 2754.4258 - mae: 2754.4258 - val_loss: 16065.1113 - val_mae: 16065.1113\n",
      "Epoch 84/100\n",
      "18/18 [==============================] - 0s 6ms/step - loss: 2766.2405 - mae: 2766.2405 - val_loss: 16787.3164 - val_mae: 16787.3164\n",
      "Epoch 85/100\n",
      "18/18 [==============================] - 0s 5ms/step - loss: 2758.4924 - mae: 2758.4924 - val_loss: 16989.2617 - val_mae: 16989.2617\n",
      "Epoch 86/100\n",
      "18/18 [==============================] - 0s 4ms/step - loss: 2754.9695 - mae: 2754.9695 - val_loss: 16500.9258 - val_mae: 16500.9238\n",
      "Epoch 87/100\n",
      "18/18 [==============================] - 0s 4ms/step - loss: 2757.4001 - mae: 2757.4001 - val_loss: 16572.2051 - val_mae: 16572.2051\n",
      "Epoch 88/100\n",
      "18/18 [==============================] - 0s 4ms/step - loss: 2758.4570 - mae: 2758.4570 - val_loss: 16132.2539 - val_mae: 16132.2539\n",
      "Epoch 89/100\n",
      "18/18 [==============================] - 0s 4ms/step - loss: 2760.4355 - mae: 2760.4355 - val_loss: 15879.6328 - val_mae: 15879.6328\n",
      "Epoch 90/100\n",
      "18/18 [==============================] - 0s 5ms/step - loss: 2753.7473 - mae: 2753.7473 - val_loss: 16442.3789 - val_mae: 16442.3789\n",
      "Epoch 91/100\n",
      "18/18 [==============================] - 0s 4ms/step - loss: 2752.7278 - mae: 2752.7278 - val_loss: 16128.8164 - val_mae: 16128.8184\n",
      "Epoch 92/100\n",
      "18/18 [==============================] - 0s 4ms/step - loss: 2754.3176 - mae: 2754.3176 - val_loss: 16080.4873 - val_mae: 16080.4873\n",
      "Epoch 93/100\n",
      "18/18 [==============================] - 0s 4ms/step - loss: 2754.9495 - mae: 2754.9495 - val_loss: 16264.5830 - val_mae: 16264.5830\n",
      "Epoch 94/100\n",
      "18/18 [==============================] - 0s 4ms/step - loss: 2753.2842 - mae: 2753.2842 - val_loss: 16271.6758 - val_mae: 16271.6758\n",
      "Epoch 95/100\n",
      "18/18 [==============================] - 0s 3ms/step - loss: 2752.8975 - mae: 2752.8975 - val_loss: 16074.3359 - val_mae: 16074.3359\n",
      "Epoch 96/100\n",
      "18/18 [==============================] - 0s 3ms/step - loss: 2755.1953 - mae: 2755.1953 - val_loss: 15817.1221 - val_mae: 15817.1221\n",
      "Epoch 97/100\n",
      "18/18 [==============================] - 0s 4ms/step - loss: 2753.8796 - mae: 2753.8796 - val_loss: 15870.3652 - val_mae: 15870.3652\n",
      "Epoch 98/100\n",
      "18/18 [==============================] - 0s 4ms/step - loss: 2757.4402 - mae: 2757.4402 - val_loss: 16018.3008 - val_mae: 16018.3008\n",
      "Epoch 99/100\n",
      "18/18 [==============================] - 0s 4ms/step - loss: 2752.1272 - mae: 2752.1272 - val_loss: 15817.3916 - val_mae: 15817.3916\n",
      "Epoch 100/100\n",
      "18/18 [==============================] - 0s 4ms/step - loss: 2756.5481 - mae: 2756.5481 - val_loss: 16130.7305 - val_mae: 16130.7305\n"
     ]
    },
    {
     "data": {
      "text/plain": [
       "<keras.src.callbacks.History at 0x23a25c77950>"
      ]
     },
     "execution_count": 85,
     "metadata": {},
     "output_type": "execute_result"
    }
   ],
   "source": [
    "tf.random.set_seed(42)\n",
    "\n",
    "#create Conv1D model\n",
    "model_4 = tf.keras.Sequential([\n",
    "    layers.Lambda(lambda x: tf.expand_dims(x, axis = 0)),\n",
    "    layers.Conv1D(filters = 32,\n",
    "                  kernel_size = WINDOW_SIZE,\n",
    "\n",
    "                  padding = 'causal',\n",
    "                  activation = 'relu',\n",
    "                  ),\n",
    "    tf.keras.layers.Dense(units=32, activation='relu'),\n",
    "    layers.Dense(HORIZON)\n",
    "], name = \"model_4_Conv1D\")\n",
    "\n",
    "#Compile model\n",
    "model_4.compile(loss = \"mae\",\n",
    "                optimizer = \"adam\",\n",
    "                metrics = [\"mae\"])\n",
    "\n",
    "#fit the model\n",
    "model_4.fit(train_windows,\n",
    "            train_labels,\n",
    "            batch_size = 128,\n",
    "            epochs = 100,\n",
    "            validation_data = (test_windows, test_labels),\n",
    "            callbacks = [create_model_checkpoint(model_name = model_4.name)])"
   ]
  },
  {
   "cell_type": "code",
   "execution_count": 86,
   "metadata": {},
   "outputs": [
    {
     "name": "stdout",
     "output_type": "stream",
     "text": [
      "Model: \"model_4_Conv1D\"\n",
      "_________________________________________________________________\n",
      " Layer (type)                Output Shape              Param #   \n",
      "=================================================================\n",
      " lambda_1 (Lambda)           (1, None, 7)              0         \n",
      "                                                                 \n",
      " conv1d (Conv1D)             (1, None, 32)             1600      \n",
      "                                                                 \n",
      " dense_6 (Dense)             (1, None, 32)             1056      \n",
      "                                                                 \n",
      " dense_7 (Dense)             (1, None, 1)              33        \n",
      "                                                                 \n",
      "=================================================================\n",
      "Total params: 2689 (10.50 KB)\n",
      "Trainable params: 2689 (10.50 KB)\n",
      "Non-trainable params: 0 (0.00 Byte)\n",
      "_________________________________________________________________\n"
     ]
    }
   ],
   "source": [
    "model_4.summary()"
   ]
  },
  {
   "cell_type": "code",
   "execution_count": 87,
   "metadata": {},
   "outputs": [
    {
     "name": "stdout",
     "output_type": "stream",
     "text": [
      "18/18 [==============================] - 0s 1ms/step - loss: 16396.9160 - mae: 16396.9160\n"
     ]
    },
    {
     "data": {
      "text/plain": [
       "[16396.916015625, 16396.916015625]"
      ]
     },
     "execution_count": 87,
     "metadata": {},
     "output_type": "execute_result"
    }
   ],
   "source": [
    "#Evaluate model\n",
    "model_4.evaluate(test_windows, test_labels)"
   ]
  },
  {
   "cell_type": "code",
   "execution_count": 89,
   "metadata": {},
   "outputs": [
    {
     "name": "stdout",
     "output_type": "stream",
     "text": [
      "18/18 [==============================] - 0s 2ms/step - loss: 16005.0830 - mae: 16005.0830\n"
     ]
    },
    {
     "data": {
      "text/plain": [
       "[16005.0830078125, 16005.0830078125]"
      ]
     },
     "execution_count": 89,
     "metadata": {},
     "output_type": "execute_result"
    }
   ],
   "source": [
    "#reload the best performing model\n",
    "model_4 = tf.keras.models.load_model(\"C:\\\\Users\\\\moham\\\\Downloads\\\\projects\\\\Bitcoin-Price-Timeforecasting\\\\model_experiments\\\\model_4_Conv1D\")\n",
    "model_4.evaluate(test_windows, test_labels)"
   ]
  },
  {
   "cell_type": "code",
   "execution_count": 120,
   "metadata": {},
   "outputs": [
    {
     "name": "stdout",
     "output_type": "stream",
     "text": [
      "18/18 [==============================] - 0s 1ms/step\n",
      "<tf.RaggedTensor [[1229.2786, 1558.0162, 909.7973, 1067.0756, 1437.8018, 1630.3453,\n",
      "  2058.4673, 2082.2947, 2048.237, 1987.4851, 1975.2466, 2003.692, 1947.9327,\n",
      "  1930.1101, 1934.4454, 1886.8983, 1840.9686, 1844.8053, 1852.3392,\n",
      "  1808.7665, 1816.5902, 1801.5555, 1756.7812, 1687.17, 1683.0297, 1606.1642,\n",
      "  1629.7368, 1616.6752, 1661.8397, 1668.9409, 1726.0103, 1708.0793]         ,\n",
      " [986.566, 1270.0067, 740.4917, 874.1113, 1154.2596, 1317.9908, 1673.1675,\n",
      "  1668.2401, 1635.5992, 1609.9254, 1645.7479, 1658.3373, 1608.3193,\n",
      "  1632.5231, 1612.951, 1579.1393, 1541.5409, 1630.8622, 1610.0233,\n",
      "  1619.4076, 1645.2513, 1641.2819, 1623.7355, 1621.5385, 1621.2059,\n",
      "  1612.2347, 1632.2767, 1664.0944, 1664.3708, 1686.3295, 1694.0826,\n",
      "  1675.596]                                                               ,\n",
      " [1057.7615, 1425.1127, 822.7204, 962.0791, 1241.6444, 1486.6151, 1874.8729,\n",
      "  1820.9252, 1867.5986, 1868.3163, 1850.1841, 1852.0642, 1938.6123, 1956.32,\n",
      "  1940.4447, 1970.7853, 1988.1387, 1963.7003, 1994.3903, 2006.1982,\n",
      "  2006.4484, 1978.8235, 1966.5298, 1937.5188, 1966.7866, 1998.5408,\n",
      "  2043.2567, 2109.1729, 2162.8752, 2144.5525, 2162.4824, 2161.5579]         ,\n",
      " [1365.4354, 1814.8756, 1038.1123, 1208.5209, 1575.0532, 1778.7308,\n",
      "  2232.3364, 2227.3606, 2277.1013, 2309.4343, 2248.675, 2307.682, 2250.3137,\n",
      "  2240.4185, 2197.6218, 2202.473, 2136.8235, 2112.7036, 2142.7297,\n",
      "  2127.7825, 2160.0063, 2153.17, 2118.712, 2018.842, 2027.0514, 2013.798,\n",
      "  1949.2723, 1889.326, 1909.5018, 1935.2933, 1891.8972, 1833.7556]          ,\n",
      " [573.41223, 1067.664, 594.79395, 647.1325, 1082.377, 1276.2765, 1455.7328,\n",
      "  1410.3568, 1265.9952, 1264.5851, 1223.0752, 1317.1603, 1282.8591,\n",
      "  1394.2623, 1400.0089, 1376.6027, 1336.1205, 1438.6572, 1513.2759,\n",
      "  1497.7279, 1539.5922, 1526.784, 1463.0779, 1428.4628, 1492.4623,\n",
      "  1506.6921, 1504.2474, 1556.3529, 1515.4706, 1532.8849, 1552.8793,\n",
      "  1599.1366]                                                               ,\n",
      " [910.4836, 1270.5128, 709.9153, 855.80524, 1100.1985, 1259.5043, 1544.83,\n",
      "  1556.83, 1565.3712, 1631.0463, 1632.6925, 1644.3623, 1659.6143, 1622.3235,\n",
      "  1638.1117, 1706.109, 1785.1696, 1750.6788, 1791.6307, 1785.141, 1805.0725,\n",
      "  1825.4403, 1980.7242, 2039.4891, 2051.1477, 2024.6329, 1976.0873,\n",
      "  1964.5104, 2026.194, 2115.9585, 2216.7847, 2206.8647]                     ,\n",
      " [1235.9015, 1779.5441, 971.9753, 1131.0388, 1494.8241, 1686.0715, 2096.565,\n",
      "  2117.6729, 2134.9148, 2133.9316, 2144.9946, 2150.298, 2124.1948,\n",
      "  2113.4702, 2105.6677, 2097.0789, 2081.578, 2063.589, 2039.7687, 2157.559,\n",
      "  2123.4158, 2167.9739, 2158.4631, 2253.0557, 2186.084, 2183.6248,\n",
      "  2176.0796, 2151.4456, 2184.606, 2167.833, 2188.298, 2199.0303]            ,\n",
      " [1267.9554, 1636.452, 947.66797, 1120.3503, 1478.9246, 1706.9043, 2157.403,\n",
      "  2111.152, 2107.4038, 2089.698, 2084.22, 2086.8215, 2145.2507, 2142.9575,\n",
      "  2108.6038, 2091.9219, 2067.1433, 2053.1838, 2053.664, 2074.4568,\n",
      "  2081.8804, 2087.5308, 2072.4602, 2050.9158, 2070.1348, 2054.1711,\n",
      "  2082.7668, 2080.1042, 2109.3975, 2081.568, 2083.142, 2083.3481]           ,\n",
      " [1240.9219, 1675.3435, 944.15594, 1132.6729, 1471.3573, 1678.1542,\n",
      "  2109.2224, 2151.9646, 2206.7566, 2240.3083, 2218.8691, 2275.7368,\n",
      "  2253.267, 2303.5935, 2288.986, 2434.572, 2487.632, 2543.6492, 2564.659,\n",
      "  2567.821, 2627.6345, 2569.5833, 2563.0667, 2544.6423, 2587.866, 2660.4773,\n",
      "  2637.831, 2660.9111, 2663.9614, 2693.7637, 2625.5627, 2592.159]           ,\n",
      " [1526.1515, 2097.9888, 1188.6044, 1397.4796, 1880.9468, 2122.4236,\n",
      "  2638.8862, 2654.8503, 2614.0547, 2638.6785, 2632.8108, 2654.0916,\n",
      "  2607.1262, 2572.846, 2483.5017, 2500.3123, 2505.8452, 2526.5408,\n",
      "  2581.6287, 2592.757, 2533.1028, 2462.8142, 2401.3225, 2326.9363,\n",
      "  2321.8777, 2356.6702, 2342.9055, 2355.0837, 2367.6582, 2363.53, 2382.7698,\n",
      "  2350.5415]                                                                ,\n",
      " [1387.3905, 1821.2854, 1068.5258, 1256.5475, 1704.8793, 1965.9863,\n",
      "  2458.8567, 2414.0654, 2398.824, 2348.3738, 2387.048, 2393.594, 2408.3174,\n",
      "  2421.236, 2440.473, 2422.1204, 2422.2974, 2433.6536, 2432.8406, 2438.617,\n",
      "  2455.8489, 2467.7417, 2451.1375, 2430.3157, 2480.349, 2492.1885,\n",
      "  2536.6885, 2568.5518, 2634.0823, 2652.7092, 2697.182, 2723.481]          ,\n",
      " [1725.8456, 2280.0027, 1335.1945, 1569.7296, 2011.984, 2336.0525, 2934.689,\n",
      "  2980.2092, 2989.0793, 2983.058, 2965.2898, 3082.156, 3090.8167, 3174.264,\n",
      "  3194.7698, 3157.011, 3188.4744, 3201.5862, 3183.3877, 3294.4617,\n",
      "  3468.7207, 3516.5208, 3422.767, 3508.4597, 3563.904, 3630.9026, 3684.5994,\n",
      "  3752.0208, 3815.2546, 3784.241, 3738.5256, 3847.2156]                     ,\n",
      " [2467.4238, 3095.5466, 1796.042, 2111.2092, 2919.8474, 3377.9175,\n",
      "  4249.4585, 4326.4136, 4241.145, 4101.5513, 3975.265, 4039.0, 4119.166,\n",
      "  4255.684, 4240.814, 4255.002, 4304.4116, 4231.6177, 4298.1255, 4346.492,\n",
      "  4324.61, 4342.8213, 4431.269, 4510.5815, 4430.9883, 4517.822, 4546.494,\n",
      "  4501.0664, 4580.452, 4813.6157, 5090.583, 5292.1685]                    ,\n",
      " [3575.9158, 4858.148, 2688.8442, 3291.4644, 4074.2505, 4768.3213, 5800.02,\n",
      "  6238.703, 6349.556, 6277.6636, 6527.495, 7022.8843, 7162.9185, 7328.179,\n",
      "  7490.513, 7524.6035, 7138.835, 7527.304, 8152.462, 8739.584, 8833.368,\n",
      "  8766.717, 8696.469, 8120.5513, 7927.764, 8051.2534, 8021.6885, 8012.088,\n",
      "  8122.18, 7909.5835, 8077.6196, 7985.2207]                                ,\n",
      " [4329.9956, 6201.5156, 3445.0422, 3920.1978, 5114.2134, 6104.056, 7579.706,\n",
      "  7430.449, 7703.137, 7952.221, 8138.3115, 7986.781, 8257.678, 8814.683,\n",
      "  8705.611, 8954.772, 9134.062, 9288.103, 9282.253, 10047.044, 10416.276,\n",
      "  10678.028, 11013.163, 11185.745, 11248.575, 11294.567, 11126.029,\n",
      "  10666.317, 11208.238, 11420.845, 11691.566, 11834.717]                    ,\n",
      " [6406.9546, 8709.14, 4916.8037, 5665.124, 7563.0527, 8607.806, 10783.169,\n",
      "  10541.845, 11208.88, 11260.986, 11822.683, 11548.015, 11618.608,\n",
      "  11720.844, 11862.374, 11643.8125, 12143.302, 12766.753, 12909.716,\n",
      "  12934.829, 13437.758, 13285.499, 12674.207, 12578.467, 12819.986,\n",
      "  12669.219, 13030.983, 13203.912, 13013.926, 12676.138, 12767.122,\n",
      "  12350.489]                                                              ,\n",
      " [7748.3765, 10228.867, 5858.3315, 6945.7812, 9205.774, 10358.476,\n",
      "  13040.156, 13204.91, 13310.388, 13140.535, 13276.389, 13363.473,\n",
      "  13457.185, 13301.858, 13237.97, 13261.8125, 13168.2, 13132.202, 13100.817,\n",
      "  13692.596, 13620.581, 13502.4375, 13397.622, 13157.881, 12706.022,\n",
      "  12712.882, 13007.905, 12326.292, 12053.588, 11975.582, 11991.617,\n",
      "  11420.092]                                                                ,\n",
      " [7213.686, 10071.144, 5699.144, 6923.0825, 8947.978, 10274.445, 12814.323,\n",
      "  12728.709, 12265.767, 12433.426, 12122.39, 12384.526]                    ]>\n"
     ]
    }
   ],
   "source": [
    "model_4_preds = make_preds(model_4,test_windows)\n",
    "print(model_4_preds)"
   ]
  },
  {
   "cell_type": "markdown",
   "metadata": {},
   "source": [
    "#### model5: LSTM model"
   ]
  },
  {
   "cell_type": "code",
   "execution_count": 125,
   "metadata": {},
   "outputs": [
    {
     "name": "stdout",
     "output_type": "stream",
     "text": [
      "Epoch 1/100\n",
      " 9/18 [==============>...............] - ETA: 0s - loss: 2940.1399 INFO:tensorflow:Assets written to: model_experiments\\model_5_LSTM\\assets\n"
     ]
    },
    {
     "name": "stderr",
     "output_type": "stream",
     "text": [
      "INFO:tensorflow:Assets written to: model_experiments\\model_5_LSTM\\assets\n"
     ]
    },
    {
     "name": "stdout",
     "output_type": "stream",
     "text": [
      "18/18 [==============================] - 5s 172ms/step - loss: 2790.0664 - val_loss: 13883.4141\n",
      "Epoch 2/100\n",
      "11/18 [=================>............] - ETA: 0s - loss: 1340.5457INFO:tensorflow:Assets written to: model_experiments\\model_5_LSTM\\assets\n"
     ]
    },
    {
     "name": "stderr",
     "output_type": "stream",
     "text": [
      "INFO:tensorflow:Assets written to: model_experiments\\model_5_LSTM\\assets\n"
     ]
    },
    {
     "name": "stdout",
     "output_type": "stream",
     "text": [
      "18/18 [==============================] - 3s 186ms/step - loss: 994.0948 - val_loss: 2501.0618\n",
      "Epoch 3/100\n",
      " 9/18 [==============>...............] - ETA: 0s - loss: 271.1219INFO:tensorflow:Assets written to: model_experiments\\model_5_LSTM\\assets\n"
     ]
    },
    {
     "name": "stderr",
     "output_type": "stream",
     "text": [
      "INFO:tensorflow:Assets written to: model_experiments\\model_5_LSTM\\assets\n"
     ]
    },
    {
     "name": "stdout",
     "output_type": "stream",
     "text": [
      "18/18 [==============================] - 3s 147ms/step - loss: 243.7948 - val_loss: 1033.9004\n",
      "Epoch 4/100\n",
      "18/18 [==============================] - ETA: 0s - loss: 171.5289INFO:tensorflow:Assets written to: model_experiments\\model_5_LSTM\\assets\n"
     ]
    },
    {
     "name": "stderr",
     "output_type": "stream",
     "text": [
      "INFO:tensorflow:Assets written to: model_experiments\\model_5_LSTM\\assets\n"
     ]
    },
    {
     "name": "stdout",
     "output_type": "stream",
     "text": [
      "18/18 [==============================] - 3s 149ms/step - loss: 171.5289 - val_loss: 936.2068\n",
      "Epoch 5/100\n",
      "10/18 [===============>..............] - ETA: 0s - loss: 170.3529INFO:tensorflow:Assets written to: model_experiments\\model_5_LSTM\\assets\n"
     ]
    },
    {
     "name": "stderr",
     "output_type": "stream",
     "text": [
      "INFO:tensorflow:Assets written to: model_experiments\\model_5_LSTM\\assets\n"
     ]
    },
    {
     "name": "stdout",
     "output_type": "stream",
     "text": [
      "18/18 [==============================] - 2s 143ms/step - loss: 165.4945 - val_loss: 882.1268\n",
      "Epoch 6/100\n",
      "18/18 [==============================] - 0s 8ms/step - loss: 162.9118 - val_loss: 891.7545\n",
      "Epoch 7/100\n",
      "11/18 [=================>............] - ETA: 0s - loss: 165.3654INFO:tensorflow:Assets written to: model_experiments\\model_5_LSTM\\assets\n"
     ]
    },
    {
     "name": "stderr",
     "output_type": "stream",
     "text": [
      "INFO:tensorflow:Assets written to: model_experiments\\model_5_LSTM\\assets\n"
     ]
    },
    {
     "name": "stdout",
     "output_type": "stream",
     "text": [
      "18/18 [==============================] - 3s 149ms/step - loss: 156.9251 - val_loss: 871.3217\n",
      "Epoch 8/100\n",
      "10/18 [===============>..............] - ETA: 0s - loss: 150.0358INFO:tensorflow:Assets written to: model_experiments\\model_5_LSTM\\assets\n"
     ]
    },
    {
     "name": "stderr",
     "output_type": "stream",
     "text": [
      "INFO:tensorflow:Assets written to: model_experiments\\model_5_LSTM\\assets\n"
     ]
    },
    {
     "name": "stdout",
     "output_type": "stream",
     "text": [
      "18/18 [==============================] - 3s 165ms/step - loss: 155.3330 - val_loss: 863.6330\n",
      "Epoch 9/100\n",
      " 9/18 [==============>...............] - ETA: 0s - loss: 157.4448INFO:tensorflow:Assets written to: model_experiments\\model_5_LSTM\\assets\n"
     ]
    },
    {
     "name": "stderr",
     "output_type": "stream",
     "text": [
      "INFO:tensorflow:Assets written to: model_experiments\\model_5_LSTM\\assets\n"
     ]
    },
    {
     "name": "stdout",
     "output_type": "stream",
     "text": [
      "18/18 [==============================] - 2s 142ms/step - loss: 161.0150 - val_loss: 854.3936\n",
      "Epoch 10/100\n",
      " 9/18 [==============>...............] - ETA: 0s - loss: 152.2153INFO:tensorflow:Assets written to: model_experiments\\model_5_LSTM\\assets\n"
     ]
    },
    {
     "name": "stderr",
     "output_type": "stream",
     "text": [
      "INFO:tensorflow:Assets written to: model_experiments\\model_5_LSTM\\assets\n"
     ]
    },
    {
     "name": "stdout",
     "output_type": "stream",
     "text": [
      "18/18 [==============================] - 2s 140ms/step - loss: 158.5360 - val_loss: 825.1851\n",
      "Epoch 11/100\n",
      "18/18 [==============================] - 0s 8ms/step - loss: 150.8459 - val_loss: 883.9131\n",
      "Epoch 12/100\n",
      "18/18 [==============================] - 0s 7ms/step - loss: 149.3547 - val_loss: 873.2693\n",
      "Epoch 13/100\n",
      "18/18 [==============================] - 0s 8ms/step - loss: 148.6148 - val_loss: 921.1221\n",
      "Epoch 14/100\n",
      "18/18 [==============================] - 0s 7ms/step - loss: 146.8928 - val_loss: 880.9414\n",
      "Epoch 15/100\n",
      "18/18 [==============================] - 0s 7ms/step - loss: 145.6631 - val_loss: 834.0490\n",
      "Epoch 16/100\n",
      "18/18 [==============================] - 0s 8ms/step - loss: 141.8471 - val_loss: 852.8331\n",
      "Epoch 17/100\n",
      "18/18 [==============================] - 0s 8ms/step - loss: 139.6298 - val_loss: 888.9899\n",
      "Epoch 18/100\n",
      "18/18 [==============================] - 0s 8ms/step - loss: 141.7408 - val_loss: 847.5252\n",
      "Epoch 19/100\n",
      "18/18 [==============================] - 0s 7ms/step - loss: 136.1798 - val_loss: 837.0934\n",
      "Epoch 20/100\n",
      "10/18 [===============>..............] - ETA: 0s - loss: 139.6011INFO:tensorflow:Assets written to: model_experiments\\model_5_LSTM\\assets\n"
     ]
    },
    {
     "name": "stderr",
     "output_type": "stream",
     "text": [
      "INFO:tensorflow:Assets written to: model_experiments\\model_5_LSTM\\assets\n"
     ]
    },
    {
     "name": "stdout",
     "output_type": "stream",
     "text": [
      "18/18 [==============================] - 2s 140ms/step - loss: 133.6413 - val_loss: 756.0925\n",
      "Epoch 21/100\n",
      "10/18 [===============>..............] - ETA: 0s - loss: 143.1981INFO:tensorflow:Assets written to: model_experiments\\model_5_LSTM\\assets\n"
     ]
    },
    {
     "name": "stderr",
     "output_type": "stream",
     "text": [
      "INFO:tensorflow:Assets written to: model_experiments\\model_5_LSTM\\assets\n"
     ]
    },
    {
     "name": "stdout",
     "output_type": "stream",
     "text": [
      "18/18 [==============================] - 2s 140ms/step - loss: 136.8965 - val_loss: 721.5074\n",
      "Epoch 22/100\n",
      "18/18 [==============================] - 0s 7ms/step - loss: 133.4709 - val_loss: 769.5690\n",
      "Epoch 23/100\n",
      "18/18 [==============================] - 0s 8ms/step - loss: 137.1118 - val_loss: 789.7805\n",
      "Epoch 24/100\n",
      "12/18 [===================>..........] - ETA: 0s - loss: 131.6217INFO:tensorflow:Assets written to: model_experiments\\model_5_LSTM\\assets\n"
     ]
    },
    {
     "name": "stderr",
     "output_type": "stream",
     "text": [
      "INFO:tensorflow:Assets written to: model_experiments\\model_5_LSTM\\assets\n"
     ]
    },
    {
     "name": "stdout",
     "output_type": "stream",
     "text": [
      "18/18 [==============================] - 3s 175ms/step - loss: 129.9760 - val_loss: 694.3135\n",
      "Epoch 25/100\n",
      "11/18 [=================>............] - ETA: 0s - loss: 134.2860INFO:tensorflow:Assets written to: model_experiments\\model_5_LSTM\\assets\n"
     ]
    },
    {
     "name": "stderr",
     "output_type": "stream",
     "text": [
      "INFO:tensorflow:Assets written to: model_experiments\\model_5_LSTM\\assets\n"
     ]
    },
    {
     "name": "stdout",
     "output_type": "stream",
     "text": [
      "18/18 [==============================] - 2s 142ms/step - loss: 127.2035 - val_loss: 686.4974\n",
      "Epoch 26/100\n",
      "12/18 [===================>..........] - ETA: 0s - loss: 128.1643INFO:tensorflow:Assets written to: model_experiments\\model_5_LSTM\\assets\n"
     ]
    },
    {
     "name": "stderr",
     "output_type": "stream",
     "text": [
      "INFO:tensorflow:Assets written to: model_experiments\\model_5_LSTM\\assets\n"
     ]
    },
    {
     "name": "stdout",
     "output_type": "stream",
     "text": [
      "18/18 [==============================] - 2s 139ms/step - loss: 128.9841 - val_loss: 679.0072\n",
      "Epoch 27/100\n",
      "18/18 [==============================] - 0s 7ms/step - loss: 128.7678 - val_loss: 682.4199\n",
      "Epoch 28/100\n",
      "14/18 [======================>.......] - ETA: 0s - loss: 122.0582INFO:tensorflow:Assets written to: model_experiments\\model_5_LSTM\\assets\n"
     ]
    },
    {
     "name": "stderr",
     "output_type": "stream",
     "text": [
      "INFO:tensorflow:Assets written to: model_experiments\\model_5_LSTM\\assets\n"
     ]
    },
    {
     "name": "stdout",
     "output_type": "stream",
     "text": [
      "18/18 [==============================] - 2s 144ms/step - loss: 124.1768 - val_loss: 670.7614\n",
      "Epoch 29/100\n",
      "18/18 [==============================] - 0s 6ms/step - loss: 122.8229 - val_loss: 673.0689\n",
      "Epoch 30/100\n",
      "11/18 [=================>............] - ETA: 0s - loss: 122.8136INFO:tensorflow:Assets written to: model_experiments\\model_5_LSTM\\assets\n"
     ]
    },
    {
     "name": "stderr",
     "output_type": "stream",
     "text": [
      "INFO:tensorflow:Assets written to: model_experiments\\model_5_LSTM\\assets\n"
     ]
    },
    {
     "name": "stdout",
     "output_type": "stream",
     "text": [
      "18/18 [==============================] - 2s 138ms/step - loss: 128.5844 - val_loss: 653.3566\n",
      "Epoch 31/100\n",
      " 9/18 [==============>...............] - ETA: 0s - loss: 125.3129INFO:tensorflow:Assets written to: model_experiments\\model_5_LSTM\\assets\n"
     ]
    },
    {
     "name": "stderr",
     "output_type": "stream",
     "text": [
      "INFO:tensorflow:Assets written to: model_experiments\\model_5_LSTM\\assets\n"
     ]
    },
    {
     "name": "stdout",
     "output_type": "stream",
     "text": [
      "18/18 [==============================] - 3s 169ms/step - loss: 121.4124 - val_loss: 650.0056\n",
      "Epoch 32/100\n",
      "18/18 [==============================] - 0s 6ms/step - loss: 121.0493 - val_loss: 663.9286\n",
      "Epoch 33/100\n",
      "18/18 [==============================] - 0s 6ms/step - loss: 120.9423 - val_loss: 700.3755\n",
      "Epoch 34/100\n",
      "12/18 [===================>..........] - ETA: 0s - loss: 127.2116INFO:tensorflow:Assets written to: model_experiments\\model_5_LSTM\\assets\n"
     ]
    },
    {
     "name": "stderr",
     "output_type": "stream",
     "text": [
      "INFO:tensorflow:Assets written to: model_experiments\\model_5_LSTM\\assets\n"
     ]
    },
    {
     "name": "stdout",
     "output_type": "stream",
     "text": [
      "18/18 [==============================] - 3s 148ms/step - loss: 122.4637 - val_loss: 644.8860\n",
      "Epoch 35/100\n",
      "11/18 [=================>............] - ETA: 0s - loss: 123.4558INFO:tensorflow:Assets written to: model_experiments\\model_5_LSTM\\assets\n"
     ]
    },
    {
     "name": "stderr",
     "output_type": "stream",
     "text": [
      "INFO:tensorflow:Assets written to: model_experiments\\model_5_LSTM\\assets\n"
     ]
    },
    {
     "name": "stdout",
     "output_type": "stream",
     "text": [
      "18/18 [==============================] - 2s 141ms/step - loss: 118.2080 - val_loss: 634.8040\n",
      "Epoch 36/100\n",
      "18/18 [==============================] - 0s 7ms/step - loss: 119.7905 - val_loss: 644.5367\n",
      "Epoch 37/100\n",
      "18/18 [==============================] - 0s 7ms/step - loss: 119.9932 - val_loss: 653.2116\n",
      "Epoch 38/100\n",
      "18/18 [==============================] - 0s 7ms/step - loss: 119.7816 - val_loss: 696.0590\n",
      "Epoch 39/100\n",
      "11/18 [=================>............] - ETA: 0s - loss: 126.9393INFO:tensorflow:Assets written to: model_experiments\\model_5_LSTM\\assets\n"
     ]
    },
    {
     "name": "stderr",
     "output_type": "stream",
     "text": [
      "INFO:tensorflow:Assets written to: model_experiments\\model_5_LSTM\\assets\n"
     ]
    },
    {
     "name": "stdout",
     "output_type": "stream",
     "text": [
      "18/18 [==============================] - 2s 141ms/step - loss: 121.9785 - val_loss: 627.2224\n",
      "Epoch 40/100\n",
      "10/18 [===============>..............] - ETA: 0s - loss: 116.8724INFO:tensorflow:Assets written to: model_experiments\\model_5_LSTM\\assets\n"
     ]
    },
    {
     "name": "stderr",
     "output_type": "stream",
     "text": [
      "INFO:tensorflow:Assets written to: model_experiments\\model_5_LSTM\\assets\n"
     ]
    },
    {
     "name": "stdout",
     "output_type": "stream",
     "text": [
      "18/18 [==============================] - 2s 142ms/step - loss: 116.8381 - val_loss: 622.4563\n",
      "Epoch 41/100\n",
      "10/18 [===============>..............] - ETA: 0s - loss: 122.0965INFO:tensorflow:Assets written to: model_experiments\\model_5_LSTM\\assets\n"
     ]
    },
    {
     "name": "stderr",
     "output_type": "stream",
     "text": [
      "INFO:tensorflow:Assets written to: model_experiments\\model_5_LSTM\\assets\n"
     ]
    },
    {
     "name": "stdout",
     "output_type": "stream",
     "text": [
      "18/18 [==============================] - 3s 166ms/step - loss: 115.5755 - val_loss: 614.2148\n",
      "Epoch 42/100\n",
      "18/18 [==============================] - 0s 7ms/step - loss: 126.0075 - val_loss: 626.2667\n",
      "Epoch 43/100\n",
      "18/18 [==============================] - 0s 6ms/step - loss: 119.5647 - val_loss: 669.9777\n",
      "Epoch 44/100\n",
      "18/18 [==============================] - 0s 7ms/step - loss: 120.0040 - val_loss: 627.0536\n",
      "Epoch 45/100\n",
      "18/18 [==============================] - 0s 7ms/step - loss: 116.7522 - val_loss: 756.5447\n",
      "Epoch 46/100\n",
      "18/18 [==============================] - 0s 6ms/step - loss: 119.2278 - val_loss: 694.6859\n",
      "Epoch 47/100\n",
      "13/18 [====================>.........] - ETA: 0s - loss: 114.8264INFO:tensorflow:Assets written to: model_experiments\\model_5_LSTM\\assets\n"
     ]
    },
    {
     "name": "stderr",
     "output_type": "stream",
     "text": [
      "INFO:tensorflow:Assets written to: model_experiments\\model_5_LSTM\\assets\n"
     ]
    },
    {
     "name": "stdout",
     "output_type": "stream",
     "text": [
      "18/18 [==============================] - 2s 142ms/step - loss: 120.1025 - val_loss: 607.4815\n",
      "Epoch 48/100\n",
      "18/18 [==============================] - 0s 8ms/step - loss: 115.2132 - val_loss: 671.2298\n",
      "Epoch 49/100\n",
      "18/18 [==============================] - 0s 7ms/step - loss: 121.0699 - val_loss: 635.7970\n",
      "Epoch 50/100\n",
      "18/18 [==============================] - 0s 8ms/step - loss: 126.0769 - val_loss: 622.2687\n",
      "Epoch 51/100\n",
      " 9/18 [==============>...............] - ETA: 0s - loss: 111.6793INFO:tensorflow:Assets written to: model_experiments\\model_5_LSTM\\assets\n"
     ]
    },
    {
     "name": "stderr",
     "output_type": "stream",
     "text": [
      "INFO:tensorflow:Assets written to: model_experiments\\model_5_LSTM\\assets\n"
     ]
    },
    {
     "name": "stdout",
     "output_type": "stream",
     "text": [
      "18/18 [==============================] - 2s 147ms/step - loss: 114.5261 - val_loss: 599.1331\n",
      "Epoch 52/100\n",
      "10/18 [===============>..............] - ETA: 0s - loss: 118.6266INFO:tensorflow:Assets written to: model_experiments\\model_5_LSTM\\assets\n"
     ]
    },
    {
     "name": "stderr",
     "output_type": "stream",
     "text": [
      "INFO:tensorflow:Assets written to: model_experiments\\model_5_LSTM\\assets\n"
     ]
    },
    {
     "name": "stdout",
     "output_type": "stream",
     "text": [
      "18/18 [==============================] - 2s 143ms/step - loss: 116.6458 - val_loss: 596.4220\n",
      "Epoch 53/100\n",
      " 9/18 [==============>...............] - ETA: 0s - loss: 113.2480INFO:tensorflow:Assets written to: model_experiments\\model_5_LSTM\\assets\n"
     ]
    },
    {
     "name": "stderr",
     "output_type": "stream",
     "text": [
      "INFO:tensorflow:Assets written to: model_experiments\\model_5_LSTM\\assets\n"
     ]
    },
    {
     "name": "stdout",
     "output_type": "stream",
     "text": [
      "18/18 [==============================] - 2s 141ms/step - loss: 114.6821 - val_loss: 595.0778\n",
      "Epoch 54/100\n",
      "18/18 [==============================] - 0s 7ms/step - loss: 113.9140 - val_loss: 630.1237\n",
      "Epoch 55/100\n",
      "18/18 [==============================] - 0s 6ms/step - loss: 117.5645 - val_loss: 698.5482\n",
      "Epoch 56/100\n",
      "18/18 [==============================] - 0s 7ms/step - loss: 121.1533 - val_loss: 875.7644\n",
      "Epoch 57/100\n",
      "18/18 [==============================] - 0s 7ms/step - loss: 135.8505 - val_loss: 702.9233\n",
      "Epoch 58/100\n",
      "18/18 [==============================] - 0s 7ms/step - loss: 122.0884 - val_loss: 716.9055\n",
      "Epoch 59/100\n",
      "18/18 [==============================] - 0s 7ms/step - loss: 120.9666 - val_loss: 669.5834\n",
      "Epoch 60/100\n",
      "18/18 [==============================] - 0s 7ms/step - loss: 119.1301 - val_loss: 717.3719\n",
      "Epoch 61/100\n",
      "10/18 [===============>..............] - ETA: 0s - loss: 115.0427INFO:tensorflow:Assets written to: model_experiments\\model_5_LSTM\\assets\n"
     ]
    },
    {
     "name": "stderr",
     "output_type": "stream",
     "text": [
      "INFO:tensorflow:Assets written to: model_experiments\\model_5_LSTM\\assets\n"
     ]
    },
    {
     "name": "stdout",
     "output_type": "stream",
     "text": [
      "18/18 [==============================] - 2s 142ms/step - loss: 121.2088 - val_loss: 591.9951\n",
      "Epoch 62/100\n",
      "18/18 [==============================] - 0s 8ms/step - loss: 113.0960 - val_loss: 592.5696\n",
      "Epoch 63/100\n",
      "18/18 [==============================] - 0s 6ms/step - loss: 114.1441 - val_loss: 598.0701\n",
      "Epoch 64/100\n",
      "18/18 [==============================] - 0s 6ms/step - loss: 111.6636 - val_loss: 599.6765\n",
      "Epoch 65/100\n",
      "18/18 [==============================] - 0s 6ms/step - loss: 115.1208 - val_loss: 603.5010\n",
      "Epoch 66/100\n",
      "18/18 [==============================] - 0s 7ms/step - loss: 111.8370 - val_loss: 595.6779\n",
      "Epoch 67/100\n",
      "18/18 [==============================] - 0s 7ms/step - loss: 111.5435 - val_loss: 662.3499\n",
      "Epoch 68/100\n",
      "12/18 [===================>..........] - ETA: 0s - loss: 107.4932INFO:tensorflow:Assets written to: model_experiments\\model_5_LSTM\\assets\n"
     ]
    },
    {
     "name": "stderr",
     "output_type": "stream",
     "text": [
      "INFO:tensorflow:Assets written to: model_experiments\\model_5_LSTM\\assets\n"
     ]
    },
    {
     "name": "stdout",
     "output_type": "stream",
     "text": [
      "18/18 [==============================] - 3s 171ms/step - loss: 109.4207 - val_loss: 583.0828\n",
      "Epoch 69/100\n",
      "18/18 [==============================] - 0s 8ms/step - loss: 111.0128 - val_loss: 626.1077\n",
      "Epoch 70/100\n",
      "18/18 [==============================] - 0s 6ms/step - loss: 120.3047 - val_loss: 634.6268\n",
      "Epoch 71/100\n",
      "10/18 [===============>..............] - ETA: 0s - loss: 108.9443INFO:tensorflow:Assets written to: model_experiments\\model_5_LSTM\\assets\n"
     ]
    },
    {
     "name": "stderr",
     "output_type": "stream",
     "text": [
      "INFO:tensorflow:Assets written to: model_experiments\\model_5_LSTM\\assets\n"
     ]
    },
    {
     "name": "stdout",
     "output_type": "stream",
     "text": [
      "18/18 [==============================] - 2s 146ms/step - loss: 110.9082 - val_loss: 582.1257\n",
      "Epoch 72/100\n",
      "18/18 [==============================] - 0s 7ms/step - loss: 114.8312 - val_loss: 605.2203\n",
      "Epoch 73/100\n",
      "18/18 [==============================] - 0s 7ms/step - loss: 117.1466 - val_loss: 596.4053\n",
      "Epoch 74/100\n",
      "18/18 [==============================] - 0s 8ms/step - loss: 115.5877 - val_loss: 598.2015\n",
      "Epoch 75/100\n",
      "18/18 [==============================] - 0s 8ms/step - loss: 113.0000 - val_loss: 585.0117\n",
      "Epoch 76/100\n",
      "18/18 [==============================] - 0s 7ms/step - loss: 114.2620 - val_loss: 582.6282\n",
      "Epoch 77/100\n",
      "12/18 [===================>..........] - ETA: 0s - loss: 113.6021INFO:tensorflow:Assets written to: model_experiments\\model_5_LSTM\\assets\n"
     ]
    },
    {
     "name": "stderr",
     "output_type": "stream",
     "text": [
      "INFO:tensorflow:Assets written to: model_experiments\\model_5_LSTM\\assets\n"
     ]
    },
    {
     "name": "stdout",
     "output_type": "stream",
     "text": [
      "18/18 [==============================] - 2s 142ms/step - loss: 109.9421 - val_loss: 581.9948\n",
      "Epoch 78/100\n",
      "18/18 [==============================] - 0s 7ms/step - loss: 111.7455 - val_loss: 582.3353\n",
      "Epoch 79/100\n",
      "18/18 [==============================] - 0s 7ms/step - loss: 109.8603 - val_loss: 589.8334\n",
      "Epoch 80/100\n",
      "18/18 [==============================] - 0s 7ms/step - loss: 111.2495 - val_loss: 591.8150\n",
      "Epoch 81/100\n",
      "18/18 [==============================] - 0s 7ms/step - loss: 111.6475 - val_loss: 658.8079\n",
      "Epoch 82/100\n",
      "18/18 [==============================] - 0s 7ms/step - loss: 118.1843 - val_loss: 843.8159\n",
      "Epoch 83/100\n",
      "18/18 [==============================] - 0s 7ms/step - loss: 135.9984 - val_loss: 614.0529\n",
      "Epoch 84/100\n",
      "18/18 [==============================] - 0s 7ms/step - loss: 117.2733 - val_loss: 599.0408\n",
      "Epoch 85/100\n",
      "18/18 [==============================] - 0s 7ms/step - loss: 109.4478 - val_loss: 582.8848\n",
      "Epoch 86/100\n",
      "11/18 [=================>............] - ETA: 0s - loss: 103.6978INFO:tensorflow:Assets written to: model_experiments\\model_5_LSTM\\assets\n"
     ]
    },
    {
     "name": "stderr",
     "output_type": "stream",
     "text": [
      "INFO:tensorflow:Assets written to: model_experiments\\model_5_LSTM\\assets\n"
     ]
    },
    {
     "name": "stdout",
     "output_type": "stream",
     "text": [
      "18/18 [==============================] - 2s 140ms/step - loss: 108.5757 - val_loss: 579.2594\n",
      "Epoch 87/100\n",
      "18/18 [==============================] - 0s 9ms/step - loss: 110.1927 - val_loss: 626.9571\n",
      "Epoch 88/100\n",
      "18/18 [==============================] - 0s 7ms/step - loss: 110.0689 - val_loss: 601.4852\n",
      "Epoch 89/100\n",
      " 9/18 [==============>...............] - ETA: 0s - loss: 102.7302INFO:tensorflow:Assets written to: model_experiments\\model_5_LSTM\\assets\n"
     ]
    },
    {
     "name": "stderr",
     "output_type": "stream",
     "text": [
      "INFO:tensorflow:Assets written to: model_experiments\\model_5_LSTM\\assets\n"
     ]
    },
    {
     "name": "stdout",
     "output_type": "stream",
     "text": [
      "18/18 [==============================] - 2s 141ms/step - loss: 109.4810 - val_loss: 573.4832\n",
      "Epoch 90/100\n",
      "18/18 [==============================] - 0s 8ms/step - loss: 108.0387 - val_loss: 578.3806\n",
      "Epoch 91/100\n",
      "18/18 [==============================] - 0s 7ms/step - loss: 115.6968 - val_loss: 612.9616\n",
      "Epoch 92/100\n",
      "10/18 [===============>..............] - ETA: 0s - loss: 112.5250INFO:tensorflow:Assets written to: model_experiments\\model_5_LSTM\\assets\n"
     ]
    },
    {
     "name": "stderr",
     "output_type": "stream",
     "text": [
      "INFO:tensorflow:Assets written to: model_experiments\\model_5_LSTM\\assets\n"
     ]
    },
    {
     "name": "stdout",
     "output_type": "stream",
     "text": [
      "18/18 [==============================] - 3s 167ms/step - loss: 115.4334 - val_loss: 573.3516\n",
      "Epoch 93/100\n",
      "10/18 [===============>..............] - ETA: 0s - loss: 119.5828INFO:tensorflow:Assets written to: model_experiments\\model_5_LSTM\\assets\n"
     ]
    },
    {
     "name": "stderr",
     "output_type": "stream",
     "text": [
      "INFO:tensorflow:Assets written to: model_experiments\\model_5_LSTM\\assets\n"
     ]
    },
    {
     "name": "stdout",
     "output_type": "stream",
     "text": [
      "18/18 [==============================] - 2s 140ms/step - loss: 120.4864 - val_loss: 569.4359\n",
      "Epoch 94/100\n",
      "18/18 [==============================] - 0s 8ms/step - loss: 115.6457 - val_loss: 573.9847\n",
      "Epoch 95/100\n",
      "16/18 [=========================>....] - ETA: 0s - loss: 105.1035INFO:tensorflow:Assets written to: model_experiments\\model_5_LSTM\\assets\n"
     ]
    },
    {
     "name": "stderr",
     "output_type": "stream",
     "text": [
      "INFO:tensorflow:Assets written to: model_experiments\\model_5_LSTM\\assets\n"
     ]
    },
    {
     "name": "stdout",
     "output_type": "stream",
     "text": [
      "18/18 [==============================] - 3s 152ms/step - loss: 107.3026 - val_loss: 567.2939\n",
      "Epoch 96/100\n",
      "18/18 [==============================] - 0s 8ms/step - loss: 112.4107 - val_loss: 579.7502\n",
      "Epoch 97/100\n",
      "18/18 [==============================] - 0s 7ms/step - loss: 109.7213 - val_loss: 572.2081\n",
      "Epoch 98/100\n",
      "18/18 [==============================] - 0s 7ms/step - loss: 107.8130 - val_loss: 570.7009\n",
      "Epoch 99/100\n",
      "18/18 [==============================] - 0s 6ms/step - loss: 109.4591 - val_loss: 568.9641\n",
      "Epoch 100/100\n",
      "18/18 [==============================] - 0s 7ms/step - loss: 108.6539 - val_loss: 569.4341\n"
     ]
    },
    {
     "data": {
      "text/plain": [
       "<keras.src.callbacks.History at 0x23a33809b50>"
      ]
     },
     "execution_count": 125,
     "metadata": {},
     "output_type": "execute_result"
    }
   ],
   "source": [
    "tf.random.set_seed(42)\n",
    "\n",
    "#Let's build an LSTM model with the functional API\n",
    "inputs = layers.Input(shape = WINDOW_SIZE)\n",
    "\n",
    "x = layers.Lambda(lambda x: tf.expand_dims(x, axis = 1))(inputs)\n",
    "\n",
    "x = layers.LSTM(128, return_sequences = True, activation = 'relu')(x)\n",
    "\n",
    "x = layers.LSTM(128, activation = 'relu')(x)\n",
    "\n",
    "x = layers.Dense(32, activation = 'relu')(x)\n",
    "\n",
    "output = layers.Dense(HORIZON)(x)\n",
    "\n",
    "model_5 = tf.keras.Model(inputs = inputs,\n",
    "                         outputs = output,\n",
    "                         name = \"model_5_LSTM\")\n",
    "\n",
    "#compile\n",
    "model_5.compile(loss = 'mae',\n",
    "                optimizer = tf.keras.optimizers.Adam())\n",
    "\n",
    "#fit\n",
    "model_5.fit(train_windows,\n",
    "            train_labels,\n",
    "            epochs = 100,\n",
    "            verbose = 1,\n",
    "            batch_size = 128,\n",
    "            validation_data = (test_windows, test_labels),\n",
    "            callbacks = [create_model_checkpoint(model_name = model_5.name)])"
   ]
  },
  {
   "cell_type": "code",
   "execution_count": 126,
   "metadata": {},
   "outputs": [
    {
     "name": "stdout",
     "output_type": "stream",
     "text": [
      "Model: \"model_5_LSTM\"\n",
      "_________________________________________________________________\n",
      " Layer (type)                Output Shape              Param #   \n",
      "=================================================================\n",
      " input_1 (InputLayer)        [(None, 7)]               0         \n",
      "                                                                 \n",
      " lambda_2 (Lambda)           (None, 1, 7)              0         \n",
      "                                                                 \n",
      " lstm (LSTM)                 (None, 1, 128)            69632     \n",
      "                                                                 \n",
      " lstm_1 (LSTM)               (None, 128)               131584    \n",
      "                                                                 \n",
      " dense_8 (Dense)             (None, 32)                4128      \n",
      "                                                                 \n",
      " dense_9 (Dense)             (None, 1)                 33        \n",
      "                                                                 \n",
      "=================================================================\n",
      "Total params: 205377 (802.25 KB)\n",
      "Trainable params: 205377 (802.25 KB)\n",
      "Non-trainable params: 0 (0.00 Byte)\n",
      "_________________________________________________________________\n"
     ]
    }
   ],
   "source": [
    "model_5.summary()"
   ]
  },
  {
   "cell_type": "code",
   "execution_count": 127,
   "metadata": {},
   "outputs": [
    {
     "name": "stdout",
     "output_type": "stream",
     "text": [
      "18/18 [==============================] - 0s 3ms/step - loss: 569.4342\n"
     ]
    },
    {
     "data": {
      "text/plain": [
       "569.4342041015625"
      ]
     },
     "execution_count": 127,
     "metadata": {},
     "output_type": "execute_result"
    }
   ],
   "source": [
    "model_5.evaluate(test_windows, test_labels)"
   ]
  },
  {
   "cell_type": "code",
   "execution_count": 128,
   "metadata": {},
   "outputs": [
    {
     "name": "stdout",
     "output_type": "stream",
     "text": [
      "18/18 [==============================] - 0s 2ms/step - loss: 567.2938\n"
     ]
    },
    {
     "data": {
      "text/plain": [
       "567.2938232421875"
      ]
     },
     "execution_count": 128,
     "metadata": {},
     "output_type": "execute_result"
    }
   ],
   "source": [
    "#load in the best model\n",
    "model_5 = tf.keras.models.load_model(\"C:\\\\Users\\\\moham\\\\Downloads\\\\projects\\\\Bitcoin-Price-Timeforecasting\\\\model_experiments\\\\model_5_LSTM\")\n",
    "model_5.evaluate(test_windows, test_labels)"
   ]
  },
  {
   "cell_type": "code",
   "execution_count": 129,
   "metadata": {},
   "outputs": [
    {
     "name": "stdout",
     "output_type": "stream",
     "text": [
      "18/18 [==============================] - 0s 2ms/step\n"
     ]
    },
    {
     "data": {
      "text/plain": [
       "<tf.Tensor: shape=(5,), dtype=float32, numpy=array([8883.608, 8822.48 , 9015.046, 8767.846, 8794.715], dtype=float32)>"
      ]
     },
     "execution_count": 129,
     "metadata": {},
     "output_type": "execute_result"
    }
   ],
   "source": [
    "#make predictions\n",
    "model_5_preds = make_preds(model_5, test_windows)\n",
    "model_5_preds[:5]"
   ]
  },
  {
   "cell_type": "code",
   "execution_count": 130,
   "metadata": {},
   "outputs": [
    {
     "data": {
      "text/plain": [
       "{'mae': 567.29395,\n",
       " 'mse': 1161460.9,\n",
       " 'rmse': 1077.7109,\n",
       " 'mape': 2.5594962,\n",
       " 'mase': 0.99657834}"
      ]
     },
     "execution_count": 130,
     "metadata": {},
     "output_type": "execute_result"
    }
   ],
   "source": [
    "model_5_results = evaluate_preds(y_true = tf.squeeze(test_labels),\n",
    "                                   y_pred = model_5_preds)\n",
    "model_5_results"
   ]
  },
  {
   "cell_type": "code",
   "execution_count": 131,
   "metadata": {},
   "outputs": [
    {
     "name": "stderr",
     "output_type": "stream",
     "text": [
      "WARNING:matplotlib.legend:No artists with labels found to put in legend.  Note that artists whose label start with an underscore are ignored when legend() is called with no argument.\n",
      "WARNING:matplotlib.legend:No artists with labels found to put in legend.  Note that artists whose label start with an underscore are ignored when legend() is called with no argument.\n"
     ]
    },
    {
     "data": {
      "image/png": "[encoded data removed]",
      "text/plain": [
       "<Figure size 1000x700 with 1 Axes>"
      ]
     },
     "metadata": {},
     "output_type": "display_data"
    }
   ],
   "source": [
    "offset = 450\n",
    "plt.figure(figsize = (10, 7))\n",
    "#account for test_window offset when parsing\n",
    "plot_time_series(timesteps = x_test[-len(test_windows):],\n",
    "                 values = test_labels[:],\n",
    "                 start = offset,\n",
    "                 label = \"test_data\")\n",
    "\n",
    "plot_time_series(timesteps = x_test[-len(test_windows):],\n",
    "                 values = model_5_preds[:],\n",
    "                 start = offset,\n",
    "                 label = \"model_5_preds\")"
   ]
  },
  {
   "cell_type": "code",
   "execution_count": null,
   "metadata": {},
   "outputs": [],
   "source": []
  }
 ],
 "metadata": {
  "kernelspec": {
   "display_name": "base",
   "language": "python",
   "name": "python3"
  },
  "language_info": {
   "codemirror_mode": {
    "name": "ipython",
    "version": 3
   },
   "file_extension": ".py",
   "mimetype": "text/x-python",
   "name": "python",
   "nbconvert_exporter": "python",
   "pygments_lexer": "ipython3",
   "version": "3.11.5"
  }
 },
 "nbformat": 4,
 "nbformat_minor": 2
}
